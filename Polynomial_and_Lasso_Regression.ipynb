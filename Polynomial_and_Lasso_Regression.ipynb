{
 "cells": [
  {
   "cell_type": "code",
   "execution_count": 1,
   "metadata": {
    "deletable": false,
    "editable": false
   },
   "outputs": [],
   "source": [
    "# Initialize Otter\n",
    "import otter\n",
    "grader = otter.Notebook(\"cs109a_hw3.ipynb\")"
   ]
  },
  {
   "cell_type": "markdown",
   "metadata": {
    "tags": []
   },
   "source": [
    "# <img style=\"float: left; padding-right: 10px; width: 45px\" src=\"https://raw.githubusercontent.com/Harvard-IACS/2018-CS109A/master/content/styles/iacs.png\"> CS109A Introduction to Data Science: \n",
    "\n",
    "## Homework 3: Polynomial and LASSO Regression\n",
    "\n",
    "**Harvard University**<br/>\n",
    "**Fall 2022**<br/>\n",
    "**Instructors**: Pavlos Protopapas and Natesh Pillai\n",
    "\n",
    "<hr style=\"height:2.4pt\">"
   ]
  },
  {
   "cell_type": "code",
   "execution_count": 2,
   "metadata": {},
   "outputs": [
    {
     "data": {
      "text/html": [
       "<style>\n",
       "blockquote { background: #AEDE94; }\n",
       "h1 {\n",
       "    padding-top: 25px;\n",
       "    padding-bottom: 25px;\n",
       "    text-align: left;\n",
       "    padding-left: 10px;\n",
       "    background-color: #63ACBE;\n",
       "    color: black;\n",
       "}\n",
       "h2 {\n",
       "    padding-top: 10px;\n",
       "    padding-bottom: 10px;\n",
       "    text-align: left;\n",
       "    padding-left: 5px;\n",
       "    background-color: #EEEEEE;\n",
       "    color: black;\n",
       "}\n",
       "\n",
       "div.exercise {\n",
       "\tbackground-color: #f8b4ab;\n",
       "\tborder-color: #E9967A;\n",
       "\tborder-left: 5px solid #601A4A;\n",
       "\tpadding: 0.5em;\n",
       "}\n",
       "\n",
       "div.exercise-r {\n",
       "\tbackground-color: #ffd0d0;\n",
       "\tborder-color: #E9967A;\n",
       "\tborder-left: 5px solid #601A4A;\n",
       "\tpadding: 0.5em;\n",
       "}\n",
       "\n",
       "\n",
       "span.sub-q {\n",
       "\tfont-weight: bold;\n",
       "}\n",
       "div.theme {\n",
       "\tbackground-color: #63ACBE;\n",
       "\tborder-color: #E9967A;\n",
       "\tborder-left: 5px solid #601A4A;\n",
       "\tpadding: 0.5em;\n",
       "\tfont-size: 18pt;\n",
       "}\n",
       "div.gc {\n",
       "\tbackground-color: #AEDE94;\n",
       "\tborder-color: #E9967A;\n",
       "\tborder-left: 5px solid #601A4A;\n",
       "\tpadding: 0.5em;\n",
       "\tfont-size: 12pt;\n",
       "}\n",
       "p.q1 {\n",
       "    padding-top: 5px;\n",
       "    padding-bottom: 5px;\n",
       "    text-align: left;\n",
       "    padding-left: 5px;\n",
       "    background-color: #EEEEEE;\n",
       "    color: black;\n",
       "}\n",
       "header {\n",
       "   padding-top: 35px;\n",
       "    padding-bottom: 35px;\n",
       "    text-align: left;\n",
       "    padding-left: 10px;\n",
       "    background-color: #DDDDDD;\n",
       "    color: black;\n",
       "}\n",
       "span.emph {\n",
       "\tcolor: #601A4A;\n",
       "\tfont-weight: bold;\n",
       "}\n",
       "\n",
       "</style>\n"
      ],
      "text/plain": [
       "<IPython.core.display.HTML object>"
      ]
     },
     "execution_count": 2,
     "metadata": {},
     "output_type": "execute_result"
    }
   ],
   "source": [
    "# RUN THIS CELL \n",
    "import requests\n",
    "from IPython.core.display import HTML\n",
    "styles = requests.get(\n",
    "    \"https://raw.githubusercontent.com/Harvard-IACS/2021-CS109A/master/\"\n",
    "    \"themes/static/css/cs109.css\"\n",
    ").text\n",
    "HTML(styles)"
   ]
  },
  {
   "cell_type": "markdown",
   "metadata": {},
   "source": [
    "#### Instructions\n",
    "- To submit your assignment follow the instructions given in Canvas.\n",
    "- Plots should be legible and interpretable without having to refer to the code that generated them, including labels for the $x$- and $y$-axes as well as a descriptive title and/or legend when appropriate.\n",
    "- When asked to interpret a visualization, do not simply describe it (e.g., \"the curve has a steep slope up\"), but instead explain what you think the plot *means*.\n",
    "- The use of 'hard-coded' values to try and pass tests rather than solving problems programmatically will not receive credit.\n",
    "- The use of *extremely* inefficient or error-prone code (e.g., copy-pasting nearly identical commands rather than looping) may result in only partial credit.\n",
    "- We have tried to include all the libraries you may need to do the assignment in the imports cell provided below. Please get course staff approval before importing any additional 3rd party libraries.\n",
    "- Enable scrolling output on cells with very long output.\n",
    "- Feel free to add additional code or markdown cells as needed.\n",
    "- Ensure your code runs top to bottom without error and passes all tests by restarting the kernel and running all cells. This is how the notebook will be evaluated (note that this can take a few minutes). \n",
    "- **The notebook you submit must be run in order with all output visible**"
   ]
  },
  {
   "cell_type": "markdown",
   "metadata": {
    "cell_id": "3c67b69c-c35a-45ee-88ff-99c701edb0a0",
    "colab_type": "text",
    "id": "BlViDCbxVtbG"
   },
   "source": [
    "### Import Libraries"
   ]
  },
  {
   "cell_type": "code",
   "execution_count": 3,
   "metadata": {
    "cell_id": "c81fe721-9f10-4eec-b9a3-3a2534d1c3a2",
    "colab": {
     "base_uri": "https://localhost:8080/",
     "height": 71
    },
    "colab_type": "code",
    "id": "aQbflkbDOxbz",
    "outputId": "a93e76ad-1f12-45fa-ec35-7853e450a1ff"
   },
   "outputs": [],
   "source": [
    "from collections import Counter\n",
    "import math\n",
    "\n",
    "import matplotlib.pyplot as plt\n",
    "import numpy as np\n",
    "import pandas as pd\n",
    "import seaborn as sns\n",
    "from sklearn.linear_model import Lasso, LassoCV\n",
    "from sklearn.linear_model import LinearRegression\n",
    "from sklearn.metrics import mean_squared_error\n",
    "from sklearn.model_selection import cross_validate\n",
    "from sklearn.model_selection import train_test_split\n",
    "from sklearn.preprocessing import PolynomialFeatures\n",
    "from sklearn.utils import shuffle\n",
    "import warnings\n",
    "warnings.filterwarnings(\"ignore\", category=FutureWarning)\n",
    "\n",
    "\n",
    "from warnings import simplefilter\n",
    "from sklearn.exceptions import ConvergenceWarning\n",
    "simplefilter(\"ignore\", category=ConvergenceWarning)\n",
    "\n",
    "%matplotlib inline"
   ]
  },
  {
   "cell_type": "markdown",
   "metadata": {},
   "source": [
    "<a id=\"contents\"></a>\n",
    "\n",
    "## Notebook contents\n",
    "\n",
    "- [**Overview and data description**](#intro)\n",
    "\n",
    "\n",
    "- [**Question 1: Data visualization [5 pts]**](#part1)\n",
    "\n",
    "- [**Your Homework 3 roadmap**](#roadmap)\n",
    "\n",
    "\n",
    "- [**Question 2: Guesstimate the polynomial relationship [14 pts]**](#part2)\n",
    "\n",
    "- [**Question 3: Use a validation set to find the most promising polynomial relationship [12 pts]**](#part3)\n",
    "\n",
    "- [**Question 4: Finding the best model by k-fold cross validation [14 pts]**](#part4)\n",
    "\n",
    "- [**Question 5: Finding the most consistent model using k-fold cross validation with bootstraps [16 pts]**](#part5)\n",
    "\n",
    "- [**Question 6: Improving model consistency with LASSO regularization [33 pts]**](#part6)\n",
    "\n",
    "- [**Question 7: Analyze your best test MSEs for each section of the homework [6 pts]**](#part7)"
   ]
  },
  {
   "cell_type": "markdown",
   "metadata": {
    "cell_id": "21e9f773-e015-44ec-88c8-7f24b9a8191f",
    "colab_type": "text",
    "id": "Uo0FiNThV923"
   },
   "source": [
    "<a id=\"intro\"></a>\n",
    "\n",
    "## Overview and data description\n",
    "\n",
    "[Return to contents](#contents)\n",
    "\n",
    "### Predicting percentage change in bacteria populations given their spreading factor\n",
    "\n",
    "In this homework, we will explore polynomial regression for predicting a quantitative variable. Specifically, we will build regression models that can predict the percentage change in bacteria population after 4 hours based on their \"spreading factor\". These prediction models can be useful in clustering of a novel bacteria to any class. \n",
    "\n",
    "If the percentage of change in population is positive, this indicates that the size of the bacteria population has grown. One important factor to note is that the percentage change could be negative. This indicates that within the specified time frame, the population of the bacteria has decreased from its original size.\n",
    "\n",
    "The data set for this problem has already been split for you. You will find the train and test data sets in the files `data/bacteria_train.csv` and `data/bacteria_test.csv`, respectively. The first column in each file gives information about the change in percentage of the population and the second column contains the spreading factor of bacteria populations.\n",
    "\n",
    "\n",
    "### Problem Description\n",
    "\n",
    "We will predict the percentage change in population, given the spreading factor. For this exercise, we will consider the `Spreading_factor` to be our predictor variable and `Perc_population` to be our response variable. We will explore several different approaches, with mean squared error ($MSE$) as an evaluative criteria, for finding the best fit and most robust polynomial regression for modeling this relationship.\n"
   ]
  },
  {
   "cell_type": "markdown",
   "metadata": {
    "cell_id": "12fa439c-9984-44e4-a4f7-581a3e01d520",
    "colab_type": "text",
    "id": "Inn1d2Hv1pIK",
    "tags": []
   },
   "source": [
    "<a id=\"part1\"></a>\n",
    "\n",
    "## <div class='exercise'>Question 1: Data visualization [5 pts]</div> \n",
    "    \n",
    "[Return to contents](#contents)\n",
    "    "
   ]
  },
  {
   "cell_type": "markdown",
   "metadata": {},
   "source": [
    "<!-- BEGIN QUESTION -->\n",
    "\n",
    "<!-- BEGIN QUESTION -->\n",
    "\n",
    "<div class='exercise'><b>Q1.1</b></div>"
   ]
  },
  {
   "cell_type": "markdown",
   "metadata": {
    "cell_id": "12fa439c-9984-44e4-a4f7-581a3e01d520",
    "colab_type": "text",
    "id": "Inn1d2Hv1pIK",
    "jp-MarkdownHeadingCollapsed": true,
    "tags": []
   },
   "source": [
    "Generate a *well-labeled* scatter plot of the data points in the `bacteria_train.csv` file with the spreading factor on the $x$-axis and the percentage change on the $y$-axis.\n",
    "\n",
    "_Points:_ 3"
   ]
  },
  {
   "cell_type": "code",
   "execution_count": 4,
   "metadata": {
    "cell_id": "7e002b99-e7b2-4c64-af95-d9c7f031f476",
    "colab": {},
    "colab_type": "code",
    "id": "ENmKd_MY2B3C",
    "tags": []
   },
   "outputs": [],
   "source": [
    "bac_train = pd.read_csv('/Users/jamesliounis/Downloads/cs109a_hw3-2/data/bacteria_train.csv')\n",
    "bac_test = pd.read_csv('/Users/jamesliounis/Downloads/cs109a_hw3-2/data/bacteria_test.csv') # Will need later"
   ]
  },
  {
   "cell_type": "code",
   "execution_count": 5,
   "metadata": {
    "cell_id": "f5c595cd-3123-49c7-9688-7727f2653b70",
    "colab": {
     "base_uri": "https://localhost:8080/",
     "height": 279
    },
    "colab_type": "code",
    "id": "omqujmrs4PRg",
    "outputId": "d71d0b9a-e945-43b0-a80a-098b0eb27ae2",
    "tags": []
   },
   "outputs": [
    {
     "data": {
      "image/png": "[encoded data removed]",
      "text/plain": [
       "<Figure size 936x576 with 1 Axes>"
      ]
     },
     "metadata": {
      "needs_background": "light"
     },
     "output_type": "display_data"
    }
   ],
   "source": [
    "# We are told that the \"Perc_population\" column gives information about the change in percentage of the population\n",
    "# and that the \"Spreading_factor\" column contains the spreading factor of bacteria populations\n",
    "\n",
    "# We use Seaborn and Matplotlib to plot the scatter plot. \n",
    "\n",
    "plt.figure(figsize=(13,8))\n",
    "fig = sns.scatterplot(data=bac_train, x=\"Spreading_factor\", y=\"Perc_population\", )\n",
    "plt.title('Percentage change in population given the spreading factor')\n",
    "fig.set_ylabel('Percentage Change in Population')\n",
    "fig.set_xlabel('Spreading Factor');"
   ]
  },
  {
   "cell_type": "markdown",
   "metadata": {},
   "source": [
    "<!-- END QUESTION -->\n",
    "\n",
    "<!-- BEGIN QUESTION -->\n",
    "\n",
    "<!-- BEGIN QUESTION -->\n",
    "\n",
    "<div class='exercise'><b>Q1.2</b></div>"
   ]
  },
  {
   "cell_type": "markdown",
   "metadata": {
    "cell_id": "12fa439c-9984-44e4-a4f7-581a3e01d520",
    "colab_type": "text",
    "id": "Inn1d2Hv1pIK"
   },
   "source": [
    "Based on the graph above, is there any discernable relationship between the spreading factor and percentage change in population?\n",
    "\n",
    "_Points:_ 2"
   ]
  },
  {
   "cell_type": "markdown",
   "metadata": {},
   "source": [
    "There seems to be an overall positive correlation between the spreading factor and the percentage change in the population. However, we notice that this is mainly the case for positive spreading factors: these are generally associated with higher percentage changes in population than for negative spreading factors. In this case, the higher the spreading factor, the higher the percentage change in bacteria population. Inversely, negative spreading factors are generally associated with shrinking bacteria populations (represented by a certain clustering below the 0 threshold on the y-axis, which is a negative percentage change in population). \n",
    "\n",
    "This suggests a relationship more appropriately explained via a higher degree polynomial, particularly of second degree. This ie because the percentage change in population seems to increase more rapidly forr higher rates of the spreading factor. "
   ]
  },
  {
   "cell_type": "markdown",
   "metadata": {
    "cell_id": "58d06521-c4cf-4304-b68a-595205946e44",
    "tags": []
   },
   "source": [
    "<!-- END QUESTION -->\n",
    "\n",
    "<a id=\"roadmap\"></a>\n",
    "\n",
    "<hr style='height:2px'> \n",
    "\n",
    "## Your Homework 3 roadmap\n",
    "\n",
    "[Return to contents](#contents)\n",
    "\n",
    "**We will be following this roadmap for Question 2 through Question 6:**\n",
    "\n",
    "![](data/roadmap.png)\n"
   ]
  },
  {
   "cell_type": "markdown",
   "metadata": {
    "cell_id": "5c60cdd3-9885-4ac2-8144-635a481460f4",
    "tags": []
   },
   "source": [
    "<a id=\"part2\"></a>\n",
    "\n",
    "## <div class='exercise'>Question 2: Guesstimate the polynomial relationship [14 pts]</div> \n",
    "\n",
    "[Return to contents](#contents)"
   ]
  },
  {
   "cell_type": "markdown",
   "metadata": {},
   "source": [
    "<!-- BEGIN QUESTION -->\n",
    "\n",
    "<div class='exercise'><b>Q2.1</b></div>"
   ]
  },
  {
   "cell_type": "markdown",
   "metadata": {
    "cell_id": "5c60cdd3-9885-4ac2-8144-635a481460f4",
    "tags": []
   },
   "source": [
    "Based on your inspection in question 1, guesstimate the degree of the polynomial you believe would best fit the training while still generalizing well. Store this degree in the variable `guessed_deg`. \n",
    "\n",
    "Next, use `PolynomialFeatures()` to generate a design matrices of the guesstimated degree for the train and test data. Store these in `x_poly_train` and `x_poly_test`. **You should not include a bias in your design matrix.**\n",
    "\n",
    "_Points:_ 2"
   ]
  },
  {
   "cell_type": "code",
   "execution_count": 6,
   "metadata": {},
   "outputs": [],
   "source": [
    "# One may guess that the degree of the polynomial which would best fit the training data while still generalising\n",
    "# well is 2\n",
    "\n",
    "guessed_deg = 2"
   ]
  },
  {
   "cell_type": "code",
   "execution_count": 7,
   "metadata": {},
   "outputs": [],
   "source": [
    "include_bias = False \n",
    "\n",
    "# Extracting predictor from both columns as a numpy array and reshaping it in order to fit and transform it\n",
    "\n",
    "X_train = np.array(bac_train['Spreading_factor']).reshape(-1,1) \n",
    "X_test = np.array(bac_test['Spreading_factor']).reshape(-1,1)\n",
    "\n",
    "\n",
    "y_train = np.array(bac_train['Perc_population']).reshape(-1,1)\n",
    "y_test = np.array(bac_test['Perc_population']).reshape(-1,1)\n",
    "\n",
    "# create the polynomial terms\n",
    "poly = PolynomialFeatures(degree=guessed_deg, include_bias=include_bias)\n",
    "\n",
    "x_poly_train = poly.fit_transform(X_train)\n",
    "x_poly_test = poly.fit_transform(X_test)"
   ]
  },
  {
   "cell_type": "code",
   "execution_count": 8,
   "metadata": {},
   "outputs": [
    {
     "name": "stdout",
     "output_type": "stream",
     "text": [
      "(423, 2)\n",
      "(108, 2)\n"
     ]
    }
   ],
   "source": [
    "# We note that number of columns is equal to the guessed degree\n",
    "\n",
    "print(x_poly_train.shape)\n",
    "print(x_poly_test.shape)"
   ]
  },
  {
   "cell_type": "code",
   "execution_count": 9,
   "metadata": {
    "deletable": false,
    "editable": false
   },
   "outputs": [
    {
     "data": {
      "text/html": [
       "<p><strong><pre style='display: inline;'>q2.1</pre></strong> passed!</p>"
      ],
      "text/plain": [
       "q2.1 results: All test cases passed!"
      ]
     },
     "execution_count": 9,
     "metadata": {},
     "output_type": "execute_result"
    }
   ],
   "source": [
    "grader.check(\"q2.1\")"
   ]
  },
  {
   "cell_type": "markdown",
   "metadata": {},
   "source": [
    "<!-- BEGIN QUESTION -->\n",
    "\n",
    "<div class='exercise'><b>Q2.2</b></div>"
   ]
  },
  {
   "cell_type": "markdown",
   "metadata": {
    "cell_id": "5c60cdd3-9885-4ac2-8144-635a481460f4",
    "tags": []
   },
   "source": [
    "Fit a polynomial regression using scikit-learn's `LinearRegression()` on the training design matrix. \n",
    "\n",
    "To track and compare the performance of each of the models in this notebook, use a list of dictionaries called `results`.\n",
    "\n",
    "Each dictionary in this list will have the keys: 'model' (a string representing the question number where the model was fit), 'train_mse', and 'test_mse'.\n",
    "\n",
    "So, for this question, you will append a dictionary to `results` of the form:\n",
    "```python\n",
    "{'model': '2.2', 'train_mse': 2.6749 'test_mse': 2.734}\n",
    "```\n",
    "Note that your MSE scores will not be the same as those in the example dictionary.\n",
    "\n",
    "_Points:_ 2"
   ]
  },
  {
   "cell_type": "code",
   "execution_count": 10,
   "metadata": {
    "cell_id": "0c26d26f-a37c-4ed5-b0c9-6364abe9afca",
    "colab": {},
    "colab_type": "code",
    "id": "PEUA3tnZVYG_",
    "tags": []
   },
   "outputs": [
    {
     "data": {
      "text/plain": [
       "[{'model': '2.2',\n",
       "  'train_mse': 2.661715130324049,\n",
       "  'test_mse': 2.6748625754403093}]"
      ]
     },
     "execution_count": 10,
     "metadata": {},
     "output_type": "execute_result"
    }
   ],
   "source": [
    "# Fit a linear regression model\n",
    "\n",
    "\n",
    "# Instantiating the linear regression:\n",
    "\n",
    "fit_intercept = True # In this case, we fit intercept  \n",
    "linreg = LinearRegression(fit_intercept=fit_intercept)\n",
    "\n",
    "# Fitting a polynomial reression on the training design matrix and the training data:\n",
    "\n",
    "linreg.fit(x_poly_train, y_train)\n",
    "\n",
    "\n",
    "def get_metrics(model, name: str) -> dict:\n",
    "    d = {}\n",
    "    y_train_pred = model.predict(x_poly_train)\n",
    "    y_test_pred = model.predict(x_poly_test)\n",
    "    d['model'] = name\n",
    "    d['train_mse'] = mean_squared_error(y_train, y_train_pred)\n",
    "    d['test_mse'] = mean_squared_error(y_test, y_test_pred)\n",
    "    return d\n",
    "\n",
    "# Defining a results dictionary:\n",
    "\n",
    "results = [get_metrics(linreg, '2.2')]\n",
    "results"
   ]
  },
  {
   "cell_type": "code",
   "execution_count": 11,
   "metadata": {
    "deletable": false,
    "editable": false
   },
   "outputs": [
    {
     "data": {
      "text/html": [
       "<p><strong><pre style='display: inline;'>q2.2</pre></strong> passed!</p>"
      ],
      "text/plain": [
       "q2.2 results: All test cases passed!"
      ]
     },
     "execution_count": 11,
     "metadata": {},
     "output_type": "execute_result"
    }
   ],
   "source": [
    "grader.check(\"q2.2\")"
   ]
  },
  {
   "cell_type": "markdown",
   "metadata": {},
   "source": [
    "<!-- BEGIN QUESTION -->\n",
    "\n",
    "<!-- BEGIN QUESTION -->\n",
    "\n",
    "<div class='exercise'><b>Q2.3</b></div>"
   ]
  },
  {
   "cell_type": "markdown",
   "metadata": {
    "cell_id": "5c60cdd3-9885-4ac2-8144-635a481460f4",
    "tags": []
   },
   "source": [
    "- Create a plot showing both the train and test data, as well as your model's prediction curve.\n",
    "- Display `results` as a DataFrame.\n",
    "- Explain the rationale for your choice of degree (i.e. your \"guesstimation\") and comment on the fit of your model.\n",
    "  \n",
    "\n",
    "_Points:_ 3"
   ]
  },
  {
   "cell_type": "markdown",
   "metadata": {},
   "source": [
    "Upon examining the plot, the most likely approximation of the data would be a polynomial of second degree. \n",
    "This is because, the increase rate of \"Perc_population\" seems to have a quadratic relationship with \"Spreading_factor\" (one extremum visible). This significantly reduces the likelihood of a linear relationship as the growth rate in \"Perc_population\" is far from constant. This suggests that the growth rate (which is defined by the first derivative of the relating equation) depends on x. This is the characteristic of polynomial models. "
   ]
  },
  {
   "cell_type": "code",
   "execution_count": 12,
   "metadata": {},
   "outputs": [
    {
     "data": {
      "image/png": "[encoded data removed]",
      "text/plain": [
       "<Figure size 936x576 with 1 Axes>"
      ]
     },
     "metadata": {
      "needs_background": "light"
     },
     "output_type": "display_data"
    }
   ],
   "source": [
    "# We generate some data to predict on:\n",
    "\n",
    "x = np.linspace(min(float(X_train.min()), float(X_test.min())), max(float(X_train.max()), float(X_test.max())), 100)\n",
    "\n",
    "prediction = linreg.predict(\n",
    "    poly.transform(x.reshape(-1, 1))\n",
    ")\n",
    "\n",
    "\n",
    "plt.figure(figsize = (13,8))\n",
    "plt.scatter(x=X_train, y=y_train, color=\"r\", label=\"Training data\", alpha=0.5)\n",
    "plt.scatter(x=X_test, y=y_test, color=\"b\", label=\"Test data\", alpha=0.5)\n",
    "plt.plot(x, prediction, color=\"y\", label=f\"Prediction curve for Second degree polynomial\", linewidth=3)\n",
    "plt.xlabel(\"Spreading Factor\")\n",
    "plt.ylabel(\"% Population Change\")\n",
    "plt.legend()\n",
    "plt.suptitle(\"Prediction Curve for our Guesstimated model\");\n",
    "\n"
   ]
  },
  {
   "cell_type": "code",
   "execution_count": 13,
   "metadata": {
    "tags": []
   },
   "outputs": [
    {
     "data": {
      "text/html": [
       "<div>\n",
       "<style scoped>\n",
       "    .dataframe tbody tr th:only-of-type {\n",
       "        vertical-align: middle;\n",
       "    }\n",
       "\n",
       "    .dataframe tbody tr th {\n",
       "        vertical-align: top;\n",
       "    }\n",
       "\n",
       "    .dataframe thead th {\n",
       "        text-align: right;\n",
       "    }\n",
       "</style>\n",
       "<table border=\"1\" class=\"dataframe\">\n",
       "  <thead>\n",
       "    <tr style=\"text-align: right;\">\n",
       "      <th></th>\n",
       "      <th>train_mse</th>\n",
       "      <th>test_mse</th>\n",
       "    </tr>\n",
       "    <tr>\n",
       "      <th>model</th>\n",
       "      <th></th>\n",
       "      <th></th>\n",
       "    </tr>\n",
       "  </thead>\n",
       "  <tbody>\n",
       "    <tr>\n",
       "      <th>2.2</th>\n",
       "      <td>2.661715</td>\n",
       "      <td>2.674863</td>\n",
       "    </tr>\n",
       "  </tbody>\n",
       "</table>\n",
       "</div>"
      ],
      "text/plain": [
       "       train_mse  test_mse\n",
       "model                     \n",
       "2.2     2.661715  2.674863"
      ]
     },
     "execution_count": 13,
     "metadata": {},
     "output_type": "execute_result"
    }
   ],
   "source": [
    "# Storing the results as a DataFrame\n",
    "\n",
    "results_df = pd.DataFrame(results).set_index('model')\n",
    "results_df"
   ]
  },
  {
   "cell_type": "markdown",
   "metadata": {},
   "source": [
    "<!-- END QUESTION -->\n",
    "\n",
    "<!-- BEGIN QUESTION -->\n",
    "\n",
    "<!-- BEGIN QUESTION -->\n",
    "\n",
    "<div class='exercise'><b>Q2.4</b></div>"
   ]
  },
  {
   "cell_type": "markdown",
   "metadata": {
    "cell_id": "5c60cdd3-9885-4ac2-8144-635a481460f4",
    "tags": []
   },
   "source": [
    "Now we will compute confidence intervals for the coefficients generated by our model specification. For the same degree polynomial regression fit above in 2.2, compute and plot the 95% confidence interval of the beta (i.e. $\\beta$) values obtained in that regression model. Be certain to meet these primary requirements:\n",
    "- Report the coefficient values of the model fit above in 2.2.\n",
    "- Use bootstrapping to generate your 95% confidence intervals by refitting your model to each bootstrapped sample of your training data. You should use **100 bootstrapped samples**.\n",
    "- For each bootstrap, store the coefficients of the model, and use those stored coefficients to compute the $2.5$ and $97.5$ confidence bounds.\n",
    "- Plot the bootstrapped coefficients as a grid of histograms, one histogram for each $\\beta_i$, illustrating the distribution of bootstrapped coefficients for each $\\beta_i$. Each distribution should indicate the regions of 95% confidence. Use `plt.subplots(...)` to arrange your histograms as a grid of plots.\n",
    "- Comment on your findings.\n",
    "\n",
    "**REMEMBER:** Bootstrapped samples should always be the same size as the original data and sampled with replacement.\n",
    "\n",
    "_Points:_ 7"
   ]
  },
  {
   "cell_type": "markdown",
   "metadata": {},
   "source": [
    "Bootstrapping enabled us to report the confidence intervals for our betas. Recall the beta coefficients from the previous parts reported below, we realise that they lie within the determined confidence intervals. This enables us to say with 95% confidence that the true values of our betas lie within this interval."
   ]
  },
  {
   "cell_type": "code",
   "execution_count": 14,
   "metadata": {},
   "outputs": [
    {
     "name": "stdout",
     "output_type": "stream",
     "text": [
      "The coefficients that we obtain are: Beta_0: 1.5479189777983187 Beta_1: 1.9379680565747683 Beta_2: 0.7063789121219998\n"
     ]
    }
   ],
   "source": [
    "# Reporting coefficient values of model fit above:\n",
    "linreg.fit(x_poly_train, y_train)\n",
    "print(\"The coefficients that we obtain are: Beta_0:\", linreg.intercept_[0], \"Beta_1:\", linreg.coef_[0][0], 'Beta_2:',linreg.coef_[0][1])"
   ]
  },
  {
   "cell_type": "code",
   "execution_count": 15,
   "metadata": {},
   "outputs": [
    {
     "name": "stderr",
     "output_type": "stream",
     "text": [
      "/opt/anaconda3/lib/python3.9/site-packages/sklearn/base.py:443: UserWarning: X has feature names, but PolynomialFeatures was fitted without feature names\n",
      "  warnings.warn(\n",
      "/opt/anaconda3/lib/python3.9/site-packages/sklearn/base.py:443: UserWarning: X has feature names, but PolynomialFeatures was fitted without feature names\n",
      "  warnings.warn(\n",
      "/opt/anaconda3/lib/python3.9/site-packages/sklearn/base.py:443: UserWarning: X has feature names, but PolynomialFeatures was fitted without feature names\n",
      "  warnings.warn(\n",
      "/opt/anaconda3/lib/python3.9/site-packages/sklearn/base.py:443: UserWarning: X has feature names, but PolynomialFeatures was fitted without feature names\n",
      "  warnings.warn(\n",
      "/opt/anaconda3/lib/python3.9/site-packages/sklearn/base.py:443: UserWarning: X has feature names, but PolynomialFeatures was fitted without feature names\n",
      "  warnings.warn(\n",
      "/opt/anaconda3/lib/python3.9/site-packages/sklearn/base.py:443: UserWarning: X has feature names, but PolynomialFeatures was fitted without feature names\n",
      "  warnings.warn(\n",
      "/opt/anaconda3/lib/python3.9/site-packages/sklearn/base.py:443: UserWarning: X has feature names, but PolynomialFeatures was fitted without feature names\n",
      "  warnings.warn(\n",
      "/opt/anaconda3/lib/python3.9/site-packages/sklearn/base.py:443: UserWarning: X has feature names, but PolynomialFeatures was fitted without feature names\n",
      "  warnings.warn(\n",
      "/opt/anaconda3/lib/python3.9/site-packages/sklearn/base.py:443: UserWarning: X has feature names, but PolynomialFeatures was fitted without feature names\n",
      "  warnings.warn(\n",
      "/opt/anaconda3/lib/python3.9/site-packages/sklearn/base.py:443: UserWarning: X has feature names, but PolynomialFeatures was fitted without feature names\n",
      "  warnings.warn(\n",
      "/opt/anaconda3/lib/python3.9/site-packages/sklearn/base.py:443: UserWarning: X has feature names, but PolynomialFeatures was fitted without feature names\n",
      "  warnings.warn(\n",
      "/opt/anaconda3/lib/python3.9/site-packages/sklearn/base.py:443: UserWarning: X has feature names, but PolynomialFeatures was fitted without feature names\n",
      "  warnings.warn(\n",
      "/opt/anaconda3/lib/python3.9/site-packages/sklearn/base.py:443: UserWarning: X has feature names, but PolynomialFeatures was fitted without feature names\n",
      "  warnings.warn(\n",
      "/opt/anaconda3/lib/python3.9/site-packages/sklearn/base.py:443: UserWarning: X has feature names, but PolynomialFeatures was fitted without feature names\n",
      "  warnings.warn(\n",
      "/opt/anaconda3/lib/python3.9/site-packages/sklearn/base.py:443: UserWarning: X has feature names, but PolynomialFeatures was fitted without feature names\n",
      "  warnings.warn(\n",
      "/opt/anaconda3/lib/python3.9/site-packages/sklearn/base.py:443: UserWarning: X has feature names, but PolynomialFeatures was fitted without feature names\n",
      "  warnings.warn(\n",
      "/opt/anaconda3/lib/python3.9/site-packages/sklearn/base.py:443: UserWarning: X has feature names, but PolynomialFeatures was fitted without feature names\n",
      "  warnings.warn(\n",
      "/opt/anaconda3/lib/python3.9/site-packages/sklearn/base.py:443: UserWarning: X has feature names, but PolynomialFeatures was fitted without feature names\n",
      "  warnings.warn(\n",
      "/opt/anaconda3/lib/python3.9/site-packages/sklearn/base.py:443: UserWarning: X has feature names, but PolynomialFeatures was fitted without feature names\n",
      "  warnings.warn(\n",
      "/opt/anaconda3/lib/python3.9/site-packages/sklearn/base.py:443: UserWarning: X has feature names, but PolynomialFeatures was fitted without feature names\n",
      "  warnings.warn(\n",
      "/opt/anaconda3/lib/python3.9/site-packages/sklearn/base.py:443: UserWarning: X has feature names, but PolynomialFeatures was fitted without feature names\n",
      "  warnings.warn(\n",
      "/opt/anaconda3/lib/python3.9/site-packages/sklearn/base.py:443: UserWarning: X has feature names, but PolynomialFeatures was fitted without feature names\n",
      "  warnings.warn(\n",
      "/opt/anaconda3/lib/python3.9/site-packages/sklearn/base.py:443: UserWarning: X has feature names, but PolynomialFeatures was fitted without feature names\n",
      "  warnings.warn(\n",
      "/opt/anaconda3/lib/python3.9/site-packages/sklearn/base.py:443: UserWarning: X has feature names, but PolynomialFeatures was fitted without feature names\n",
      "  warnings.warn(\n",
      "/opt/anaconda3/lib/python3.9/site-packages/sklearn/base.py:443: UserWarning: X has feature names, but PolynomialFeatures was fitted without feature names\n",
      "  warnings.warn(\n",
      "/opt/anaconda3/lib/python3.9/site-packages/sklearn/base.py:443: UserWarning: X has feature names, but PolynomialFeatures was fitted without feature names\n",
      "  warnings.warn(\n",
      "/opt/anaconda3/lib/python3.9/site-packages/sklearn/base.py:443: UserWarning: X has feature names, but PolynomialFeatures was fitted without feature names\n",
      "  warnings.warn(\n",
      "/opt/anaconda3/lib/python3.9/site-packages/sklearn/base.py:443: UserWarning: X has feature names, but PolynomialFeatures was fitted without feature names\n",
      "  warnings.warn(\n",
      "/opt/anaconda3/lib/python3.9/site-packages/sklearn/base.py:443: UserWarning: X has feature names, but PolynomialFeatures was fitted without feature names\n",
      "  warnings.warn(\n",
      "/opt/anaconda3/lib/python3.9/site-packages/sklearn/base.py:443: UserWarning: X has feature names, but PolynomialFeatures was fitted without feature names\n",
      "  warnings.warn(\n",
      "/opt/anaconda3/lib/python3.9/site-packages/sklearn/base.py:443: UserWarning: X has feature names, but PolynomialFeatures was fitted without feature names\n",
      "  warnings.warn(\n",
      "/opt/anaconda3/lib/python3.9/site-packages/sklearn/base.py:443: UserWarning: X has feature names, but PolynomialFeatures was fitted without feature names\n",
      "  warnings.warn(\n",
      "/opt/anaconda3/lib/python3.9/site-packages/sklearn/base.py:443: UserWarning: X has feature names, but PolynomialFeatures was fitted without feature names\n",
      "  warnings.warn(\n",
      "/opt/anaconda3/lib/python3.9/site-packages/sklearn/base.py:443: UserWarning: X has feature names, but PolynomialFeatures was fitted without feature names\n",
      "  warnings.warn(\n",
      "/opt/anaconda3/lib/python3.9/site-packages/sklearn/base.py:443: UserWarning: X has feature names, but PolynomialFeatures was fitted without feature names\n",
      "  warnings.warn(\n",
      "/opt/anaconda3/lib/python3.9/site-packages/sklearn/base.py:443: UserWarning: X has feature names, but PolynomialFeatures was fitted without feature names\n",
      "  warnings.warn(\n",
      "/opt/anaconda3/lib/python3.9/site-packages/sklearn/base.py:443: UserWarning: X has feature names, but PolynomialFeatures was fitted without feature names\n",
      "  warnings.warn(\n",
      "/opt/anaconda3/lib/python3.9/site-packages/sklearn/base.py:443: UserWarning: X has feature names, but PolynomialFeatures was fitted without feature names\n",
      "  warnings.warn(\n",
      "/opt/anaconda3/lib/python3.9/site-packages/sklearn/base.py:443: UserWarning: X has feature names, but PolynomialFeatures was fitted without feature names\n",
      "  warnings.warn(\n",
      "/opt/anaconda3/lib/python3.9/site-packages/sklearn/base.py:443: UserWarning: X has feature names, but PolynomialFeatures was fitted without feature names\n",
      "  warnings.warn(\n",
      "/opt/anaconda3/lib/python3.9/site-packages/sklearn/base.py:443: UserWarning: X has feature names, but PolynomialFeatures was fitted without feature names\n",
      "  warnings.warn(\n",
      "/opt/anaconda3/lib/python3.9/site-packages/sklearn/base.py:443: UserWarning: X has feature names, but PolynomialFeatures was fitted without feature names\n",
      "  warnings.warn(\n",
      "/opt/anaconda3/lib/python3.9/site-packages/sklearn/base.py:443: UserWarning: X has feature names, but PolynomialFeatures was fitted without feature names\n",
      "  warnings.warn(\n",
      "/opt/anaconda3/lib/python3.9/site-packages/sklearn/base.py:443: UserWarning: X has feature names, but PolynomialFeatures was fitted without feature names\n",
      "  warnings.warn(\n",
      "/opt/anaconda3/lib/python3.9/site-packages/sklearn/base.py:443: UserWarning: X has feature names, but PolynomialFeatures was fitted without feature names\n",
      "  warnings.warn(\n",
      "/opt/anaconda3/lib/python3.9/site-packages/sklearn/base.py:443: UserWarning: X has feature names, but PolynomialFeatures was fitted without feature names\n",
      "  warnings.warn(\n",
      "/opt/anaconda3/lib/python3.9/site-packages/sklearn/base.py:443: UserWarning: X has feature names, but PolynomialFeatures was fitted without feature names\n",
      "  warnings.warn(\n",
      "/opt/anaconda3/lib/python3.9/site-packages/sklearn/base.py:443: UserWarning: X has feature names, but PolynomialFeatures was fitted without feature names\n",
      "  warnings.warn(\n",
      "/opt/anaconda3/lib/python3.9/site-packages/sklearn/base.py:443: UserWarning: X has feature names, but PolynomialFeatures was fitted without feature names\n",
      "  warnings.warn(\n",
      "/opt/anaconda3/lib/python3.9/site-packages/sklearn/base.py:443: UserWarning: X has feature names, but PolynomialFeatures was fitted without feature names\n",
      "  warnings.warn(\n",
      "/opt/anaconda3/lib/python3.9/site-packages/sklearn/base.py:443: UserWarning: X has feature names, but PolynomialFeatures was fitted without feature names\n",
      "  warnings.warn(\n",
      "/opt/anaconda3/lib/python3.9/site-packages/sklearn/base.py:443: UserWarning: X has feature names, but PolynomialFeatures was fitted without feature names\n",
      "  warnings.warn(\n",
      "/opt/anaconda3/lib/python3.9/site-packages/sklearn/base.py:443: UserWarning: X has feature names, but PolynomialFeatures was fitted without feature names\n",
      "  warnings.warn(\n",
      "/opt/anaconda3/lib/python3.9/site-packages/sklearn/base.py:443: UserWarning: X has feature names, but PolynomialFeatures was fitted without feature names\n",
      "  warnings.warn(\n",
      "/opt/anaconda3/lib/python3.9/site-packages/sklearn/base.py:443: UserWarning: X has feature names, but PolynomialFeatures was fitted without feature names\n",
      "  warnings.warn(\n",
      "/opt/anaconda3/lib/python3.9/site-packages/sklearn/base.py:443: UserWarning: X has feature names, but PolynomialFeatures was fitted without feature names\n",
      "  warnings.warn(\n",
      "/opt/anaconda3/lib/python3.9/site-packages/sklearn/base.py:443: UserWarning: X has feature names, but PolynomialFeatures was fitted without feature names\n",
      "  warnings.warn(\n",
      "/opt/anaconda3/lib/python3.9/site-packages/sklearn/base.py:443: UserWarning: X has feature names, but PolynomialFeatures was fitted without feature names\n",
      "  warnings.warn(\n",
      "/opt/anaconda3/lib/python3.9/site-packages/sklearn/base.py:443: UserWarning: X has feature names, but PolynomialFeatures was fitted without feature names\n",
      "  warnings.warn(\n",
      "/opt/anaconda3/lib/python3.9/site-packages/sklearn/base.py:443: UserWarning: X has feature names, but PolynomialFeatures was fitted without feature names\n",
      "  warnings.warn(\n",
      "/opt/anaconda3/lib/python3.9/site-packages/sklearn/base.py:443: UserWarning: X has feature names, but PolynomialFeatures was fitted without feature names\n",
      "  warnings.warn(\n",
      "/opt/anaconda3/lib/python3.9/site-packages/sklearn/base.py:443: UserWarning: X has feature names, but PolynomialFeatures was fitted without feature names\n",
      "  warnings.warn(\n",
      "/opt/anaconda3/lib/python3.9/site-packages/sklearn/base.py:443: UserWarning: X has feature names, but PolynomialFeatures was fitted without feature names\n",
      "  warnings.warn(\n",
      "/opt/anaconda3/lib/python3.9/site-packages/sklearn/base.py:443: UserWarning: X has feature names, but PolynomialFeatures was fitted without feature names\n",
      "  warnings.warn(\n",
      "/opt/anaconda3/lib/python3.9/site-packages/sklearn/base.py:443: UserWarning: X has feature names, but PolynomialFeatures was fitted without feature names\n",
      "  warnings.warn(\n",
      "/opt/anaconda3/lib/python3.9/site-packages/sklearn/base.py:443: UserWarning: X has feature names, but PolynomialFeatures was fitted without feature names\n",
      "  warnings.warn(\n",
      "/opt/anaconda3/lib/python3.9/site-packages/sklearn/base.py:443: UserWarning: X has feature names, but PolynomialFeatures was fitted without feature names\n",
      "  warnings.warn(\n",
      "/opt/anaconda3/lib/python3.9/site-packages/sklearn/base.py:443: UserWarning: X has feature names, but PolynomialFeatures was fitted without feature names\n",
      "  warnings.warn(\n",
      "/opt/anaconda3/lib/python3.9/site-packages/sklearn/base.py:443: UserWarning: X has feature names, but PolynomialFeatures was fitted without feature names\n",
      "  warnings.warn(\n",
      "/opt/anaconda3/lib/python3.9/site-packages/sklearn/base.py:443: UserWarning: X has feature names, but PolynomialFeatures was fitted without feature names\n",
      "  warnings.warn(\n",
      "/opt/anaconda3/lib/python3.9/site-packages/sklearn/base.py:443: UserWarning: X has feature names, but PolynomialFeatures was fitted without feature names\n",
      "  warnings.warn(\n",
      "/opt/anaconda3/lib/python3.9/site-packages/sklearn/base.py:443: UserWarning: X has feature names, but PolynomialFeatures was fitted without feature names\n",
      "  warnings.warn(\n",
      "/opt/anaconda3/lib/python3.9/site-packages/sklearn/base.py:443: UserWarning: X has feature names, but PolynomialFeatures was fitted without feature names\n",
      "  warnings.warn(\n",
      "/opt/anaconda3/lib/python3.9/site-packages/sklearn/base.py:443: UserWarning: X has feature names, but PolynomialFeatures was fitted without feature names\n",
      "  warnings.warn(\n",
      "/opt/anaconda3/lib/python3.9/site-packages/sklearn/base.py:443: UserWarning: X has feature names, but PolynomialFeatures was fitted without feature names\n",
      "  warnings.warn(\n",
      "/opt/anaconda3/lib/python3.9/site-packages/sklearn/base.py:443: UserWarning: X has feature names, but PolynomialFeatures was fitted without feature names\n",
      "  warnings.warn(\n",
      "/opt/anaconda3/lib/python3.9/site-packages/sklearn/base.py:443: UserWarning: X has feature names, but PolynomialFeatures was fitted without feature names\n",
      "  warnings.warn(\n",
      "/opt/anaconda3/lib/python3.9/site-packages/sklearn/base.py:443: UserWarning: X has feature names, but PolynomialFeatures was fitted without feature names\n",
      "  warnings.warn(\n",
      "/opt/anaconda3/lib/python3.9/site-packages/sklearn/base.py:443: UserWarning: X has feature names, but PolynomialFeatures was fitted without feature names\n",
      "  warnings.warn(\n",
      "/opt/anaconda3/lib/python3.9/site-packages/sklearn/base.py:443: UserWarning: X has feature names, but PolynomialFeatures was fitted without feature names\n",
      "  warnings.warn(\n",
      "/opt/anaconda3/lib/python3.9/site-packages/sklearn/base.py:443: UserWarning: X has feature names, but PolynomialFeatures was fitted without feature names\n",
      "  warnings.warn(\n",
      "/opt/anaconda3/lib/python3.9/site-packages/sklearn/base.py:443: UserWarning: X has feature names, but PolynomialFeatures was fitted without feature names\n",
      "  warnings.warn(\n",
      "/opt/anaconda3/lib/python3.9/site-packages/sklearn/base.py:443: UserWarning: X has feature names, but PolynomialFeatures was fitted without feature names\n",
      "  warnings.warn(\n",
      "/opt/anaconda3/lib/python3.9/site-packages/sklearn/base.py:443: UserWarning: X has feature names, but PolynomialFeatures was fitted without feature names\n",
      "  warnings.warn(\n",
      "/opt/anaconda3/lib/python3.9/site-packages/sklearn/base.py:443: UserWarning: X has feature names, but PolynomialFeatures was fitted without feature names\n",
      "  warnings.warn(\n",
      "/opt/anaconda3/lib/python3.9/site-packages/sklearn/base.py:443: UserWarning: X has feature names, but PolynomialFeatures was fitted without feature names\n",
      "  warnings.warn(\n",
      "/opt/anaconda3/lib/python3.9/site-packages/sklearn/base.py:443: UserWarning: X has feature names, but PolynomialFeatures was fitted without feature names\n",
      "  warnings.warn(\n",
      "/opt/anaconda3/lib/python3.9/site-packages/sklearn/base.py:443: UserWarning: X has feature names, but PolynomialFeatures was fitted without feature names\n",
      "  warnings.warn(\n"
     ]
    },
    {
     "name": "stderr",
     "output_type": "stream",
     "text": [
      "/opt/anaconda3/lib/python3.9/site-packages/sklearn/base.py:443: UserWarning: X has feature names, but PolynomialFeatures was fitted without feature names\n",
      "  warnings.warn(\n",
      "/opt/anaconda3/lib/python3.9/site-packages/sklearn/base.py:443: UserWarning: X has feature names, but PolynomialFeatures was fitted without feature names\n",
      "  warnings.warn(\n",
      "/opt/anaconda3/lib/python3.9/site-packages/sklearn/base.py:443: UserWarning: X has feature names, but PolynomialFeatures was fitted without feature names\n",
      "  warnings.warn(\n",
      "/opt/anaconda3/lib/python3.9/site-packages/sklearn/base.py:443: UserWarning: X has feature names, but PolynomialFeatures was fitted without feature names\n",
      "  warnings.warn(\n",
      "/opt/anaconda3/lib/python3.9/site-packages/sklearn/base.py:443: UserWarning: X has feature names, but PolynomialFeatures was fitted without feature names\n",
      "  warnings.warn(\n",
      "/opt/anaconda3/lib/python3.9/site-packages/sklearn/base.py:443: UserWarning: X has feature names, but PolynomialFeatures was fitted without feature names\n",
      "  warnings.warn(\n",
      "/opt/anaconda3/lib/python3.9/site-packages/sklearn/base.py:443: UserWarning: X has feature names, but PolynomialFeatures was fitted without feature names\n",
      "  warnings.warn(\n",
      "/opt/anaconda3/lib/python3.9/site-packages/sklearn/base.py:443: UserWarning: X has feature names, but PolynomialFeatures was fitted without feature names\n",
      "  warnings.warn(\n",
      "/opt/anaconda3/lib/python3.9/site-packages/sklearn/base.py:443: UserWarning: X has feature names, but PolynomialFeatures was fitted without feature names\n",
      "  warnings.warn(\n",
      "/opt/anaconda3/lib/python3.9/site-packages/sklearn/base.py:443: UserWarning: X has feature names, but PolynomialFeatures was fitted without feature names\n",
      "  warnings.warn(\n",
      "/opt/anaconda3/lib/python3.9/site-packages/sklearn/base.py:443: UserWarning: X has feature names, but PolynomialFeatures was fitted without feature names\n",
      "  warnings.warn(\n",
      "/opt/anaconda3/lib/python3.9/site-packages/sklearn/base.py:443: UserWarning: X has feature names, but PolynomialFeatures was fitted without feature names\n",
      "  warnings.warn(\n"
     ]
    }
   ],
   "source": [
    "# We need to create 100 bootstrapped samples and store the resulting coefficients in lists that we define below:\n",
    "\n",
    "n_boots = 100\n",
    "beta_0s = []\n",
    "beta_1s = []\n",
    "beta_2s = []\n",
    "\n",
    "for i in range(n_boots):\n",
    "    \n",
    "    # Creating a random sample with replacement\n",
    "    random_indices = np.random.choice(bac_train.index, replace=True, size=len(bac_train))\n",
    "    boots_df = bac_train.iloc[random_indices]\n",
    "    X_train_bootstrap = boots_df[['Spreading_factor']]\n",
    "    y_train_bootstrap = boots_df['Perc_population']\n",
    "\n",
    "    # We construct our design matrices from our bootstrapped samples:\n",
    "    x_train_poly_bootstrap = poly.transform(X_train_bootstrap)\n",
    "    boot_strap_linear_regression = LinearRegression(fit_intercept=True) # Instantiate a new Linear Regression to fit on boots\n",
    "    boot_strap_linear_regression.fit(x_train_poly_bootstrap, y_train_bootstrap) # fit on our new design matrices\n",
    "    betas = boot_strap_linear_regression.coef_ # Retrieve our new betas from our new regressions\n",
    "\n",
    "    # From each iteration, we store our new beta values into the lists defined above:\n",
    "    beta_2s.append(betas[1]) # Beta 2\n",
    "    beta_1s.append(betas[0]) # Beta 1\n",
    "    beta_0s.append(boot_strap_linear_regression.intercept_) # Intercept\n",
    "\n",
    "\n",
    "\n",
    "# Redefining our betas from the original linear regression:\n",
    "beta_2 = linreg.coef_[0][1] \n",
    "beta_1 = linreg.coef_[0][0]\n",
    "beta_0 = linreg.intercept_[0]\n",
    "\n",
    "\n",
    "# Taking the mean of betas in our bootstrap samples:\n",
    "beta2_avg_bootstrap = np.mean(beta_2s)\n",
    "beta1_avg_bootstrap = np.mean(beta_1s)\n",
    "beta0_avg_bootstrap = np.mean(beta_0)\n",
    "\n",
    "# Using np.percentile to calculate our confidence intervals:\n",
    "\n",
    "# At the 5% level:\n",
    "beta_2_upper_CI_95 = np.percentile(beta_2s, 97.5)\n",
    "beta_2_lower_CI_95 = np.percentile(beta_2s, 2.5)\n",
    "\n",
    "beta_1_upper_CI_95 = np.percentile(beta_1s, 97.5)\n",
    "beta_1_lower_CI_95 = np.percentile(beta_1s, 2.5)\n",
    "\n",
    "beta_0_upper_CI_95 = np.percentile(beta_0s, 97.5)\n",
    "beta_0_lower_CI_95 = np.percentile(beta_0s, 2.5)"
   ]
  },
  {
   "cell_type": "code",
   "execution_count": 16,
   "metadata": {},
   "outputs": [
    {
     "name": "stdout",
     "output_type": "stream",
     "text": [
      "95% confidence intervals:\n",
      "95% CI for Beta_0: [1.3439334032503474, 1.8017991503639281]\n",
      "95% CI for Beta_1: [1.76166685461203, 2.0668170617327233]\n",
      "95% CI for Beta_2: [0.5169960709931535, 0.8299400320318667]\n"
     ]
    }
   ],
   "source": [
    "print('95% confidence intervals:')\n",
    "print(\"95% CI for Beta_0:\", [beta_0_lower_CI_95, beta_0_upper_CI_95])\n",
    "print(\"95% CI for Beta_1:\", [beta_1_lower_CI_95, beta_1_upper_CI_95])\n",
    "print(\"95% CI for Beta_2:\", [beta_2_lower_CI_95, beta_2_upper_CI_95])"
   ]
  },
  {
   "cell_type": "code",
   "execution_count": 17,
   "metadata": {
    "cell_id": "50a39167-eb1c-49de-86fa-a16f2e927218",
    "colab": {
     "base_uri": "https://localhost:8080/",
     "height": 993
    },
    "colab_type": "code",
    "id": "UtElE-aRVYSf",
    "outputId": "64cb5557-5516-4ef2-c84b-66af7d570afb",
    "tags": []
   },
   "outputs": [
    {
     "data": {
      "image/png": "[encoded data removed]",
      "text/plain": [
       "<Figure size 720x360 with 3 Axes>"
      ]
     },
     "metadata": {
      "needs_background": "light"
     },
     "output_type": "display_data"
    }
   ],
   "source": [
    "# We need to plot histograms for coefficients at the 95% level:\n",
    "\n",
    "figure, ( ax_0, ax_1, ax_2) = plt.subplots(1, 3, sharey=True, figsize=(10, 5))\n",
    "\n",
    "# Beta 2 Histogram:\n",
    "\n",
    "ax_2.hist(beta_2s, bins=10)\n",
    "ax_2.axvspan(beta_2_lower_CI_95, beta_2_upper_CI_95, color=\"r\", alpha=0.3)\n",
    "ax_2.axvline(\n",
    "    beta_2_lower_CI_95,\n",
    "    c=\"k\",\n",
    "    ls=\"dotted\",\n",
    "    label=\"2.5 percentile : {0:.2f}\".format(beta_2_lower_CI_95),\n",
    ")\n",
    "\n",
    "ax_2.axvline(\n",
    "    beta_2_upper_CI_95,\n",
    "    c=\"k\",\n",
    "    ls=\"dashed\",\n",
    "    label=\"2.5 percentile : {0:.2f}\".format(beta_2_upper_CI_95),\n",
    ")\n",
    "ax_2.axvline(\n",
    "    beta_2,\n",
    "    c=\"g\",\n",
    "    ls=\"solid\",\n",
    "    label=\"$B_{2}$:\" + \" {0:.2f}\".format(beta_2),\n",
    ")\n",
    "ax_2.axvline(\n",
    "    beta2_avg_bootstrap,\n",
    "    c=\"g\",\n",
    "    ls=\"dashdot\",\n",
    "    label=r\"$\\tilde{B_{2}}$ :\" + \" {0:.2f}\".format(beta2_avg_bootstrap),\n",
    ")\n",
    "ax_2.legend()\n",
    "ax_2.set_xlabel(\"$B_{2}$\")\n",
    "\n",
    "\n",
    "# Beta 1 histogram:\n",
    "\n",
    "ax_1.hist(beta_1s, bins=10)\n",
    "ax_1.axvspan(beta_1_lower_CI_95, beta_1_upper_CI_95, color=\"r\", alpha=0.3)\n",
    "ax_1.axvline(\n",
    "    beta_1_lower_CI_95,\n",
    "    c=\"k\",\n",
    "    ls=\"dotted\",\n",
    "    label=\" percentile : {0:.2f}\".format(beta_1_lower_CI_95),\n",
    ")\n",
    "ax_1.axvline(\n",
    "    beta_1_upper_CI_95,\n",
    "    c=\"k\",\n",
    "    ls=\"dashed\",\n",
    "    label=\"97.5 percentile : {0:.2f}\".format(beta_1_upper_CI_95),\n",
    ")\n",
    "ax_1.axvline(\n",
    "    beta_1,\n",
    "    c=\"g\",\n",
    "    ls=\"solid\",\n",
    "    label=\"$B_{1}$:\" + \" {0:.2f}\".format(beta_1),\n",
    ")\n",
    "ax_1.axvline(\n",
    "    beta1_avg_bootstrap,\n",
    "    c=\"g\",\n",
    "    ls=\"dashdot\",\n",
    "    label=r\"$\\tilde{B_{1}}$ :\" + \" {0:.2f}\".format(beta1_avg_bootstrap),\n",
    ")\n",
    "ax_1.legend()\n",
    "ax_1.set_xlabel(\"$B_{1}$\")\n",
    "\n",
    "\n",
    "# Beta 0 histogram:\n",
    "ax_0.hist(beta_0s, bins=8)\n",
    "ax_0.axvspan(beta_0_lower_CI_95, beta_0_upper_CI_95, color=\"r\", alpha=0.3)\n",
    "ax_0.axvline(\n",
    "    beta_0_lower_CI_95,\n",
    "    c=\"k\",\n",
    "    ls=\"dotted\",\n",
    "    label=\"97.5 percentile : {0:.2f}\".format(beta_0_lower_CI_95),\n",
    ")\n",
    "ax_0.axvline(\n",
    "    beta_0_upper_CI_95,\n",
    "    c=\"k\",\n",
    "    ls=\"dashed\",\n",
    "    label=\"97.5 percentile : {0:.2f}\".format(beta_0_upper_CI_95),\n",
    ")\n",
    "\n",
    "ax_0.axvline(\n",
    "    beta_0,\n",
    "    c=\"g\",\n",
    "    ls=\"solid\",\n",
    "    label=\"$B_{0}$:\" + \" {0:.2f}\".format(beta_0),\n",
    ")\n",
    "ax_0.axvline(\n",
    "    beta0_avg_bootstrap,\n",
    "    c=\"g\",\n",
    "    ls=\"dashdot\",\n",
    "    label=r\"$\\tilde{B_{0}}$ :\" + \" {0:.2f}\".format(beta0_avg_bootstrap),\n",
    ")\n",
    "ax_0.legend()\n",
    "ax_0.set_xlabel(\"$B_{0}$\");\n",
    "ax_0.set_ylabel(\"Occurrences\")\n",
    "\n",
    "figure.suptitle(\"Confidence intervals for $Beta$\");"
   ]
  },
  {
   "cell_type": "markdown",
   "metadata": {
    "cell_id": "5c60cdd3-9885-4ac2-8144-635a481460f4",
    "tags": []
   },
   "source": [
    "<!-- END QUESTION -->\n",
    "\n",
    "<a id=\"part3\"></a>\n",
    "\n",
    "## <div class='exercise'>Question 3: Single validation set [12 pts]</div> \n",
    "\n",
    "In this section you'll find the best degree polynomial relationship using a single validation set.\n",
    "\n",
    "[Return to contents](#contents)"
   ]
  },
  {
   "cell_type": "markdown",
   "metadata": {},
   "source": [
    "<!-- BEGIN QUESTION -->\n",
    "\n",
    "<div class='exercise'><b>Q3.1</b></div>"
   ]
  },
  {
   "cell_type": "markdown",
   "metadata": {
    "cell_id": "5c60cdd3-9885-4ac2-8144-635a481460f4",
    "tags": []
   },
   "source": [
    "Split your original training data such that you separate out 20% into a single validation split. Use `random_state=1` and save the resulting splits as `x_train80`, `x_val`, `y_train80`, `y_val`. (This will prevent the overwriting of the original train data variables).\n",
    "\n",
    "_Points:_ 1"
   ]
  },
  {
   "cell_type": "code",
   "execution_count": 18,
   "metadata": {},
   "outputs": [],
   "source": [
    "# Making sure we are passing them in as arrays:\n",
    "\n",
    "X = np.array(bac_train['Spreading_factor'])\n",
    "y = np.array(bac_train['Perc_population'])"
   ]
  },
  {
   "cell_type": "code",
   "execution_count": 19,
   "metadata": {
    "cell_id": "552b9463-f979-4f09-8a72-8f4bd7126289",
    "colab": {},
    "colab_type": "code",
    "id": "Hg85gaKsbZiZ",
    "tags": []
   },
   "outputs": [],
   "source": [
    "x_train80, x_val, y_train80, y_val = train_test_split(X_train,y_train,train_size=0.8,random_state=1)"
   ]
  },
  {
   "cell_type": "code",
   "execution_count": 20,
   "metadata": {
    "deletable": false,
    "editable": false
   },
   "outputs": [
    {
     "data": {
      "text/html": [
       "<p><strong><pre style='display: inline;'>q3.1</pre></strong> passed!</p>"
      ],
      "text/plain": [
       "q3.1 results: All test cases passed!"
      ]
     },
     "execution_count": 20,
     "metadata": {},
     "output_type": "execute_result"
    }
   ],
   "source": [
    "grader.check(\"q3.1\")"
   ]
  },
  {
   "cell_type": "markdown",
   "metadata": {},
   "source": [
    "<!-- BEGIN QUESTION -->\n",
    "\n",
    "<div class='exercise'><b>Q3.2</b></div>"
   ]
  },
  {
   "cell_type": "markdown",
   "metadata": {
    "cell_id": "5c60cdd3-9885-4ac2-8144-635a481460f4",
    "tags": []
   },
   "source": [
    "- Fit polynomial regression models for **degrees 1 to 30 (inclusive)** on the 80% training set (one model for each degree polynomial regression).\n",
    "- Store the train and validation MSE values for each model in lists called `train_mses` and `val_mses`.\n",
    "\n",
    "_Points:_ 2"
   ]
  },
  {
   "cell_type": "code",
   "execution_count": 21,
   "metadata": {},
   "outputs": [],
   "source": [
    "# To iterate over the range, we select the maximum degree of the polynomial\n",
    "maxdeg = 30\n",
    "degrees = range(1, maxdeg+1)\n",
    "\n",
    "# Create two empty lists to store training and validation MSEs\n",
    "train_mses, val_mses = [],[]\n",
    "\n",
    "for d in degrees:\n",
    "    \n",
    "    # Creating design matrices:\n",
    "    polynomial = PolynomialFeatures(degree= d, include_bias=False)\n",
    "    x_train80_poly = polynomial.fit_transform(x_train80)\n",
    "    x_val_poly = polynomial.transform(x_val)\n",
    "\n",
    "    # Fitting Linear Regression model:\n",
    "    lr80 = LinearRegression()\n",
    "    lr80.fit(x_train80_poly, y_train80)\n",
    "\n",
    "    # Computing predictions:\n",
    "    y_train_pred = lr80.predict(x_train80_poly)\n",
    "    y_val_pred = lr80.predict(x_val_poly)\n",
    "    \n",
    "    # Computing MSEs:\n",
    "    train_mse = mean_squared_error(y_train80, y_train_pred)\n",
    "    val_mse = mean_squared_error(y_val, y_val_pred)\n",
    "    \n",
    "    # Appending values to lists:\n",
    "    train_mses.append(train_mse)\n",
    "    val_mses.append(val_mse)"
   ]
  },
  {
   "cell_type": "code",
   "execution_count": 22,
   "metadata": {
    "deletable": false,
    "editable": false
   },
   "outputs": [
    {
     "data": {
      "text/html": [
       "<p><strong><pre style='display: inline;'>q3.2</pre></strong> passed!</p>"
      ],
      "text/plain": [
       "q3.2 results: All test cases passed!"
      ]
     },
     "execution_count": 22,
     "metadata": {},
     "output_type": "execute_result"
    }
   ],
   "source": [
    "grader.check(\"q3.2\")"
   ]
  },
  {
   "cell_type": "markdown",
   "metadata": {},
   "source": [
    "<!-- BEGIN QUESTION -->\n",
    "\n",
    "<!-- BEGIN QUESTION -->\n",
    "\n",
    "<div class='exercise'><b>Q3.3</b></div>"
   ]
  },
  {
   "cell_type": "markdown",
   "metadata": {
    "cell_id": "5c60cdd3-9885-4ac2-8144-635a481460f4",
    "tags": []
   },
   "source": [
    "- Generate a single plot illustrating the train and validation $MSE$ values for each fitted degree polynomial regression model.\n",
    "- Identify and report the degree for which the validation error is lowest.\n",
    "\n",
    "**Note:** Plotting the MSE on a log scale may be helpful.\n",
    "\n",
    "_Points:_ 4"
   ]
  },
  {
   "cell_type": "code",
   "execution_count": 23,
   "metadata": {
    "tags": []
   },
   "outputs": [
    {
     "name": "stdout",
     "output_type": "stream",
     "text": [
      "The best degree of the model is 15 with a minimum Validation MSE of 2.8801904306464636\n"
     ]
    }
   ],
   "source": [
    "# Compute the best degree, which is the model with the \n",
    "# lowest validation error\n",
    "\n",
    "# Identifying\n",
    "min_mse = min(val_mses)\n",
    "best_degree = val_mses.index(min_mse) + 1 # Because we use the \"range\" function\n",
    "\n",
    "# Print the degree of the best model computed above\n",
    "print(\"The best degree of the model is\", best_degree, 'with a minimum Validation MSE of', min_mse)"
   ]
  },
  {
   "cell_type": "code",
   "execution_count": 24,
   "metadata": {
    "tags": []
   },
   "outputs": [
    {
     "data": {
      "image/png": "[encoded data removed]",
      "text/plain": [
       "<Figure size 720x576 with 1 Axes>"
      ]
     },
     "metadata": {
      "needs_background": "light"
     },
     "output_type": "display_data"
    }
   ],
   "source": [
    "fig, ax = plt.subplots(figsize=(10,8))\n",
    "\n",
    "# Plot the training error with labels\n",
    "ax.plot(range(maxdeg), train_mses , label=\"Training MSEs\")\n",
    "\n",
    "# Plot the validation error with labels\n",
    "ax.plot(range(maxdeg), val_mses, label = \"Validation Error\")\n",
    "\n",
    "# Set the plot labels and legends\n",
    "ax.set_xlabel('Degree of Polynomial')\n",
    "ax.set_ylabel('Mean Squared Error')\n",
    "ax.legend(loc = 'best')\n",
    "ax.set_yscale('log')\n",
    "\n",
    "plt.scatter(x=best_degree, y=min_mse, \n",
    "            c=\"k\", zorder=3)\n",
    "\n",
    "plt.suptitle('Train and Validation MSEs for each fitted Polynomial')\n",
    "plt.show();"
   ]
  },
  {
   "cell_type": "markdown",
   "metadata": {},
   "source": [
    "<!-- END QUESTION -->\n",
    "\n",
    "<!-- BEGIN QUESTION -->\n",
    "\n",
    "<div class='exercise'><b>Q3.4</b></div>"
   ]
  },
  {
   "cell_type": "markdown",
   "metadata": {
    "cell_id": "5c60cdd3-9885-4ac2-8144-635a481460f4",
    "tags": []
   },
   "source": [
    "Now, with the best degree selected, train the polynomial regression on the **complete training set** (including the observations that you had previously removed to make the validation set). \n",
    "\n",
    "Append a new dictionary to your `results` list for this model.\n",
    "\n",
    "_Points:_ 3"
   ]
  },
  {
   "cell_type": "code",
   "execution_count": 25,
   "metadata": {
    "tags": []
   },
   "outputs": [],
   "source": [
    "include_bias = False \n",
    "\n",
    "# Extracting predictor from both columns as a numpy array and reshaping it in order to fit and transform it\n",
    "\n",
    "# create the polynomial terms\n",
    "poly = PolynomialFeatures(degree=best_degree, include_bias=include_bias)\n",
    "\n",
    "# We need to repeat the same steps as previously to take into acccount the \"best degree\"\n",
    "\n",
    "x_poly_train = poly.fit_transform(X_train)\n",
    "x_poly_val = poly.transform(X_test)\n",
    "\n",
    "# Fitting the model we instantiated above on the train data:\n",
    "\n",
    "linreg = LinearRegression(fit_intercept=True)\n",
    "linreg.fit(x_poly_train, y_train)\n",
    "\n",
    "# make predictions\n",
    "y_train_pred = linreg.predict(x_poly_train)\n",
    "y_test_pred = linreg.predict(x_poly_val)\n",
    "\n",
    "\n",
    "\n",
    "def get_metrics2(model, name: str) -> dict:\n",
    "    d = {}\n",
    "    d['model'] = name\n",
    "    d['train_mse'] = mean_squared_error(y_train, y_train_pred)\n",
    "    d['test_mse'] = mean_squared_error(y_test, y_test_pred)\n",
    "    return d\n",
    "\n",
    "results.append(get_metrics2(linreg, '3.4'))"
   ]
  },
  {
   "cell_type": "code",
   "execution_count": 26,
   "metadata": {},
   "outputs": [
    {
     "data": {
      "text/plain": [
       "[{'model': '2.2',\n",
       "  'train_mse': 2.661715130324049,\n",
       "  'test_mse': 2.6748625754403093},\n",
       " {'model': '3.4',\n",
       "  'train_mse': 2.490945608870453,\n",
       "  'test_mse': 2.7364825064085667}]"
      ]
     },
     "execution_count": 26,
     "metadata": {},
     "output_type": "execute_result"
    }
   ],
   "source": [
    "results"
   ]
  },
  {
   "cell_type": "code",
   "execution_count": 27,
   "metadata": {
    "deletable": false,
    "editable": false
   },
   "outputs": [
    {
     "data": {
      "text/html": [
       "<p><strong><pre style='display: inline;'>q3.4</pre></strong> passed!</p>"
      ],
      "text/plain": [
       "q3.4 results: All test cases passed!"
      ]
     },
     "execution_count": 27,
     "metadata": {},
     "output_type": "execute_result"
    }
   ],
   "source": [
    "grader.check(\"q3.4\")"
   ]
  },
  {
   "cell_type": "markdown",
   "metadata": {},
   "source": [
    "<!-- BEGIN QUESTION -->\n",
    "\n",
    "<div class='exercise'><b>Q3.5</b></div>"
   ]
  },
  {
   "cell_type": "markdown",
   "metadata": {
    "cell_id": "5c60cdd3-9885-4ac2-8144-635a481460f4",
    "tags": []
   },
   "source": [
    "Generate a plot of the data and your regression curve (similar to [Question 2.3](#part2)). Comment on how your model fits the data and compare it to the fit of your \"guesstimated\" model from [Question 2](#part2solutions).\n",
    "\n",
    "_Points:_ 2"
   ]
  },
  {
   "cell_type": "markdown",
   "metadata": {},
   "source": [
    "With a higher degree polynomial, the model fits the training data better (actually, almost perfectly). However, it struggles to perform well on the testing data. This is representative of overfitting. "
   ]
  },
  {
   "cell_type": "code",
   "execution_count": 28,
   "metadata": {
    "tags": []
   },
   "outputs": [
    {
     "data": {
      "text/html": [
       "<div>\n",
       "<style scoped>\n",
       "    .dataframe tbody tr th:only-of-type {\n",
       "        vertical-align: middle;\n",
       "    }\n",
       "\n",
       "    .dataframe tbody tr th {\n",
       "        vertical-align: top;\n",
       "    }\n",
       "\n",
       "    .dataframe thead th {\n",
       "        text-align: right;\n",
       "    }\n",
       "</style>\n",
       "<table border=\"1\" class=\"dataframe\">\n",
       "  <thead>\n",
       "    <tr style=\"text-align: right;\">\n",
       "      <th></th>\n",
       "      <th>train_mse</th>\n",
       "      <th>test_mse</th>\n",
       "    </tr>\n",
       "    <tr>\n",
       "      <th>model</th>\n",
       "      <th></th>\n",
       "      <th></th>\n",
       "    </tr>\n",
       "  </thead>\n",
       "  <tbody>\n",
       "    <tr>\n",
       "      <th>2.2</th>\n",
       "      <td>2.661715</td>\n",
       "      <td>2.674863</td>\n",
       "    </tr>\n",
       "    <tr>\n",
       "      <th>3.4</th>\n",
       "      <td>2.490946</td>\n",
       "      <td>2.736483</td>\n",
       "    </tr>\n",
       "  </tbody>\n",
       "</table>\n",
       "</div>"
      ],
      "text/plain": [
       "       train_mse  test_mse\n",
       "model                     \n",
       "2.2     2.661715  2.674863\n",
       "3.4     2.490946  2.736483"
      ]
     },
     "execution_count": 28,
     "metadata": {},
     "output_type": "execute_result"
    },
    {
     "data": {
      "image/png": "[encoded data removed]",
      "text/plain": [
       "<Figure size 936x576 with 1 Axes>"
      ]
     },
     "metadata": {
      "needs_background": "light"
     },
     "output_type": "display_data"
    }
   ],
   "source": [
    "# We generate some data to predict on:\n",
    "\n",
    "x = np.linspace(min(float(X_train.min()), float(X_test.min())), max(float(X_train.max()), float(X_test.max())), 100)\n",
    "\n",
    "prediction = linreg.predict(\n",
    "    poly.transform(x.reshape(-1, 1))\n",
    ")\n",
    "\n",
    "\n",
    "plt.figure(figsize=(13,8))\n",
    "plt.scatter(x=X_train, y=y_train, color=\"r\", label=\"Training data\", alpha=0.5)\n",
    "plt.scatter(x=X_test, y=y_test, color=\"b\", label=\"Test data\", alpha=0.5)\n",
    "plt.plot(x, prediction, color=\"y\", label=f\"Prediction curve for best degree polynomial\", linewidth=3)\n",
    "plt.xlabel(\"Spreading Factor\")\n",
    "plt.ylabel(\"% Population Change\")\n",
    "plt.legend()\n",
    "plt.suptitle(\"Prediction Curve for Model specified with best degree\");\n",
    "\n",
    "results_df = pd.DataFrame(results).set_index('model')\n",
    "results_df"
   ]
  },
  {
   "cell_type": "markdown",
   "metadata": {
    "cell_id": "5c60cdd3-9885-4ac2-8144-635a481460f4",
    "tags": []
   },
   "source": [
    "<a id=\"part4\"></a>\n",
    "\n",
    "## <div class='exercise'>Question 4: Finding the best model by k-fold cross validation [14 pts]</div> \n",
    "\n",
    "[Return to contents](#contents)"
   ]
  },
  {
   "cell_type": "markdown",
   "metadata": {},
   "source": [
    "<!-- BEGIN QUESTION -->\n",
    "\n",
    "<div class='exercise'><b>Q4.1</b></div>"
   ]
  },
  {
   "cell_type": "markdown",
   "metadata": {
    "cell_id": "5c60cdd3-9885-4ac2-8144-635a481460f4",
    "tags": []
   },
   "source": [
    "In this part we find the best degree polynomial regression by running the model on a range of degree values and using k-fold cross validation. Note that `cross_validation` should be passed *all* training examples (*not* the 80% split from the previous question).\n",
    "\n",
    "- Use scikit-learn's `cross_validate(...)` to perform cross validation with $k=10$ for each polynomial regression from **degree 1 to 30 (inclusive)**.\n",
    "- For each degree:\n",
    "    - store the mean train MSE across all $k$ folds in the list `train_mses_mean`\n",
    "    - store the mean validation MSE across all $k$ folds in the list `val_mses_mean`\n",
    "    - store the standard deviation  of the validation MSE across all $k$ folds in the list `val_mses_std`\n",
    "    \n",
    "\n",
    "_Points:_ 4"
   ]
  },
  {
   "cell_type": "code",
   "execution_count": 29,
   "metadata": {
    "cell_id": "da3566a6-fb5a-41c6-8a95-a689d5bd9e68",
    "colab": {},
    "colab_type": "code",
    "id": "garnX5JEsVXT",
    "tags": []
   },
   "outputs": [],
   "source": [
    "# We conduct a train test split with all validation samples, train_size=1:\n",
    "\n",
    "X_train_cv, x_val_cv, y_train_cv, y_val_cv = train_test_split(X,y, train_size=1, random_state=1) "
   ]
  },
  {
   "cell_type": "code",
   "execution_count": 30,
   "metadata": {},
   "outputs": [],
   "source": [
    "X = X.reshape(-1,1)\n",
    "X_train_cv = X_train_cv.reshape(-1, 1)\n",
    "x_val_cv = x_val_cv.reshape(-1,1)"
   ]
  },
  {
   "cell_type": "code",
   "execution_count": 31,
   "metadata": {},
   "outputs": [],
   "source": [
    "# To iterate over the range, select the maximum degree of the polynomial\n",
    "maxdeg = 30\n",
    "\n",
    "# Create three empty lists to store training, validation and cross-validation MSEs\n",
    "train_mses_mean, val_mses_mean, val_mses_std, cross_val_mses_mean, cross_val_train_mses_mean  = [],[],[],[], []\n",
    "\n",
    "# Loop through the degrees of the polynomial\n",
    "for d in range(maxdeg):\n",
    "    \n",
    "    # Compute the polynomial features for the entire data\n",
    "    x_poly_cv = PolynomialFeatures(d).fit_transform(X)\n",
    "\n",
    "    # Compute the polynomial features for the train data\n",
    "    x_poly_train_cv = PolynomialFeatures(d).fit_transform(X_train_cv)\n",
    "\n",
    "    # Compute the polynomial features for the validation data\n",
    "    x_poly_val_cv = PolynomialFeatures(d).fit_transform(x_val_cv)\n",
    "\n",
    "    # Fit model on the training set\n",
    "    linreg.fit(x_poly_train_cv, y_train_cv)\n",
    "\n",
    "    # Predict on the training data\n",
    "    y_train_pred_cv = linreg.predict(x_poly_train_cv)\n",
    "\n",
    "    # Predict on the validation set\n",
    "    y_val_pred_cv = linreg.predict(x_poly_val_cv)\n",
    "    \n",
    "    # Compute the mse on the train data\n",
    "    train_mses_mean.append(mean_squared_error(y_train_cv, y_train_pred_cv))\n",
    "\n",
    "    # Compute the mse on the validation data\n",
    "    val_mses_mean.append(mean_squared_error(y_val_cv, y_val_pred_cv))\n",
    "\n",
    "    # Perform cross-validation on the entire data with 10 folds and \n",
    "    # get the mse_scores\n",
    "    mse_score = cross_validate(linreg, x_poly_cv, y, cv=10, scoring=\"neg_mean_squared_error\", return_train_score=True )\n",
    "    \n",
    "    # Compute the mean of the cross validation error and store in list \n",
    "    # Remember to take into account the sign of the MSE metric returned by the cross_validate function \n",
    "    val_mses_std.append(np.std(mse_score['test_score']))\n",
    "    cross_val_mses_mean.append(-1*np.mean(mse_score['test_score']))\n",
    "    \n",
    "    cross_val_train_mses_mean.append(-1*np.mean(mse_score['train_score']))"
   ]
  },
  {
   "cell_type": "code",
   "execution_count": 32,
   "metadata": {
    "deletable": false,
    "editable": false
   },
   "outputs": [
    {
     "data": {
      "text/html": [
       "<p><strong><pre style='display: inline;'>q4.1</pre></strong> passed!</p>"
      ],
      "text/plain": [
       "q4.1 results: All test cases passed!"
      ]
     },
     "execution_count": 32,
     "metadata": {},
     "output_type": "execute_result"
    }
   ],
   "source": [
    "grader.check(\"q4.1\")"
   ]
  },
  {
   "cell_type": "markdown",
   "metadata": {},
   "source": [
    "<!-- BEGIN QUESTION -->\n",
    "\n",
    "<!-- BEGIN QUESTION -->\n",
    "\n",
    "<div class='exercise'><b>Q4.2</b></div>"
   ]
  },
  {
   "cell_type": "markdown",
   "metadata": {
    "cell_id": "5c60cdd3-9885-4ac2-8144-635a481460f4",
    "tags": []
   },
   "source": [
    "- Generate a single plot showing the mean train and validation $MSE$ values (see note below) for each degree polynomial regression, including the +/- 1 standard deviation bounds for the validation $MSE$ values.\n",
    "- Comment on trends and findings illustrated by your plot.\n",
    "- Print the degree of the best model, identified based on the lowest mean validation $MSE$, along with the corresponding mean train and validation $MSE$ values.\n",
    "\n",
    "**NOTE:** When we refer to train and validation $MSE$ values here in Question 4.2 and in future problems where we are performing cross validation, we are referring specifically to the cross-validation generated train and validation $MSE$ values. Just please remember, when accessing your validation $MSE$ values while performing cross validation with scikit-learn's `cross_validate(...)`, scikit-learn rather confusingly refers to its validation scores as `test_score` in the dictionary that it returns, even though those values are actually validation scores. Please see the `cross_validate(...)` [documentation](https://scikit-learn.org/stable/modules/generated/sklearn.model_selection.cross_validate.html) for more info on this function.\n",
    "\n",
    "_Points:_ 4"
   ]
  },
  {
   "cell_type": "markdown",
   "metadata": {},
   "source": [
    "Increasing number of decrees seems to be accompanied with an overall decrease in train MSE, but increase in validation MSE. \n",
    "\n",
    "A decrease in train MSE that accompanies an increase in the degrees of the model (model complexity). This follows from the fact that as degrees increase, the fitting of the training data improves, which will most likely cause overfitting down the line. This is because the bias is decreasing. \n",
    "The more you overfit the training data, the less the model is able to generalise to the validation data. This explains the positive correlation between validation MSE and degrees. The model starts fitting the training data better and better as degrees increase, reducing its predictive capacities on brand new data. "
   ]
  },
  {
   "cell_type": "code",
   "execution_count": 33,
   "metadata": {
    "tags": []
   },
   "outputs": [
    {
     "name": "stdout",
     "output_type": "stream",
     "text": [
      "The best degree of the model using cross-validation is 8\n",
      "The best validation MSE is 2.5990753511998586\n",
      "The best mean train MSE is 2.5081491803463067\n"
     ]
    }
   ],
   "source": [
    "# Get the best degree associated with the lowest cross-validation error\n",
    "min_cross_val_mse = min(cross_val_mses_mean)\n",
    "best_cross_val_degree = cross_val_mses_mean.index(min_cross_val_mse)\n",
    "best_train_mse_degree = cross_val_train_mses_mean[np.argmin(cross_val_mses_mean)]\n",
    "\n",
    "# Print the values\n",
    "print(\"The best degree of the model using cross-validation is\",best_cross_val_degree)\n",
    "print('The best validation MSE is', min_cross_val_mse)\n",
    "print('The best mean train MSE is', best_train_mse_degree)"
   ]
  },
  {
   "cell_type": "code",
   "execution_count": 34,
   "metadata": {},
   "outputs": [
    {
     "data": {
      "image/png": "[encoded data removed]",
      "text/plain": [
       "<Figure size 432x288 with 1 Axes>"
      ]
     },
     "metadata": {
      "needs_background": "light"
     },
     "output_type": "display_data"
    }
   ],
   "source": [
    "plt.plot(range(maxdeg), cross_val_train_mses_mean, label=\"Train MSE\")\n",
    "plt.plot(range(maxdeg), cross_val_mses_mean, label=\"Mean Validation MSE\")\n",
    "\n",
    "# We want the plot to highlight the standard deviations, for this we use \"fill_between\"\n",
    "plt.fill_between(range(maxdeg), \n",
    "                y1 = np.array(cross_val_mses_mean) + np.array(val_mses_std), \n",
    "                y2 = np.array(cross_val_mses_mean) - np.array(val_mses_std),\n",
    "                color = \"orange\", \n",
    "                alpha=0.25,\n",
    "                label=\"Validation MSE Std.\"\n",
    "                )\n",
    "\n",
    "# We identify best fitting degree for validation MSE\n",
    "min_cross_val_mse = min(cross_val_mses_mean)\n",
    "best_cross_val_degree = cross_val_mses_mean.index(min_cross_val_mse)\n",
    "\n",
    "\n",
    "plt.scatter(best_cross_val_degree, min_cross_val_mse, c='k', zorder=3, label=\"Lowest Validation MSE is {0:.2f}\".format(min_cross_val_mse))\n",
    "plt.annotate(best_cross_val_degree, xy =(best_cross_val_degree, min_cross_val_mse * 1.20))\n",
    "plt.yscale(\"log\")\n",
    "plt.xlabel(\"degrees\")\n",
    "plt.ylabel(\"MSE\")\n",
    "plt.suptitle(\"MSE by Degree Polynomial Fit\")\n",
    "plt.legend();\n",
    "plt.tight_layout()"
   ]
  },
  {
   "cell_type": "markdown",
   "metadata": {},
   "source": [
    "<!-- END QUESTION -->\n",
    "\n",
    "<!-- BEGIN QUESTION -->\n",
    "\n",
    "<div class='exercise'><b>Q4.3</b></div>"
   ]
  },
  {
   "cell_type": "markdown",
   "metadata": {
    "cell_id": "5c60cdd3-9885-4ac2-8144-635a481460f4",
    "tags": []
   },
   "source": [
    "Fit the best model based on the entire training data and report the $MSE$.\n",
    "\n",
    "\n",
    "- For the best degree polynomial regression identified in Question 4.2 above, train on the complete training data and predict on the test data.\n",
    "- Append a new dictionary for this model to the `results` list. \n",
    "\n",
    "_Points:_ 4"
   ]
  },
  {
   "cell_type": "code",
   "execution_count": 35,
   "metadata": {},
   "outputs": [
    {
     "data": {
      "text/plain": [
       "[{'model': '2.2',\n",
       "  'train_mse': 2.661715130324049,\n",
       "  'test_mse': 2.6748625754403093},\n",
       " {'model': '3.4',\n",
       "  'train_mse': 2.490945608870453,\n",
       "  'test_mse': 2.7364825064085667},\n",
       " {'model': '4.3',\n",
       "  'train_mse': 2.5125174574727875,\n",
       "  'test_mse': 2.613010637353015}]"
      ]
     },
     "execution_count": 35,
     "metadata": {},
     "output_type": "execute_result"
    }
   ],
   "source": [
    "best_fit_degree = 8\n",
    "\n",
    "# Defining a new design matrix for the best fitting degree:\n",
    "\n",
    "polynomial = PolynomialFeatures(degree= best_fit_degree, include_bias=False)\n",
    "x_train_poly = polynomial.fit_transform(X_train)\n",
    "x_val_poly = polynomial.transform(X_test)\n",
    "\n",
    "# fit linear regression \n",
    "linreg = LinearRegression(fit_intercept=True)\n",
    "linreg.fit(x_train_poly, y_train)\n",
    "\n",
    "# make predictions\n",
    "y_train_pred = linreg.predict(x_train_poly)\n",
    "y_test_pred = linreg.predict(x_val_poly)\n",
    "\n",
    "\n",
    "\n",
    "def get_metrics3(model, name: str) -> dict:\n",
    "    d = {}\n",
    "    d['model'] = name\n",
    "    d['train_mse'] = mean_squared_error(y_train, y_train_pred)\n",
    "    d['test_mse'] = mean_squared_error(y_test, y_test_pred)\n",
    "    return d\n",
    "\n",
    "get_metrics3(linreg, '4.3')\n",
    "\n",
    "results.append(get_metrics3(linreg, '4.3'))\n",
    "\n",
    "results"
   ]
  },
  {
   "cell_type": "code",
   "execution_count": 36,
   "metadata": {
    "deletable": false,
    "editable": false
   },
   "outputs": [
    {
     "data": {
      "text/html": [
       "<p><strong><pre style='display: inline;'>q4.3</pre></strong> passed!</p>"
      ],
      "text/plain": [
       "q4.3 results: All test cases passed!"
      ]
     },
     "execution_count": 36,
     "metadata": {},
     "output_type": "execute_result"
    }
   ],
   "source": [
    "grader.check(\"q4.3\")"
   ]
  },
  {
   "cell_type": "markdown",
   "metadata": {},
   "source": [
    "<!-- BEGIN QUESTION -->\n",
    "\n",
    "<!-- BEGIN QUESTION -->\n",
    "\n",
    "<div class='exercise'><b>Q4.4</b></div>"
   ]
  },
  {
   "cell_type": "markdown",
   "metadata": {
    "cell_id": "5c60cdd3-9885-4ac2-8144-635a481460f4",
    "tags": []
   },
   "source": [
    "- Generate a plot of the data and your regression curve (similar to [Question 2.3](#part2)).\n",
    "- Display the coefficients of your model.\n",
    "- Display `results` as a DataFrame (there should now be 3 entries).\n",
    "- Comment on how your model fits the data and how your model compares relative to the prior best-fit model you generated using just a single validation set in [Question 3](#part3solutions).\n",
    "\n",
    "_Points:_ 2"
   ]
  },
  {
   "cell_type": "markdown",
   "metadata": {},
   "source": [
    "A higher train MSE and lower test MSE shows that this model shows that the model does not fit the data as well, but tends to generalise better to the testing data. k-fold cross-validation reassures us in this sense as it gives us insight into the true skills of this model applied to folds of new data. Overfitting seems like less of an issue in this case."
   ]
  },
  {
   "cell_type": "code",
   "execution_count": 37,
   "metadata": {},
   "outputs": [
    {
     "name": "stdout",
     "output_type": "stream",
     "text": [
      "Coefficients of model are:\n",
      "[ 2.59702778 -1.09486847 -1.18913441  3.48314914  0.65287664 -1.71300787\n",
      " -0.11530516  0.24041837]\n",
      "Intercept is:\n",
      "[1.53533357]\n"
     ]
    }
   ],
   "source": [
    "print('Coefficients of model are:')\n",
    "for i in [i for i in linreg.coef_]:\n",
    "    print(i)\n",
    "    \n",
    "print('Intercept is:')\n",
    "print(linreg.intercept_)"
   ]
  },
  {
   "cell_type": "code",
   "execution_count": 38,
   "metadata": {
    "tags": []
   },
   "outputs": [
    {
     "data": {
      "image/png": "[encoded data removed]",
      "text/plain": [
       "<Figure size 936x576 with 1 Axes>"
      ]
     },
     "metadata": {
      "needs_background": "light"
     },
     "output_type": "display_data"
    }
   ],
   "source": [
    "# We generate some data to predict on:\n",
    "\n",
    "# make mock data for our prediction curve\n",
    "x_range = np.linspace(min(float(X_train.min()), float(X_test.min())), max(float(X_train.max()), float(X_test.max())), 100)\n",
    "\n",
    "\n",
    "\n",
    "\n",
    "prediction_curve = linreg.predict(\n",
    "    polynomial.transform(x_range.reshape(-1, 1))\n",
    ")\n",
    "\n",
    "\n",
    "plt.figure(figsize=(13,8))\n",
    "plt.scatter(x=X_train, y=y_train, color=\"b\", label=\"train\", alpha=0.5)\n",
    "plt.scatter(x=X_test, y=y_test, color=\"r\", label=\"test\", alpha=0.5)\n",
    "plt.plot(x_range, prediction_curve, color=\"g\", label=f\"prediction curve degree {best_fit_degree}\", linewidth=3)\n",
    "plt.xlabel(\"Spreading Factor\")\n",
    "plt.ylabel(\"% Population Change\")\n",
    "plt.legend()\n",
    "plt.suptitle(f\"Prediction Curve for Specified model\");\n"
   ]
  },
  {
   "cell_type": "code",
   "execution_count": 39,
   "metadata": {},
   "outputs": [
    {
     "data": {
      "text/html": [
       "<div>\n",
       "<style scoped>\n",
       "    .dataframe tbody tr th:only-of-type {\n",
       "        vertical-align: middle;\n",
       "    }\n",
       "\n",
       "    .dataframe tbody tr th {\n",
       "        vertical-align: top;\n",
       "    }\n",
       "\n",
       "    .dataframe thead th {\n",
       "        text-align: right;\n",
       "    }\n",
       "</style>\n",
       "<table border=\"1\" class=\"dataframe\">\n",
       "  <thead>\n",
       "    <tr style=\"text-align: right;\">\n",
       "      <th></th>\n",
       "      <th>train_mse</th>\n",
       "      <th>test_mse</th>\n",
       "    </tr>\n",
       "    <tr>\n",
       "      <th>model</th>\n",
       "      <th></th>\n",
       "      <th></th>\n",
       "    </tr>\n",
       "  </thead>\n",
       "  <tbody>\n",
       "    <tr>\n",
       "      <th>2.2</th>\n",
       "      <td>2.661715</td>\n",
       "      <td>2.674863</td>\n",
       "    </tr>\n",
       "    <tr>\n",
       "      <th>3.4</th>\n",
       "      <td>2.490946</td>\n",
       "      <td>2.736483</td>\n",
       "    </tr>\n",
       "    <tr>\n",
       "      <th>4.3</th>\n",
       "      <td>2.512517</td>\n",
       "      <td>2.613011</td>\n",
       "    </tr>\n",
       "  </tbody>\n",
       "</table>\n",
       "</div>"
      ],
      "text/plain": [
       "       train_mse  test_mse\n",
       "model                     \n",
       "2.2     2.661715  2.674863\n",
       "3.4     2.490946  2.736483\n",
       "4.3     2.512517  2.613011"
      ]
     },
     "execution_count": 39,
     "metadata": {},
     "output_type": "execute_result"
    }
   ],
   "source": [
    "# Storing the results as a DataFrame\n",
    "\n",
    "results_df = pd.DataFrame(results).set_index('model')\n",
    "results_df"
   ]
  },
  {
   "cell_type": "markdown",
   "metadata": {
    "cell_id": "5c60cdd3-9885-4ac2-8144-635a481460f4",
    "tags": []
   },
   "source": [
    "<!-- END QUESTION -->\n",
    "\n",
    "<a id=\"part5\"></a>\n",
    "\n",
    "## <div class='exercise'>Question 5: Finding the most consistent model using k-fold cross validation with bootstraps [16 pts]</div> \n",
    "\n",
    "[Return to contents](#contents)"
   ]
  },
  {
   "cell_type": "markdown",
   "metadata": {},
   "source": [
    "<!-- BEGIN QUESTION -->\n",
    "\n",
    "<div class='exercise'><b>Q5.1</b></div>"
   ]
  },
  {
   "cell_type": "markdown",
   "metadata": {
    "cell_id": "5c60cdd3-9885-4ac2-8144-635a481460f4",
    "tags": []
   },
   "source": [
    "In the previous part, we used $k$-fold cross validation to find the best model. But how confident are you of your estimated best degree? We have already used bootstraps in [Question 2.4](#part2) to estimate the confidence intervals of our $\\beta_i$ values. In this segment, we will use bootstrapping to test the robustness of our estimation.\n",
    "\n",
    "- Similar to Question 2.4, **use 100 bootstraps** of your data.\n",
    "- For each bootstrap:\n",
    "  - Use scikit-learn's `cross_validate(...)` to perform cross validation with $k=10$ *for each polynomial regression* of **degrees 1 to 30 (inclusive)**.\n",
    "  - Select the best degree polynomial based on the lowest mean cross-validation MSE and store this degree in a list called `best_degrees`.\n",
    "- After completing your bootstraps, `best_degrees` should have 100 elements, one degree for each completed bootstrap.\n",
    "\n",
    "**NOTE:** Once complete, your code for this problem will likely take several minutes to execute. This is to be expected.\n",
    "\n",
    "_Points:_ 4"
   ]
  },
  {
   "cell_type": "code",
   "execution_count": 40,
   "metadata": {},
   "outputs": [],
   "source": [
    "# create 100 bootstrapped samples and store the resulting coefficients \n",
    "n_boots = 100\n",
    "\n",
    "degrees = range(1, maxdeg+1)\n",
    "best_degrees = []  # Defining a list to store the best degree for each sample\n",
    "\n",
    "# create a random sample with replacement (bootstrapping)\n",
    "for sample in range(n_boots):\n",
    "    random_indices = np.random.choice(bac_train.index, replace=True, size=len(bac_train))\n",
    "    boots_df = bac_train.iloc[random_indices]\n",
    "    X_train_bootstrap = boots_df[['Spreading_factor']]\n",
    "    y_train_bootstrap = boots_df['Perc_population']\n",
    "\n",
    "    validation_mses_mean = []\n",
    "\n",
    "    for d in degrees:\n",
    "        \n",
    "        # construct design matrices\n",
    "        polynomial = PolynomialFeatures(degree= d, include_bias=False)\n",
    "        x_train_poly_bootstrap = polynomial.fit_transform(X_train_bootstrap)\n",
    "\n",
    "        # define linear model\n",
    "        boot_strap_linear_regression = LinearRegression(fit_intercept=True)\n",
    "\n",
    "        # cross validate \n",
    "        mse_scores = cross_validate(boot_strap_linear_regression, x_train_poly_bootstrap, y_train_bootstrap, \n",
    "                                    cv=10, scoring=\"neg_mean_squared_error\", return_train_score=True)\n",
    "\n",
    "        # take the mean MSE for every degree polynomial                            \n",
    "        validation_mses_mean.append(np.mean(mse_scores[\"test_score\"] * -1))\n",
    "\n",
    "    best_degree = np.argmin(validation_mses_mean) + 1\n",
    "    best_degrees.append(int(best_degree))\n",
    "    \n",
    "assert(len(best_degrees) == 100) # Confirming that we indeed have 100 best degrees."
   ]
  },
  {
   "cell_type": "code",
   "execution_count": 41,
   "metadata": {
    "deletable": false,
    "editable": false
   },
   "outputs": [
    {
     "data": {
      "text/html": [
       "<p><strong><pre style='display: inline;'>q5.1</pre></strong> passed!</p>"
      ],
      "text/plain": [
       "q5.1 results: All test cases passed!"
      ]
     },
     "execution_count": 41,
     "metadata": {},
     "output_type": "execute_result"
    }
   ],
   "source": [
    "grader.check(\"q5.1\")"
   ]
  },
  {
   "cell_type": "markdown",
   "metadata": {},
   "source": [
    "<!-- BEGIN QUESTION -->\n",
    "\n",
    "<!-- BEGIN QUESTION -->\n",
    "\n",
    "<div class='exercise'><b>Q5.2</b></div>"
   ]
  },
  {
   "cell_type": "markdown",
   "metadata": {
    "cell_id": "5c60cdd3-9885-4ac2-8144-635a481460f4",
    "tags": []
   },
   "source": [
    "Generate a well-labeled bar plot, with the polynomial degree on the $x$-axis and the number of times that degree was deemed best on the $y$-axis, using the `best_degrees` saved during your bootstraps.\n",
    "\n",
    "_Points:_ 4"
   ]
  },
  {
   "cell_type": "code",
   "execution_count": 42,
   "metadata": {
    "cell_id": "7925de61-e041-437e-ba6b-b1c3e1b2fb0c",
    "tags": []
   },
   "outputs": [
    {
     "data": {
      "image/png": "[encoded data removed]",
      "text/plain": [
       "<Figure size 936x576 with 1 Axes>"
      ]
     },
     "metadata": {
      "needs_background": "light"
     },
     "output_type": "display_data"
    }
   ],
   "source": [
    "# We need to count the amount of times a certain degree was selected as \"the best\"\n",
    "\n",
    "# For this, we use a counter function\n",
    "counter = Counter(best_degrees)\n",
    "df = pd.DataFrame(counter.items(), columns= [\"Degree\", \"Num times selected\"]).sort_values(\"Num times selected\", ascending=False)\n",
    "\n",
    "\n",
    "plt.figure(figsize=(13,8))\n",
    "plt.bar(df[\"Degree\"], df[\"Num times selected\"], tick_label = df[\"Degree\"])\n",
    "plt.ylabel(\"Number of times degree selected\")\n",
    "plt.xlabel(\"Degree\")\n",
    "plt.suptitle(\"Best Degree Polynomial for 100 Bootstrap samples\");"
   ]
  },
  {
   "cell_type": "markdown",
   "metadata": {},
   "source": [
    "<!-- END QUESTION -->\n",
    "\n",
    "<!-- BEGIN QUESTION -->\n",
    "\n",
    "<!-- BEGIN QUESTION -->\n",
    "\n",
    "<div class='exercise'><b>Q5.3</b></div>"
   ]
  },
  {
   "cell_type": "markdown",
   "metadata": {
    "cell_id": "5c60cdd3-9885-4ac2-8144-635a481460f4",
    "tags": []
   },
   "source": [
    "What are your observations from the plot above? \n",
    "\n",
    "\n",
    "_Points:_ 3"
   ]
  },
  {
   "cell_type": "markdown",
   "metadata": {},
   "source": [
    "One needs to recall here that bootstraps are independent samples from the dataframe, meaning that they do not represent the same sample each time, and constitute completely different data. Essentially, this is equivalent to modifying the training data 100 times, which is why the \"best degree\" will also change, as it is adapted to each particular training set.\n",
    "\n",
    "We should choose the degree that has the lowest MSE independently of the the boostrap sample. A quick look at the plot shows that this is 8, which is selected 43 times. \n",
    "\n"
   ]
  },
  {
   "cell_type": "markdown",
   "metadata": {},
   "source": [
    "<!-- END QUESTION -->\n",
    "\n",
    "<!-- BEGIN QUESTION -->\n",
    "\n",
    "<div class='exercise'><b>Q5.4</b></div>"
   ]
  },
  {
   "cell_type": "markdown",
   "metadata": {
    "cell_id": "5c60cdd3-9885-4ac2-8144-635a481460f4",
    "tags": []
   },
   "source": [
    "Now, with the overall best degree identified with your bootstrapping results above, train the polynomial regression model on the **complete training set**. Append a new dictionary for this model to your `results` list. \n",
    "\n",
    "_Points:_ 3"
   ]
  },
  {
   "cell_type": "code",
   "execution_count": 43,
   "metadata": {
    "cell_id": "0cdef907-9d0f-4057-a70b-71022017e321",
    "colab": {},
    "colab_type": "code",
    "id": "JNWmRvkAsey3",
    "tags": []
   },
   "outputs": [
    {
     "data": {
      "text/plain": [
       "[{'model': '2.2',\n",
       "  'train_mse': 2.661715130324049,\n",
       "  'test_mse': 2.6748625754403093},\n",
       " {'model': '3.4',\n",
       "  'train_mse': 2.490945608870453,\n",
       "  'test_mse': 2.7364825064085667},\n",
       " {'model': '4.3',\n",
       "  'train_mse': 2.5125174574727875,\n",
       "  'test_mse': 2.613010637353015},\n",
       " {'model': '5.4',\n",
       "  'train_mse': 2.5125174574727875,\n",
       "  'test_mse': 2.613010637353015}]"
      ]
     },
     "execution_count": 43,
     "metadata": {},
     "output_type": "execute_result"
    }
   ],
   "source": [
    "best_degree_overall = 8\n",
    "\n",
    "# Defining a new design matrix for the best fitting degree:\n",
    "\n",
    "polynomial = PolynomialFeatures(degree= best_degree_overall, include_bias=False)\n",
    "x_train_poly = polynomial.fit_transform(X_train)\n",
    "x_val_poly = polynomial.transform(X_test)\n",
    "\n",
    "# fit linear regression \n",
    "linreg = LinearRegression(fit_intercept=True)\n",
    "linreg.fit(x_train_poly, y_train)\n",
    "\n",
    "# make predictions\n",
    "y_train_pred = linreg.predict(x_train_poly)\n",
    "y_test_pred = linreg.predict(x_val_poly)\n",
    "\n",
    "# calculate MSE\n",
    "train_mse = mean_squared_error(y_train, y_train_pred)\n",
    "test_mse = mean_squared_error(y_test, y_test_pred)\n",
    "\n",
    "results.append({\"model\": \"5.4\", \"train_mse\": train_mse, \"test_mse\": test_mse})\n",
    "\n",
    "results"
   ]
  },
  {
   "cell_type": "code",
   "execution_count": 44,
   "metadata": {
    "deletable": false,
    "editable": false
   },
   "outputs": [
    {
     "data": {
      "text/html": [
       "<p><strong><pre style='display: inline;'>q5.4</pre></strong> passed!</p>"
      ],
      "text/plain": [
       "q5.4 results: All test cases passed!"
      ]
     },
     "execution_count": 44,
     "metadata": {},
     "output_type": "execute_result"
    }
   ],
   "source": [
    "grader.check(\"q5.4\")"
   ]
  },
  {
   "cell_type": "markdown",
   "metadata": {},
   "source": [
    "<!-- BEGIN QUESTION -->\n",
    "\n",
    "<!-- BEGIN QUESTION -->\n",
    "\n",
    "<div class='exercise'><b>Q5.5</b></div>"
   ]
  },
  {
   "cell_type": "markdown",
   "metadata": {
    "cell_id": "5c60cdd3-9885-4ac2-8144-635a481460f4",
    "tags": []
   },
   "source": [
    "- Generate a plot of the data and your regression curve.\n",
    "- Display `results` as a DataFrame.\n",
    "- Comment on how your model fits the data and compare it to the fit of your cross-validated model from [Question 4](#part4solutions).\n",
    "\n",
    "_Points:_ 2"
   ]
  },
  {
   "cell_type": "markdown",
   "metadata": {},
   "source": [
    "One may argue that the curve fits the data quite closely. One may note here that the fit is the same as the model from part 4. This is because we have fit polynomials of the same degree on the data. "
   ]
  },
  {
   "cell_type": "code",
   "execution_count": 45,
   "metadata": {
    "tags": []
   },
   "outputs": [
    {
     "data": {
      "text/html": [
       "<div>\n",
       "<style scoped>\n",
       "    .dataframe tbody tr th:only-of-type {\n",
       "        vertical-align: middle;\n",
       "    }\n",
       "\n",
       "    .dataframe tbody tr th {\n",
       "        vertical-align: top;\n",
       "    }\n",
       "\n",
       "    .dataframe thead th {\n",
       "        text-align: right;\n",
       "    }\n",
       "</style>\n",
       "<table border=\"1\" class=\"dataframe\">\n",
       "  <thead>\n",
       "    <tr style=\"text-align: right;\">\n",
       "      <th></th>\n",
       "      <th>train_mse</th>\n",
       "      <th>test_mse</th>\n",
       "    </tr>\n",
       "    <tr>\n",
       "      <th>model</th>\n",
       "      <th></th>\n",
       "      <th></th>\n",
       "    </tr>\n",
       "  </thead>\n",
       "  <tbody>\n",
       "    <tr>\n",
       "      <th>2.2</th>\n",
       "      <td>2.661715</td>\n",
       "      <td>2.674863</td>\n",
       "    </tr>\n",
       "    <tr>\n",
       "      <th>3.4</th>\n",
       "      <td>2.490946</td>\n",
       "      <td>2.736483</td>\n",
       "    </tr>\n",
       "    <tr>\n",
       "      <th>4.3</th>\n",
       "      <td>2.512517</td>\n",
       "      <td>2.613011</td>\n",
       "    </tr>\n",
       "    <tr>\n",
       "      <th>5.4</th>\n",
       "      <td>2.512517</td>\n",
       "      <td>2.613011</td>\n",
       "    </tr>\n",
       "  </tbody>\n",
       "</table>\n",
       "</div>"
      ],
      "text/plain": [
       "       train_mse  test_mse\n",
       "model                     \n",
       "2.2     2.661715  2.674863\n",
       "3.4     2.490946  2.736483\n",
       "4.3     2.512517  2.613011\n",
       "5.4     2.512517  2.613011"
      ]
     },
     "execution_count": 45,
     "metadata": {},
     "output_type": "execute_result"
    }
   ],
   "source": [
    "results_df = pd.DataFrame(results).set_index('model')\n",
    "results_df"
   ]
  },
  {
   "cell_type": "code",
   "execution_count": 46,
   "metadata": {},
   "outputs": [
    {
     "data": {
      "image/png": "[encoded data removed]",
      "text/plain": [
       "<Figure size 936x576 with 1 Axes>"
      ]
     },
     "metadata": {
      "needs_background": "light"
     },
     "output_type": "display_data"
    }
   ],
   "source": [
    "# We generate some data to predict on:\n",
    "\n",
    "# make mock data for our prediction curve\n",
    "x_range = np.linspace(min(float(X_train.min()), float(X_test.min())), max(float(X_train.max()), float(X_test.max())), 100)\n",
    "\n",
    "\n",
    "\n",
    "polynomial = PolynomialFeatures(degree= best_degree_overall, include_bias=False)\n",
    "x_train_poly = polynomial.fit_transform(X_train)\n",
    "x_val_poly = polynomial.transform(X_test)\n",
    "\n",
    "linreg = LinearRegression()\n",
    "linreg.fit(x_train_poly, y_train)\n",
    "\n",
    "\n",
    "prediction_curve = linreg.predict(\n",
    "    polynomial.transform(x_range.reshape(-1, 1))\n",
    ")\n",
    "\n",
    "\n",
    "plt.figure(figsize=(13,8))\n",
    "plt.scatter(x=X_train, y=y_train, color=\"b\", label=\"train\", alpha=0.5)\n",
    "plt.scatter(x=X_test, y=y_test, color=\"r\", label=\"test\", alpha=0.5)\n",
    "plt.plot(x_range, prediction_curve, color=\"g\", label=f\"Prediction curve for polynomial of degree {best_fit_degree}\", linewidth=3)\n",
    "plt.xlabel(\"Spreading Factor\")\n",
    "plt.ylabel(\"% Population Change\")\n",
    "plt.legend()\n",
    "plt.suptitle(f\"Prediction Curve for Specified model\");"
   ]
  },
  {
   "cell_type": "markdown",
   "metadata": {
    "cell_id": "8a32aef5-65a6-426d-a7ca-1f6fd63b3b16",
    "tags": []
   },
   "source": [
    "<!-- END QUESTION -->\n",
    "\n",
    "<a id=\"part6\"></a>\n",
    "\n",
    "## <div class='exercise'>Question 6: Improving model consistency with LASSO regularization [33 pts]</div> \n",
    "\n",
    "[Return to contents](#contents)\n",
    "\n",
    "In the previous sections, we compared many polynomial models to find the best degree. For each model of degree $n$, we considered all polynomial coefficients *up to and including* **degree $n$** using `PolynomialFeatures(...)`. In this section we will consider polynomial features of $n=30$, and a **best model** that could be chosen from any possible combination of our 30 degrees.\n",
    "\n",
    "For instance, we could choose a best model with an arbitrary set of polynomial degrees up degree 30, such as $x^i \\in [x^1, x^5, x^{19}, x^{24}]$, rather than the standard approach of using *all* consecutive degrees up to our maximum degree $n=30$ as in $x^i \\in [x^1, ... , x^{30}]$.\n",
    "\n",
    "However, the total number of such possible models for $n=30$ is $2^{30}\\approx10^9$, and searching through all of them would be laborious and computationally inefficient. Instead, we can use $LASSO$ (i.e. $L1$) regularization, which \"switches off\" highly unstable degree coefficients by shrinking them to zero (or very close to zero), thus giving us an efficient solution to this particular combinatorial challenge."
   ]
  },
  {
   "cell_type": "markdown",
   "metadata": {},
   "source": [
    "<!-- BEGIN QUESTION -->\n",
    "\n",
    "<div class='exercise'><b>Q6.1</b></div>"
   ]
  },
  {
   "cell_type": "markdown",
   "metadata": {
    "cell_id": "8a32aef5-65a6-426d-a7ca-1f6fd63b3b16"
   },
   "source": [
    "**Find the best hyper-parameter alpha, $\\alpha$**\n",
    "\n",
    "Use the `LassoCV` estimator to find the best regularization parameter from $\\alpha \\in [10^{-5}, 10^{-4}, 10^{-3}, 10^{-2}, 10^{-1}]$\n",
    "- Store the mean cross-validation MSEs across each fold in `lassoCV_val_mses_mean`\n",
    "- Save the best $\\alpha$ based on the mean cross-validation MSE in `best_alpha`\n",
    "\n",
    "You should read the documentation for [LassoCV](https://scikit-learn.org/stable/modules/generated/sklearn.linear_model.LassoCV.html). Some important information about this estimator:\n",
    "- After calling `fit`, the model is now the one fit on the entire training data using the best alpha based on the mean CV MSE.\n",
    "- the `mse_path_` attribute contains the validation scores on each fold for each candidate alpha.\n",
    "- the `alpha_` attribute contains the best regularization parameter found through cross-validation\n",
    "\n",
    "**Tips:** You should try adjusting `LassoCV`'s `max_iter` argument to prevent convergence warnings. If you are unable to prevent them with a large number of iterations (~100,000) then you can silence them with:\n",
    "```{python}\n",
    "from warnings import simplefilter\n",
    "from sklearn.exceptions import ConvergenceWarning\n",
    "simplefilter(\"ignore\", category=ConvergenceWarning)\n",
    "```\n",
    "Do not worry about normalizing your $x$ values for any parts of Question 6. It will not meaningfully affect our final results here.\n",
    "\n",
    "_Points:_ 5"
   ]
  },
  {
   "cell_type": "code",
   "execution_count": 47,
   "metadata": {
    "cell_id": "4f9d6f96-a6b7-4951-a98a-f29e0351a113",
    "scrolled": true,
    "tags": []
   },
   "outputs": [
    {
     "name": "stderr",
     "output_type": "stream",
     "text": [
      "/opt/anaconda3/lib/python3.9/site-packages/sklearn/linear_model/_coordinate_descent.py:1571: DataConversionWarning: A column-vector y was passed when a 1d array was expected. Please change the shape of y to (n_samples, ), for example using ravel().\n",
      "  y = column_or_1d(y, warn=True)\n"
     ]
    }
   ],
   "source": [
    "values_of_alpha = [1e-5, 1e-4, 1e-3, 1e-2, 1e-1,]\n",
    "\n",
    "# Creating a design matrix, as previously:\n",
    "poly = PolynomialFeatures(30, include_bias=False)\n",
    "x_poly_train = poly.fit_transform(X_train)\n",
    "\n",
    "lasso_ = LassoCV(fit_intercept=True, alphas=values_of_alpha, cv=10,  max_iter=100_000)\n",
    "\n",
    "lasso_.fit(x_poly_train, y_train)\n",
    "\n",
    "\n",
    "best_alpha = float(lasso_.alpha_)\n",
    "\n",
    "#lassoCV_val_mses_mean = [np.mean(mses) for mses in lasso_regression.mse_path_]\n",
    "\n",
    "lassoCV_val_mses_mean = []\n",
    "\n",
    "for mses in lasso_.mse_path_:\n",
    "    lassoCV_val_mses_mean.append(np.mean(mses))\n",
    "    "
   ]
  },
  {
   "cell_type": "code",
   "execution_count": 48,
   "metadata": {
    "deletable": false,
    "editable": false
   },
   "outputs": [
    {
     "data": {
      "text/html": [
       "<p><strong><pre style='display: inline;'>q6.1</pre></strong> passed!</p>"
      ],
      "text/plain": [
       "q6.1 results: All test cases passed!"
      ]
     },
     "execution_count": 48,
     "metadata": {},
     "output_type": "execute_result"
    }
   ],
   "source": [
    "grader.check(\"q6.1\")"
   ]
  },
  {
   "cell_type": "markdown",
   "metadata": {},
   "source": [
    "<!-- BEGIN QUESTION -->\n",
    "\n",
    "<!-- BEGIN QUESTION -->\n",
    "\n",
    "<div class='exercise'><b>Q6.2</b></div>"
   ]
  },
  {
   "cell_type": "markdown",
   "metadata": {
    "cell_id": "8a32aef5-65a6-426d-a7ca-1f6fd63b3b16"
   },
   "source": [
    "Generate two plots:\n",
    "- One showing the mean validation $MSE$ values for each regularization parameter $\\alpha$, identifying the best $\\alpha$.\n",
    "- Another showing the values for each of the model's coefficients. \n",
    "\n",
    "_Points:_ 5"
   ]
  },
  {
   "cell_type": "code",
   "execution_count": 49,
   "metadata": {},
   "outputs": [],
   "source": [
    "alphas = LassoCV.path(x_poly_train, y_train, alphas=values_of_alpha)[0]\n",
    "coefficients = LassoCV.path(x_poly_train, y_train, alphas=values_of_alpha)[1]\n",
    "_ = LassoCV.path(x_poly_train, y_train, alphas=values_of_alpha)[2]"
   ]
  },
  {
   "cell_type": "code",
   "execution_count": 50,
   "metadata": {},
   "outputs": [
    {
     "data": {
      "image/png": "[encoded data removed]",
      "text/plain": [
       "<Figure size 1080x360 with 2 Axes>"
      ]
     },
     "metadata": {
      "needs_background": "light"
     },
     "output_type": "display_data"
    },
    {
     "data": {
      "image/png": "[encoded data removed]",
      "text/plain": [
       "<Figure size 1080x360 with 1 Axes>"
      ]
     },
     "metadata": {
      "needs_background": "light"
     },
     "output_type": "display_data"
    }
   ],
   "source": [
    "fig, (ax1, ax2) = plt.subplots(ncols=2, nrows=1, figsize=(15,5))\n",
    "\n",
    "\n",
    "\n",
    "# Finding the index of the best alphas\n",
    "best_alpha_index = np.where(lasso_.alphas_ == best_alpha)[0][0]\n",
    "ax1.scatter(lasso_.alphas_, lassoCV_val_mses_mean, c=\"r\")\n",
    "ax1.scatter(lasso_.alpha_, lassoCV_val_mses_mean[best_alpha_index], c=\"b\", label= rf\"best alpha: {best_alpha}\")\n",
    "ax1.set_xscale(\"log\")\n",
    "ax1.set_xlabel(\"Alpha\")\n",
    "ax1.set_ylabel(\"Mean MSE\")\n",
    "ax1.set_xticks(alphas);\n",
    "ax1.set_xticklabels(alphas);\n",
    "ax1.legend();\n",
    "ax1.set_title(r\"mean validation MSE values for each alpha\");\n",
    "\n",
    " \n",
    "for i, coeffs in enumerate(coefficients.T):\n",
    "    ax2.scatter(range(1,len(coeffs)+1), coeffs, label = rf\"$\\alpha$ : {alphas[i]}\", alpha=0.5)\n",
    "\n",
    "ax2.set_xlabel(\"DEGREE\")\n",
    "ax2.set_ylabel(\"COEFFICIENT\")\n",
    "ax2.set_title(r\"Coefficients as a function of alphas\");\n",
    "ax2.legend();\n",
    "\n",
    "fig, ax3 = plt.subplots(nrows=1, ncols=1, figsize=(15,5))\n",
    "\n",
    "ax3.bar(range(1,len(coeffs)+1), lasso_.coef_)\n",
    "\n",
    "for x,y in zip(range(1,len(coeffs)+1), lasso_.coef_):\n",
    "    ax3.annotate('{0:.2f}'.format(y), (x - (x*.001),y + (y*0.01)), rotation=45)\n",
    "ax3.set_ylabel(\"COEFFICIENT\")\n",
    "ax3.set_xlabel(\"DEGREE\")\n",
    "ax3.set_title(r\"Coefficients for best alpha as a function of the degree\")\n",
    "ax3.set_xticks(range(1,len(coeffs)+1));"
   ]
  },
  {
   "cell_type": "markdown",
   "metadata": {},
   "source": [
    "<!-- END QUESTION -->\n",
    "\n",
    "<!-- BEGIN QUESTION -->\n",
    "\n",
    "<!-- BEGIN QUESTION -->\n",
    "\n",
    "<div class='exercise'><b>Q6.3</b></div>"
   ]
  },
  {
   "cell_type": "markdown",
   "metadata": {
    "cell_id": "8a32aef5-65a6-426d-a7ca-1f6fd63b3b16"
   },
   "source": [
    "**Find the most significant degrees**\n",
    "\n",
    "**NOTE: The code for this question has been provided. It can take several minutes to run. Just be sure to answer the interpretation part of the question.**\n",
    "\n",
    "From the previous section, you will now have the `best_alpha` hyperparameter. Now, we will use this best $\\alpha$ value to find the \"most significant\" set of polynomial degrees by using bootstraps.\n",
    "\n",
    "What we mean by this is, for each bootstrap of the data, you will get some set of degrees that are **significant**, as will be indicated by the value of their coefficients. Typically, while using $LASSO$ regularization, we would consider $\\mid\\beta_i\\mid \\gt 0$ as an indication of a particular coefficient's significance. However, for this particular exercise, we are going to use $\\mid\\beta_i\\mid \\gt 0.1$ as our criteria for significance (we have found this $0.1$ threshold to work well when designing this particular problem).\n",
    "\n",
    "Based on this criteria, you will identify which degree coefficients are significant over many bootstrapped iterations with $n=30$ polynomial features and your chosen best $\\alpha$ from Question 6.1.\n",
    "\n",
    "- Use polynomial features with **degree 30**.\n",
    "- Use a dictionary called `significant_degrees` to store a cumulative count for each degree identified as significant during your bootstraps.\n",
    "- Run at least 100 bootstraps of your data.\n",
    "- For each bootstrap:\n",
    "  - Train a `Lasso(...)` model with the `best_alpha` identified in Question 6.1.\n",
    "  - Identify the significant polynomial degree coefficients using $\\mid\\beta_i\\mid \\gt 0.1 $ as our threshold for significance.\n",
    "  - For each significant coefficient, update the count of that degree in your `significant_degrees` dictionary.\n",
    "- Generate a bar plot showing the count for each degree, showing how many times it was identified as significant over your bootstraps.\n",
    "- Based on this plot, there should likely be a clear maximum degree, above which, few if any iterations have been identified as significant. Interpret your bar plot, choose a maximum degree polynomial based upon it, and explain your rationale for choosing that degree.\n",
    "\n",
    "_Points:_ 5"
   ]
  },
  {
   "cell_type": "markdown",
   "metadata": {},
   "source": [
    "This bar plot shows the count for each degree, and shows how many times it was identified as significant over our bootstraps. 10 is the last degree at which any iterations are deemed significant, which is why we should choose it. "
   ]
  },
  {
   "cell_type": "code",
   "execution_count": 51,
   "metadata": {
    "cell_id": "1e847ea0-95b4-47fa-8c71-09636de2c913",
    "tags": []
   },
   "outputs": [],
   "source": [
    "# Setting bootstrap parameters\n",
    "numboot = 100\n",
    "max_degree = 30\n",
    "include_bias = False\n",
    "fit_intercept = True\n",
    "max_iter = 100000\n",
    "\n",
    "# Creating empty dictionary to store results\n",
    "significant_degrees = {}\n",
    "\n",
    "\n",
    "df_train = pd.read_csv('/Users/jamesliounis/Downloads/cs109a_hw3-2/data/bacteria_train.csv')\n",
    "for i in range(numboot):\n",
    "    df_boot = df_train.sample(frac=1, replace=True)\n",
    "    x_train_boot = df_boot[[\"Spreading_factor\"]]\n",
    "    x_poly_train = PolynomialFeatures(\n",
    "        max_degree, include_bias=include_bias\n",
    "    ).fit_transform(x_train_boot)\n",
    "    y_train_boot = df_boot.Perc_population\n",
    "\n",
    "    lasso = Lasso(\n",
    "        fit_intercept=fit_intercept,\n",
    "        max_iter=max_iter,\n",
    "        alpha=best_alpha,\n",
    "    )\n",
    "    lasso.fit(x_poly_train, y_train_boot)\n",
    "    \n",
    "    if fit_intercept==True:\n",
    "        coefficients = [lasso.intercept_, *lasso.coef_]\n",
    "    else:\n",
    "        coefficients = lasso.coef_\n",
    "\n",
    "    for i in np.where(np.abs(coefficients)>0.1)[0]:\n",
    "        if i not in significant_degrees.keys():\n",
    "            significant_degrees[i]=1\n",
    "        else:\n",
    "            significant_degrees[i]+=1"
   ]
  },
  {
   "cell_type": "code",
   "execution_count": 52,
   "metadata": {
    "cell_id": "4b9d11b1-bc81-4937-8924-eda535bbe287",
    "tags": []
   },
   "outputs": [
    {
     "data": {
      "image/png": "[encoded data removed]",
      "text/plain": [
       "<Figure size 720x360 with 1 Axes>"
      ]
     },
     "metadata": {
      "needs_background": "light"
     },
     "output_type": "display_data"
    }
   ],
   "source": [
    "fig, ax = plt.subplots(figsize=(10,5))\n",
    "\n",
    "lists = sorted(significant_degrees.items())\n",
    "\n",
    "x, y = zip(*lists)\n",
    "\n",
    "ax.bar(x, y, alpha=0.7)\n",
    "ax.set_xlabel(\"Degree\", fontsize=12)\n",
    "ax.set_ylabel(\"Frequency (counts)\", fontsize=12)\n",
    "ax.set_xticks(range(max_degree+1))\n",
    "ax.set_title(\n",
    "    \"Number of times each degree coefficient was identified as significant at\\n\"\n",
    "    f\"$\\mid\\\\beta_i\\mid > 0.1$ over {numboot} bootstrapped $LASSO$ models \"\n",
    "    f\"with $\\\\alpha={best_alpha}$\",\n",
    "    fontsize=14,\n",
    ")\n",
    "plt.grid(\":\", alpha=0.4)"
   ]
  },
  {
   "cell_type": "markdown",
   "metadata": {},
   "source": [
    "<!-- END QUESTION -->\n",
    "\n",
    "<!-- BEGIN QUESTION -->\n",
    "\n",
    "<!-- BEGIN QUESTION -->\n",
    "\n",
    "<div class='exercise'><b>Q6.4</b></div>"
   ]
  },
  {
   "cell_type": "markdown",
   "metadata": {
    "cell_id": "8a32aef5-65a6-426d-a7ca-1f6fd63b3b16"
   },
   "source": [
    "From our Question 6.3 results, we can see that only some degrees are consistently significant over many bootstraps.\n",
    "\n",
    "- Use polynomial features based on the maximum degree you identified using your results from Question 6.3 (for the sake of simplicity, use all degrees up to that maximum degree as is typically done in polynomial regression).\n",
    "- Train your **LASSO** regularized model using your `best_alpha` hyper-parameter on the entire training set.\n",
    "- Append a new dictionary for this model to your `results` list.\n",
    "\n",
    "_Points:_ 6"
   ]
  },
  {
   "cell_type": "code",
   "execution_count": 53,
   "metadata": {
    "tags": []
   },
   "outputs": [
    {
     "data": {
      "text/html": [
       "<div>\n",
       "<style scoped>\n",
       "    .dataframe tbody tr th:only-of-type {\n",
       "        vertical-align: middle;\n",
       "    }\n",
       "\n",
       "    .dataframe tbody tr th {\n",
       "        vertical-align: top;\n",
       "    }\n",
       "\n",
       "    .dataframe thead th {\n",
       "        text-align: right;\n",
       "    }\n",
       "</style>\n",
       "<table border=\"1\" class=\"dataframe\">\n",
       "  <thead>\n",
       "    <tr style=\"text-align: right;\">\n",
       "      <th></th>\n",
       "      <th>train_mse</th>\n",
       "      <th>test_mse</th>\n",
       "    </tr>\n",
       "    <tr>\n",
       "      <th>model</th>\n",
       "      <th></th>\n",
       "      <th></th>\n",
       "    </tr>\n",
       "  </thead>\n",
       "  <tbody>\n",
       "    <tr>\n",
       "      <th>2.2</th>\n",
       "      <td>2.661715</td>\n",
       "      <td>2.674863</td>\n",
       "    </tr>\n",
       "    <tr>\n",
       "      <th>3.4</th>\n",
       "      <td>2.490946</td>\n",
       "      <td>2.736483</td>\n",
       "    </tr>\n",
       "    <tr>\n",
       "      <th>4.3</th>\n",
       "      <td>2.512517</td>\n",
       "      <td>2.613011</td>\n",
       "    </tr>\n",
       "    <tr>\n",
       "      <th>5.4</th>\n",
       "      <td>2.512517</td>\n",
       "      <td>2.613011</td>\n",
       "    </tr>\n",
       "    <tr>\n",
       "      <th>6.4</th>\n",
       "      <td>2.537053</td>\n",
       "      <td>2.592273</td>\n",
       "    </tr>\n",
       "  </tbody>\n",
       "</table>\n",
       "</div>"
      ],
      "text/plain": [
       "       train_mse  test_mse\n",
       "model                     \n",
       "2.2     2.661715  2.674863\n",
       "3.4     2.490946  2.736483\n",
       "4.3     2.512517  2.613011\n",
       "5.4     2.512517  2.613011\n",
       "6.4     2.537053  2.592273"
      ]
     },
     "execution_count": 53,
     "metadata": {},
     "output_type": "execute_result"
    }
   ],
   "source": [
    "deg_chosen = 10\n",
    "\n",
    "# design polynomial matrix\n",
    "poly = PolynomialFeatures(deg_chosen, include_bias=False)\n",
    "x_poly_train = poly.fit_transform(X_train)\n",
    "x_poly_test = poly.fit_transform(X_test)\n",
    "\n",
    "# lasso regression with best alpha\n",
    "lasso_ = Lasso(fit_intercept=True, alpha=best_alpha)\n",
    "lasso_.fit(x_poly_train, y_train)\n",
    "\n",
    "# make predictions\n",
    "y_train_pred = lasso_.predict(x_poly_train)\n",
    "y_test_pred = lasso_.predict(x_poly_test)\n",
    "\n",
    "# calculate MSE\n",
    "train_mse = mean_squared_error(y_train, y_train_pred)\n",
    "test_mse = mean_squared_error(y_test, y_test_pred)\n",
    "\n",
    "def get_metrics4(model, name: str) -> dict:\n",
    "    d = {}\n",
    "    d['model'] = name\n",
    "    d['train_mse'] = mean_squared_error(y_train, y_train_pred)\n",
    "    d['test_mse'] = mean_squared_error(y_test, y_test_pred)\n",
    "    return d\n",
    "\n",
    "\n",
    "results.append(get_metrics4(lasso, '6.4'))\n",
    "\n",
    "results_df = pd.DataFrame(results).set_index('model')\n",
    "results_df\n",
    "\n"
   ]
  },
  {
   "cell_type": "code",
   "execution_count": 54,
   "metadata": {
    "deletable": false,
    "editable": false
   },
   "outputs": [
    {
     "data": {
      "text/html": [
       "<p><strong><pre style='display: inline;'>q6.4</pre></strong> passed!</p>"
      ],
      "text/plain": [
       "q6.4 results: All test cases passed!"
      ]
     },
     "execution_count": 54,
     "metadata": {},
     "output_type": "execute_result"
    }
   ],
   "source": [
    "grader.check(\"q6.4\")"
   ]
  },
  {
   "cell_type": "markdown",
   "metadata": {},
   "source": [
    "<!-- END QUESTION -->\n",
    "\n",
    "<!-- BEGIN QUESTION -->\n",
    "\n",
    "<!-- BEGIN QUESTION -->\n",
    "\n",
    "<div class='exercise'><b>Q6.5</b></div>"
   ]
  },
  {
   "cell_type": "markdown",
   "metadata": {
    "cell_id": "8a32aef5-65a6-426d-a7ca-1f6fd63b3b16"
   },
   "source": [
    "- Generate a plot of the data and your regression curve.\n",
    "- Report the polynomial degrees and corresponding coefficients for this fully trained model that have an absolute value greater than 0.1 (i.e. $\\mid\\beta_i\\mid \\gt 0.1 $)\n",
    "- Display `results` as a DataFrame.\n",
    "\n",
    "_Points:_ 6"
   ]
  },
  {
   "cell_type": "code",
   "execution_count": 55,
   "metadata": {},
   "outputs": [
    {
     "name": "stdout",
     "output_type": "stream",
     "text": [
      "Polynomial degrees and corresponding coefficients are:\n",
      "x^1 : 1.9752171615200025\n",
      "x^2 : 0.44958158087272676\n",
      "x^4 : 0.8292797602178414\n",
      "x^6 : -0.22748917853733705\n",
      "Intercept is: 1.428330850949246\n"
     ]
    },
    {
     "data": {
      "image/png": "[encoded data removed]",
      "text/plain": [
       "<Figure size 936x576 with 1 Axes>"
      ]
     },
     "metadata": {
      "needs_background": "light"
     },
     "output_type": "display_data"
    }
   ],
   "source": [
    "# We generate some data to predict on:\n",
    "\n",
    "x_range = np.linspace(min(float(X_train.min()), float(X_test.min())), max(float(X_train.max()), float(X_test.max())), 100)\n",
    "\n",
    "\n",
    "\n",
    "polynomial = PolynomialFeatures(degree= deg_chosen, include_bias=False)\n",
    "x_train_poly = polynomial.fit_transform(X_train)\n",
    "x_val_poly = polynomial.transform(X_test)\n",
    "\n",
    "lasso_ = Lasso(fit_intercept=True, alpha=best_alpha)\n",
    "lasso_.fit(x_poly_train, y_train)\n",
    "\n",
    "\n",
    "prediction_curve = lasso_.predict(\n",
    "    polynomial.transform(x_range.reshape(-1, 1))\n",
    ")\n",
    "\n",
    "\n",
    "plt.figure(figsize=(13,8))\n",
    "plt.scatter(x=X_train, y=y_train, color=\"b\", label=\"train\", alpha=0.5)\n",
    "plt.scatter(x=X_test, y=y_test, color=\"r\", label=\"test\", alpha=0.5)\n",
    "plt.plot(x_range, prediction_curve, color=\"g\", label=f\"Prediction curve for polynomial of degree {deg_chosen}\", linewidth=3)\n",
    "plt.xlabel(\"Spreading Factor\")\n",
    "plt.ylabel(\"% Population Change\")\n",
    "plt.legend()\n",
    "plt.suptitle(f\"Prediction Curve for Specified model\");\n",
    "\n",
    "\n",
    "greater_than_val = lambda x: abs(x[1]) > 0.1\n",
    "\n",
    "degrees_with_value_greater_than_1 = []\n",
    "for x in lasso_.coef_:\n",
    "    if abs(x) > 0.1:\n",
    "        degrees_with_value_greater_than_1.append(x)\n",
    "        \n",
    "degrees_with_value_greater_than_1\n",
    "\n",
    "x_s = ['x^1', 'x^2', 'x^4', 'x^6']\n",
    "\n",
    "\n",
    "print(\"Polynomial degrees and corresponding coefficients are:\")\n",
    "for x, coef in zip(x_s, degrees_with_value_greater_than_1):\n",
    "    print(x,':',coef)\n",
    "    \n",
    "print('Intercept is:', lasso_.intercept_[0])"
   ]
  },
  {
   "cell_type": "code",
   "execution_count": 56,
   "metadata": {},
   "outputs": [
    {
     "name": "stdout",
     "output_type": "stream",
     "text": [
      "Displaying results as DataFrame:\n"
     ]
    },
    {
     "data": {
      "text/html": [
       "<div>\n",
       "<style scoped>\n",
       "    .dataframe tbody tr th:only-of-type {\n",
       "        vertical-align: middle;\n",
       "    }\n",
       "\n",
       "    .dataframe tbody tr th {\n",
       "        vertical-align: top;\n",
       "    }\n",
       "\n",
       "    .dataframe thead th {\n",
       "        text-align: right;\n",
       "    }\n",
       "</style>\n",
       "<table border=\"1\" class=\"dataframe\">\n",
       "  <thead>\n",
       "    <tr style=\"text-align: right;\">\n",
       "      <th></th>\n",
       "      <th>train_mse</th>\n",
       "      <th>test_mse</th>\n",
       "    </tr>\n",
       "    <tr>\n",
       "      <th>model</th>\n",
       "      <th></th>\n",
       "      <th></th>\n",
       "    </tr>\n",
       "  </thead>\n",
       "  <tbody>\n",
       "    <tr>\n",
       "      <th>2.2</th>\n",
       "      <td>2.661715</td>\n",
       "      <td>2.674863</td>\n",
       "    </tr>\n",
       "    <tr>\n",
       "      <th>3.4</th>\n",
       "      <td>2.490946</td>\n",
       "      <td>2.736483</td>\n",
       "    </tr>\n",
       "    <tr>\n",
       "      <th>4.3</th>\n",
       "      <td>2.512517</td>\n",
       "      <td>2.613011</td>\n",
       "    </tr>\n",
       "    <tr>\n",
       "      <th>5.4</th>\n",
       "      <td>2.512517</td>\n",
       "      <td>2.613011</td>\n",
       "    </tr>\n",
       "    <tr>\n",
       "      <th>6.4</th>\n",
       "      <td>2.537053</td>\n",
       "      <td>2.592273</td>\n",
       "    </tr>\n",
       "  </tbody>\n",
       "</table>\n",
       "</div>"
      ],
      "text/plain": [
       "       train_mse  test_mse\n",
       "model                     \n",
       "2.2     2.661715  2.674863\n",
       "3.4     2.490946  2.736483\n",
       "4.3     2.512517  2.613011\n",
       "5.4     2.512517  2.613011\n",
       "6.4     2.537053  2.592273"
      ]
     },
     "execution_count": 56,
     "metadata": {},
     "output_type": "execute_result"
    }
   ],
   "source": [
    "print(\"Displaying results as DataFrame:\")\n",
    "results_df"
   ]
  },
  {
   "cell_type": "markdown",
   "metadata": {},
   "source": [
    "<!-- END QUESTION -->\n",
    "\n",
    "<!-- BEGIN QUESTION -->\n",
    "\n",
    "<!-- BEGIN QUESTION -->\n",
    "\n",
    "<div class='exercise'><b>Q6.6</b></div>"
   ]
  },
  {
   "cell_type": "markdown",
   "metadata": {
    "cell_id": "8a32aef5-65a6-426d-a7ca-1f6fd63b3b16"
   },
   "source": [
    "**What are your observations?**\n",
    "\n",
    "- Compare your `best_degree` from [Question 5](#part5solutions) with your chosen degree in 6.4 above and comment on the difference.\n",
    "- Compare your test $MSE$ in this question with the result from question 5. Which one is smaller, and by how much?\n",
    "- Which degree coefficients in your best fit model from 6.4 are significant? If not all coefficients are significant, why?\n",
    "- Would you expect your current model from 6.4 to be more \"reliable\" or robust than the models in Question 5 and prior? On what basis would you make a claim of its robustness?\n",
    "\n",
    "\n",
    "_Points:_ 6"
   ]
  },
  {
   "cell_type": "markdown",
   "metadata": {},
   "source": [
    "Choosing a degree that is 3 degrees less than the previous degree (12) results in a looser fit to the training data. However, it is worth noting here that this decrease in polynomial degree resulted in a decrease in test data MSE of approximately 0.1. This would enable one to argue that even though the model doesn't fit the data as closely, it is probably more reliable and accurate due to the fact that it has the lowest test MSE. \n",
    "\n",
    "The only significant coefficients are the intercept and Betas 1,2,4 and 6. The others are insignificant because we are unable to reject the null hypothesis that the coefficients are equal to 0. This is most likely attributable to their low predictive value. "
   ]
  },
  {
   "cell_type": "markdown",
   "metadata": {
    "cell_id": "fe903f84-5847-4e97-95c5-4424e57a375c",
    "tags": []
   },
   "source": [
    "<!-- END QUESTION -->\n",
    "\n",
    "<a id=\"part7\"></a>\n",
    "\n",
    "## <div class='exercise'>Question 7: Analyze your best test MSEs for each sub section of the homework [6 pts]</div> \n",
    "\n",
    "[Return to contents](#contents)"
   ]
  },
  {
   "cell_type": "markdown",
   "metadata": {},
   "source": [
    "<!-- BEGIN QUESTION -->\n",
    "\n",
    "<!-- BEGIN QUESTION -->\n",
    "\n",
    "<div class='exercise'><b>Q7.1</b></div>"
   ]
  },
  {
   "cell_type": "markdown",
   "metadata": {
    "cell_id": "fe903f84-5847-4e97-95c5-4424e57a375c",
    "tags": []
   },
   "source": [
    "Using the `results` list, generate a bar plot illustrating the test $MSE$ values for each of the models. Display `results` as a Dataframe as well.\n",
    "\n",
    "_Points:_ 3"
   ]
  },
  {
   "cell_type": "code",
   "execution_count": 57,
   "metadata": {},
   "outputs": [],
   "source": [
    "models = []\n",
    "for i in results_df.index:\n",
    "    models.append(i)"
   ]
  },
  {
   "cell_type": "code",
   "execution_count": 59,
   "metadata": {
    "cell_id": "6a95aee4-794c-4c64-814f-2c6409017f10",
    "tags": []
   },
   "outputs": [
    {
     "data": {
      "image/png": "[encoded data removed]",
      "text/plain": [
       "<Figure size 936x576 with 1 Axes>"
      ]
     },
     "metadata": {
      "needs_background": "light"
     },
     "output_type": "display_data"
    }
   ],
   "source": [
    "results_df.reset_index(inplace=True)\n",
    "results_df.plot.bar(x='model', y=\"test_mse\", ylabel=\"MSE\", title=\"MSE for each model\", figsize=(13,8));"
   ]
  },
  {
   "cell_type": "markdown",
   "metadata": {},
   "source": [
    "<!-- END QUESTION -->\n",
    "\n",
    "<!-- BEGIN QUESTION -->\n",
    "\n",
    "<!-- BEGIN QUESTION -->\n",
    "\n",
    "<div class='exercise'><b>Q7.2</b></div>"
   ]
  },
  {
   "cell_type": "markdown",
   "metadata": {
    "cell_id": "fe903f84-5847-4e97-95c5-4424e57a375c",
    "tags": []
   },
   "source": [
    "Which model do you think is best, and why? What are some of that model's drawbacks compared to the other models? \n",
    "\n",
    "_Points:_ 3"
   ]
  },
  {
   "cell_type": "markdown",
   "metadata": {},
   "source": [
    "One may argue that model 6.4 is the best. The bar chart shows that it has the lowest test MSE, thus meaning that it is not prone to overfitting as may be the case with other models. \n",
    "This being said, it still has some major drawbacks.\n",
    "Recall that the underlying mechanism is that it penalizes the sum of the absolute value of the coefficients in order to avoid overfitting. As a result, a regularized linear regression with fine tuned parameters will not overfit, meaning that the MSE of both the train and test set will be similar, which is the case here. However, this model is \"automatic\" and follows specific steps. One of these steps is that it ignores nonsignificant variables that may, nevertheless, be interesting or important. This may be the case here given the results that we obtained when we had to retrieve our most significant coefficients, two steps above. \n",
    "Another drawback may be the complexity in computing it, which may be an issue regarding cost/performance especially at a larger scale (e.g., in production at a large company). In this sense, the slightly lower MSE tradeoff may not make sense. "
   ]
  },
  {
   "cell_type": "markdown",
   "metadata": {},
   "source": [
    "<!-- END QUESTION -->\n",
    "\n",
    "**This concludes HW3. Thank you!**\n",
    "\n",
    "[Return to contents](#contents)"
   ]
  }
 ],
 "metadata": {
  "colab": {
   "collapsed_sections": [],
   "name": "Homework2.ipynb",
   "provenance": []
  },
  "deepnote_execution_queue": [
   {
    "cellId": "7925de61-e041-437e-ba6b-b1c3e1b2fb0c",
    "msgId": "81bcbf6f-fa59-42e6-9480-bc996bae8f99",
    "sessionId": "e7116124-0a70-4245-961a-e0041ff25d29"
   },
   {
    "cellId": "32ac05dc-6db8-4c64-8028-4a6e4c16ec1c",
    "msgId": "17b61e3a-31e9-45e0-b1c8-cba828b9a48d",
    "sessionId": "e7116124-0a70-4245-961a-e0041ff25d29"
   },
   {
    "cellId": "9e4ea6c6-2cb0-4aa1-b5bf-67be3a47ac87",
    "msgId": "66b23ef4-2198-4543-a34e-3b998d83f1c7",
    "sessionId": "e7116124-0a70-4245-961a-e0041ff25d29"
   },
   {
    "cellId": "0cdef907-9d0f-4057-a70b-71022017e321",
    "msgId": "125b9c17-7ffa-4214-9ca2-27e9e34df7c7",
    "sessionId": "e7116124-0a70-4245-961a-e0041ff25d29"
   },
   {
    "cellId": "2eefd92c-1d9f-49fe-a7f7-d7f0f4f59e95",
    "msgId": "81a1b165-ee3a-4ab0-afff-99f4dfa74eef",
    "sessionId": "e7116124-0a70-4245-961a-e0041ff25d29"
   },
   {
    "cellId": "40b93f58-240f-49bc-ab9c-a919d74b8e61",
    "msgId": "4b00a64e-a71b-4cf9-a228-cbabdbee0414",
    "sessionId": "e7116124-0a70-4245-961a-e0041ff25d29"
   },
   {
    "cellId": "2f3d3efa-8220-44b2-afbf-9600c2fea073",
    "msgId": "5bdcc501-f577-4908-9e85-aa52b44f652f",
    "sessionId": "e7116124-0a70-4245-961a-e0041ff25d29"
   },
   {
    "cellId": "2f3d3efa-8220-44b2-afbf-9600c2fea073",
    "msgId": "96fa923e-991c-409f-954b-1a9d036a7f0a",
    "sessionId": "e7116124-0a70-4245-961a-e0041ff25d29"
   },
   {
    "cellId": "cc0c9423-6587-41fb-88c4-5e7db61d7791",
    "msgId": "c4775dd8-e4e3-4505-865a-d2b54022e97c",
    "sessionId": "e7116124-0a70-4245-961a-e0041ff25d29"
   },
   {
    "cellId": "4f9d6f96-a6b7-4951-a98a-f29e0351a113",
    "msgId": "2721b704-5efa-4783-a128-ea0b813e202f",
    "sessionId": "e7116124-0a70-4245-961a-e0041ff25d29"
   },
   {
    "cellId": "4f9d6f96-a6b7-4951-a98a-f29e0351a113",
    "msgId": "14cd3ada-ede8-4693-b8ce-b1254e5357cb",
    "sessionId": "e7116124-0a70-4245-961a-e0041ff25d29"
   },
   {
    "cellId": "1e847ea0-95b4-47fa-8c71-09636de2c913",
    "msgId": "a53842aa-e7d2-4787-a474-04717a13bf12",
    "sessionId": "e7116124-0a70-4245-961a-e0041ff25d29"
   },
   {
    "cellId": "4b9d11b1-bc81-4937-8924-eda535bbe287",
    "msgId": "f9fa1ff3-ed3e-4876-8bb3-239ee4ec0279",
    "sessionId": "e7116124-0a70-4245-961a-e0041ff25d29"
   },
   {
    "cellId": "8e836c0a-f87f-43f5-9448-838d0028b904",
    "msgId": "f7641d44-aaf7-4676-bbd4-439a47d4db1f",
    "sessionId": "e7116124-0a70-4245-961a-e0041ff25d29"
   },
   {
    "cellId": "c72943b7-5e58-4fe3-9225-fa0beeff3654",
    "msgId": "1878748e-321b-484f-bee1-344ec8caf68e",
    "sessionId": "e7116124-0a70-4245-961a-e0041ff25d29"
   },
   {
    "cellId": "c4bd7d98-380a-4853-8114-51d41f0cfd95",
    "msgId": "af49c97c-7c7c-4b0c-9543-5c38d238fffb",
    "sessionId": "e7116124-0a70-4245-961a-e0041ff25d29"
   },
   {
    "cellId": "c4bd7d98-380a-4853-8114-51d41f0cfd95",
    "msgId": "691b283d-e47a-4686-9e73-4f457365a32a",
    "sessionId": "e7116124-0a70-4245-961a-e0041ff25d29"
   }
  ],
  "deepnote_notebook_id": "80dec77d-caa5-42a3-a211-a1492a1ab3e6",
  "kernelspec": {
   "display_name": "Python 3 (ipykernel)",
   "language": "python",
   "name": "python3"
  },
  "language_info": {
   "codemirror_mode": {
    "name": "ipython",
    "version": 3
   },
   "file_extension": ".py",
   "mimetype": "text/x-python",
   "name": "python",
   "nbconvert_exporter": "python",
   "pygments_lexer": "ipython3",
   "version": "3.9.12"
  },
  "otter": {
   "OK_FORMAT": true,
   "tests": {
    "q2.1": {
     "name": "q2.1",
     "points": 2,
     "suites": [
      {
       "cases": [
        {
         "code": ">>> assert type(guessed_deg) == int, \"guessed_deg should be an integer\"\n>>> assert type(x_poly_train) == np.ndarray, \"x_poly_train should be a numpy array\"\n>>> assert type(x_poly_test) == np.ndarray, \"x_poly_test should be a numpy array\"\n>>> assert x_poly_train.shape[1] == guessed_deg,\\\n...     \"Your train design matrix should have the same number of columns as guessed_deg\"\n>>> assert x_poly_test.shape[1] == guessed_deg,\\\n...     \"Your test design matrix should have the same number of columns as guessed_deg\"\n",
         "hidden": false,
         "locked": false
        }
       ],
       "scored": true,
       "setup": "",
       "teardown": "",
       "type": "doctest"
      }
     ]
    },
    "q2.2": {
     "name": "q2.2",
     "points": 2,
     "suites": [
      {
       "cases": [
        {
         "code": ">>> assert type(results) == list, \"results should be a list of dictionaries\"\n>>> assert all([type(x) == dict for x in results]), \"results should be a list of dictionaries\"\n>>> assert all([k in ['model', 'train_mse', 'test_mse'] for k in results[0].keys()]),\\\n...             \"The dictionary in your results list should have the keys: 'model', 'train_mse', 'test_mse'.\"\n>>> assert isinstance(results[0]['train_mse'], float),  \"'train_mse' should be a float\"\n>>> assert isinstance(results[0]['test_mse'], float),  \"'test_mse' should be a float\"\n>>> assert results[0]['model'] == '2.2',  \"'The model name in your first result dictionary should be '2.2' (a string)\"\n",
         "hidden": false,
         "locked": false
        }
       ],
       "scored": true,
       "setup": "",
       "teardown": "",
       "type": "doctest"
      }
     ]
    },
    "q3.1": {
     "name": "q3.1",
     "points": 1,
     "suites": [
      {
       "cases": [
        {
         "code": ">>> assert x_train80.shape == (338,1),\\\n...     \"Your new x_train80 should be 80% the size of the original x_train and should be 2-dimensional.\"+\\\n...     \" (reshape might help)\"\n>>> assert y_train80.size == 338, \"Your new y_train80 should be 80% the size of the original y_train.\"\n>>> assert x_val.shape == (85,1), \"x_val should be 20% the size of the original x_train and should be 2-dimensional.\"+\\\n...     \" (reshape might help)\"\n>>> assert y_val.size == 85, \"Your new y_val should be 20% the size of the original training set.\"\n",
         "hidden": false,
         "locked": false
        }
       ],
       "scored": true,
       "setup": "",
       "teardown": "",
       "type": "doctest"
      }
     ]
    },
    "q3.2": {
     "name": "q3.2",
     "points": 2,
     "suites": [
      {
       "cases": [
        {
         "code": ">>> assert (type(train_mses) == list) and len(train_mses) == 30, \"`train_mses` should be a list with 30 elements\"\n>>> assert (type(val_mses) == list) and len(val_mses) == 30, \"`val_mses` should be a list with 30 elements\"\n>>> assert all([isinstance(x, float) for x in train_mses]), \"All train MSE values should be floats.\"\n>>> assert all([isinstance(x, float) for x in val_mses]), \"All validation MSE values should be floats.\"\n",
         "hidden": false,
         "locked": false
        }
       ],
       "scored": true,
       "setup": "",
       "teardown": "",
       "type": "doctest"
      }
     ]
    },
    "q3.4": {
     "name": "q3.4",
     "points": 3,
     "suites": [
      {
       "cases": [
        {
         "code": ">>> assert all([k in ['model', 'train_mse', 'test_mse'] for k in results[1].keys()]),\\\n...             \"The 2nd dictionary in your results list should have the keys: 'model', 'train_mse', 'test_mse'.\"\n>>> assert isinstance(results[1]['train_mse'], float),  \"'train_mse' should be a float\"\n>>> assert isinstance(results[1]['test_mse'], float),  \"'test_mse' should be a float\"\n>>> assert results[1]['model'] == '3.4',  \"'The model name in your 2nd result dictionary should be '3.4' (a string)\"\n",
         "hidden": false,
         "locked": false
        }
       ],
       "scored": true,
       "setup": "",
       "teardown": "",
       "type": "doctest"
      }
     ]
    },
    "q4.1": {
     "name": "q4.1",
     "points": 4,
     "suites": [
      {
       "cases": [
        {
         "code": ">>> assert (type(train_mses_mean) == list) and (len(train_mses_mean) == 30),\\\n...     \"train_mses_mean should be a list with 30 elements (one for each degree fit)\"\n>>> assert all([isinstance(x, float) for x in train_mses_mean]), \"All elements of train_mses_mean should be floats.\"\n>>> assert (type(val_mses_mean) == list) and len(val_mses_mean) == 30,\\\n...     \"val_mses_mean should be a list with 30 elements (one for each degree fit)\"\n>>> assert all([isinstance(x, float) for x in val_mses_mean]), \"All elements of val_mses_mean should be floats.\"\n>>> assert (type(val_mses_std) == list) and len(val_mses_std) == 30,\\\n...     \"val_mses_std should be a list with 30 elements (one for each degree fit)\"\n>>> assert all([isinstance(x, float) for x in val_mses_std]), \"All elements of val_mses_std should be floats.\"\n",
         "hidden": false,
         "locked": false
        }
       ],
       "scored": true,
       "setup": "",
       "teardown": "",
       "type": "doctest"
      }
     ]
    },
    "q4.3": {
     "name": "q4.3",
     "points": 4,
     "suites": [
      {
       "cases": [
        {
         "code": ">>> assert all([k in ['model', 'train_mse', 'test_mse'] for k in results[2].keys()]),\\\n...             \"The 3rd dictionary in your results list should have the keys: 'model', 'train_mse', 'test_mse'.\"\n>>> assert isinstance(results[2]['train_mse'], float),  \"'train_mse' should be a float\"\n>>> assert isinstance(results[2]['test_mse'], float),  \"'test_mse' should be a float\"\n>>> assert results[2]['model'] == '4.3',  \"'The model name in your 3rd result dictionary should be '4.3' (a string)\"\n",
         "hidden": false,
         "locked": false
        }
       ],
       "scored": true,
       "setup": "",
       "teardown": "",
       "type": "doctest"
      }
     ]
    },
    "q5.1": {
     "name": "q5.1",
     "points": 4,
     "suites": [
      {
       "cases": [
        {
         "code": ">>> assert (type(best_degrees) == list) and (len(best_degrees) == 100),\\\n...     \"best_degrees should be a list with 100 elements (one for each bootstrap).\"\n>>> assert all([isinstance(x, int) for x in best_degrees]),\\\n...     \"All elements of best_degrees should be integers.\"\n",
         "hidden": false,
         "locked": false
        }
       ],
       "scored": true,
       "setup": "",
       "teardown": "",
       "type": "doctest"
      }
     ]
    },
    "q5.4": {
     "name": "q5.4",
     "points": 3,
     "suites": [
      {
       "cases": [
        {
         "code": ">>> assert all([k in ['model', 'train_mse', 'test_mse'] for k in results[3].keys()]),\\\n...             \"The 4th dictionary in your results list should have the keys: 'model', 'train_mse', 'test_mse'.\"\n>>> assert isinstance(results[3]['train_mse'], float),  \"'train_mse' should be a float\"\n>>> assert isinstance(results[3]['test_mse'], float),  \"'test_mse' should be a float\"\n>>> assert results[3]['model'] == '5.4',  \"'The model name in your 4th result dictionary should be '5.4' (a string)\"\n",
         "hidden": false,
         "locked": false
        }
       ],
       "scored": true,
       "setup": "",
       "teardown": "",
       "type": "doctest"
      }
     ]
    },
    "q6.1": {
     "name": "q6.1",
     "points": 5,
     "suites": [
      {
       "cases": [
        {
         "code": ">>> assert len(lassoCV_val_mses_mean) == 5, \"You should have 5 mean val MSEs (one for each candidate alpha\" \n>>> assert isinstance(best_alpha, float), \"best_alpha should be a float\"\n",
         "hidden": false,
         "locked": false
        }
       ],
       "scored": true,
       "setup": "",
       "teardown": "",
       "type": "doctest"
      }
     ]
    },
    "q6.4": {
     "name": "q6.4",
     "points": 6,
     "suites": [
      {
       "cases": [
        {
         "code": ">>> assert all([k in ['model', 'train_mse', 'test_mse'] for k in results[4].keys()]),\\\n...             \"The 5th dictionary in your results list should have the keys: 'model', 'train_mse', 'test_mse'.\"\n>>> assert isinstance(results[4]['train_mse'], float),  \"'train_mse' should be a float\"\n>>> assert isinstance(results[4]['test_mse'], float),  \"'test_mse' should be a float\"\n>>> assert results[4]['model'] == '6.4',  \"'The model name in your 5th result dictionary should be '6.4' (a string)\"\n",
         "hidden": false,
         "locked": false
        }
       ],
       "scored": true,
       "setup": "",
       "teardown": "",
       "type": "doctest"
      }
     ]
    }
   }
  }
 },
 "nbformat": 4,
 "nbformat_minor": 4
}
