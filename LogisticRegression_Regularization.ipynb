{
 "cells": [
  {
   "cell_type": "code",
   "execution_count": 1,
   "metadata": {
    "deletable": false,
    "editable": false
   },
   "outputs": [],
   "source": [
    "# Initialize Otter\n",
    "import otter\n",
    "grader = otter.Notebook(\"cs109a_hw5.ipynb\")"
   ]
  },
  {
   "cell_type": "markdown",
   "metadata": {
    "tags": []
   },
   "source": [
    "# <img style=\"float: left; padding-right: 10px; width: 45px\" src=\"https://raw.githubusercontent.com/Harvard-IACS/2018-CS109A/master/content/styles/iacs.png\"> CS109A Introduction to Data Science: \n",
    "## Homework 5: Predicting College Admissions\n",
    "\n",
    "**Harvard University**<br/>\n",
    "**Fall 2022**<br/>\n",
    "**Instructors**: Pavlos Protopapas, Natesh Pillai\n",
    "\n",
    "<hr style=\"height:2.4pt\">"
   ]
  },
  {
   "cell_type": "code",
   "execution_count": 2,
   "metadata": {},
   "outputs": [
    {
     "data": {
      "text/html": [
       "<style>\n",
       "blockquote { background: #AEDE94; }\n",
       "h1 {\n",
       "    padding-top: 25px;\n",
       "    padding-bottom: 25px;\n",
       "    text-align: left;\n",
       "    padding-left: 10px;\n",
       "    background-color: #63ACBE;\n",
       "    color: black;\n",
       "}\n",
       "h2 {\n",
       "    padding-top: 10px;\n",
       "    padding-bottom: 10px;\n",
       "    text-align: left;\n",
       "    padding-left: 5px;\n",
       "    background-color: #EEEEEE;\n",
       "    color: black;\n",
       "}\n",
       "\n",
       "div.exercise {\n",
       "\tbackground-color: #f8b4ab;\n",
       "\tborder-color: #E9967A;\n",
       "\tborder-left: 5px solid #601A4A;\n",
       "\tpadding: 0.5em;\n",
       "}\n",
       "\n",
       "div.exercise-r {\n",
       "\tbackground-color: #ffd0d0;\n",
       "\tborder-color: #E9967A;\n",
       "\tborder-left: 5px solid #601A4A;\n",
       "\tpadding: 0.5em;\n",
       "}\n",
       "\n",
       "\n",
       "span.sub-q {\n",
       "\tfont-weight: bold;\n",
       "}\n",
       "div.theme {\n",
       "\tbackground-color: #63ACBE;\n",
       "\tborder-color: #E9967A;\n",
       "\tborder-left: 5px solid #601A4A;\n",
       "\tpadding: 0.5em;\n",
       "\tfont-size: 18pt;\n",
       "}\n",
       "div.gc {\n",
       "\tbackground-color: #AEDE94;\n",
       "\tborder-color: #E9967A;\n",
       "\tborder-left: 5px solid #601A4A;\n",
       "\tpadding: 0.5em;\n",
       "\tfont-size: 12pt;\n",
       "}\n",
       "p.q1 {\n",
       "    padding-top: 5px;\n",
       "    padding-bottom: 5px;\n",
       "    text-align: left;\n",
       "    padding-left: 5px;\n",
       "    background-color: #EEEEEE;\n",
       "    color: black;\n",
       "}\n",
       "header {\n",
       "   padding-top: 35px;\n",
       "    padding-bottom: 35px;\n",
       "    text-align: left;\n",
       "    padding-left: 10px;\n",
       "    background-color: #DDDDDD;\n",
       "    color: black;\n",
       "}\n",
       "span.emph {\n",
       "\tcolor: #601A4A;\n",
       "\tfont-weight: bold;\n",
       "}\n",
       "\n",
       "</style>\n"
      ],
      "text/plain": [
       "<IPython.core.display.HTML object>"
      ]
     },
     "execution_count": 2,
     "metadata": {},
     "output_type": "execute_result"
    }
   ],
   "source": [
    "# RUN THIS CELL \n",
    "import requests\n",
    "from IPython.core.display import HTML\n",
    "styles = requests.get(\n",
    "    \"https://raw.githubusercontent.com/Harvard-IACS/2021-CS109A/master/\"\n",
    "    \"themes/static/css/cs109.css\"\n",
    ").text\n",
    "HTML(styles)"
   ]
  },
  {
   "cell_type": "markdown",
   "metadata": {},
   "source": [
    "### Import Libraries"
   ]
  },
  {
   "cell_type": "code",
   "execution_count": 3,
   "metadata": {},
   "outputs": [],
   "source": [
    "# RUN THIS CELL\n",
    "import itertools\n",
    "import math\n",
    "\n",
    "import numpy as np\n",
    "import pandas as pd\n",
    "import seaborn as sns\n",
    "import matplotlib.pyplot as plt\n",
    "\n",
    "from sklearn.model_selection import train_test_split\n",
    "from sklearn.preprocessing import PolynomialFeatures\n",
    "from sklearn.preprocessing import StandardScaler\n",
    "from sklearn.model_selection import cross_validate\n",
    "\n",
    "from sklearn.linear_model import LogisticRegression\n",
    "from sklearn.neighbors import KNeighborsClassifier\n",
    "from sklearn.linear_model import LogisticRegressionCV\n",
    "\n",
    "from sklearn.metrics import accuracy_score\n",
    "from sklearn.metrics import roc_curve\n",
    "from sklearn.metrics import roc_auc_score\n",
    "\n",
    "# pandas tricks for better display\n",
    "pd.options.display.max_columns = 50  \n",
    "pd.options.display.max_rows = 500     \n",
    "pd.options.display.max_colwidth = 100\n",
    "pd.options.display.precision = 3\n",
    "\n",
    "%matplotlib inline"
   ]
  },
  {
   "cell_type": "markdown",
   "metadata": {},
   "source": [
    "#### Instructions\n",
    "- To submit your assignment follow the instructions given in Canvas.\n",
    "- Plots should be legible and interpretable without having to refer to the code that generated them, including labels for the $x$- and $y$-axes as well as a descriptive title and/or legend when appropriate.\n",
    "- When asked to interpret a visualization, do not simply describe it (e.g., \"the curve has a steep slope up\"), but instead explain what you think the plot *means*.\n",
    "- The use of 'hard-coded' values to try and pass tests rather than solving problems programmatically will not receive credit.\n",
    "- The use of *extremely* inefficient or error-prone code (e.g., copy-pasting nearly identical commands rather than looping) may result in only partial credit.\n",
    "- We have tried to include all the libraries you may need to do the assignment in the imports cell provided below. Please get course staff approval before importing any additional 3rd party libraries.\n",
    "- Enable scrolling output on cells with very long output.\n",
    "- Feel free to add additional code or markdown cells as needed.\n",
    "- Ensure your code runs top to bottom without error and passes all tests by restarting the kernel and running all cells. This is how the notebook will be evaluated (note that this can take a few minutes). \n",
    "- **You should do a \"Restart Kernel and Run All Cells\" before submitting to ensure (1) your notebook actually runs and (2) all output is visible**"
   ]
  },
  {
   "cell_type": "markdown",
   "metadata": {},
   "source": [
    "<a id=\"contents\"></a>\n",
    "\n",
    "## Notebook contents\n",
    "\n",
    "- [**Overview and data description**](#intro)\n",
    "\n",
    "\n",
    "- [**Question 1: Data exploration using train and basic models [16 pts]**](#part1)\n",
    "\n",
    "- [**Question 2: Interpretable modeling [18 pts]**](#part2)\n",
    "\n",
    "- [**Question 3: Harvard and Yale? [30 pts]**](#part3)\n",
    "\n",
    "- [**Question 4: Building predictive models for admitted [24 pts]**](#part4)\n",
    "\n",
    "- [**Question 5: Evaluating results [12 pts]**](#part5)"
   ]
  },
  {
   "cell_type": "markdown",
   "metadata": {},
   "source": [
    "<a id=\"intro\"></a>\n",
    "\n",
    "## Overview and data description\n",
    "\n",
    "[Return to contents](#contents)\n",
    "\n",
    "### Predicting admissions into elite universities\n",
    "\n",
    "In this problem set we will model the chances of high school students being accepted into two different elite undergraduate colleges (one is elite at least :) ): Harvard and Yale.  The data are provided in the file `data/college_admissions.csv` and were scraped from [collegedata.com](https://www.collegedata.com/) (where applicants volunteer to share their information).  Each observation corresponds to an applicant to one of the two different colleges (note: the same applicant may show up in two rows: once for each college).  The main response is the `\"admitted\"` variable (1 = admitted, 0 = denied), and there are are several predictors to consider:\n",
    "\n",
    "- **id**: a unique identifier for the applicant \n",
    "- **test_score**: a standardized measurement of the applicant's highest ACT or SAT combined score (2400 is the maximum)\n",
    "- **ap**: the number of AP tests taken\n",
    "- **avg_ap**: the average score on the AP tests taken (0 if no tests were taken)\n",
    "- **sat_subjects**: the number of SAT subject tests taken\n",
    "- **gpa**: the unweighted GPA of the applicant (max of 4.0)\n",
    "- **female**:  a binary indicator for gender: 1 = female, 0 = otherwise\n",
    "- **minority**: a binary indicator for under-represented minority: 1 = minority, 0 = otherwise \n",
    "- **international**: a binary indicator for international status: 1 = international, 0 = United States\n",
    "- **sports**: a binary indicator for High School All-American: 1 = all-American athlete, 0 = otherwise\n",
    "- **school**: a categorical variable for school applied to: \"Harvard\" or \"Yale\"\n",
    "- **early_app**: a binary indicator for application type: 1 = early action, 0 = regular\n",
    "- **alumni**:  a binary indicator for parents' alumni status of school: 1 = a parent is an alumnus, 0 = otherwise\n",
    "- **program**: the program applied to by the student with many choices (we will not use this as a predictor)\n",
    "- **add_info**: additional (optional) info provided by applicant (we will not use this as a predictor)\n",
    "\n",
    "**The main set of 12 predictors is:**\n",
    "\n",
    "```python\n",
    "[\n",
    "    \"test_score\", \"ap\", \"avg_ap\", \"sat_subjects\", \n",
    "    \"gpa\", \"female\", \"minority\", \"international\",\n",
    "    \"sports\", \"school\", \"early_app\", \"alumni\",\n",
    "]\n",
    "```\n",
    "\n",
    "Please note, you may need to modify this list when fitting different models, and you will be replacing the `\"school\"` variable with a binary `\"harvard\"` variable early in the questions below.\n",
    "\n",
    "\n",
    "**IMPORTANT NOTES:**\n",
    "\n",
    "- Unless stated otherwise, all logistic regression models should be unregularized (use `penalty=\"none\"`) and include the intercept (which is the default in `sklearn`).\n",
    "\n",
    "\n",
    "- When printing your output (e.g. coefficients, accuracy scores, etc.), DO NOT just print numbers without context. Please be certain provide clarifying labels for all printed numbers and limit the number of digits showing after decimals to a reasonable length (e.g. 4 decimal points for coefficients and accuracy scores).\n",
    "\n",
    "\n",
    "- Also be sure to practice good data science principles: always use train to do analysis and never touch the test set until the very end."
   ]
  },
  {
   "cell_type": "markdown",
   "metadata": {},
   "source": [
    "---"
   ]
  },
  {
   "cell_type": "markdown",
   "metadata": {},
   "source": [
    "<a id=\"part1\"></a>\n",
    "\n",
    "## <div class='exercise'>Question 1: Data exploration using train and basic models [16 pts]</div>\n",
    "\n",
    "[Return to contents](#contents)\n",
    "\n",
    "The first step is to split the observations into an approximate 80-20 train-test split.  Below is some code to do this for you (we want to make sure everyone has the same splits). It also prints the dataset's shape before splitting and after splitting. \n",
    "\n",
    "**IMPORTANT:** While an argument could be made to scale our predictors here, please **DO NOT** do so **UNTIL** it is requested of you in **[Question 4.1](#part4)**.\n"
   ]
  },
  {
   "cell_type": "code",
   "execution_count": 4,
   "metadata": {},
   "outputs": [
    {
     "name": "stdout",
     "output_type": "stream",
     "text": [
      "(1871, 16)\n",
      "(1496, 16) (375, 16)\n"
     ]
    },
    {
     "data": {
      "text/html": [
       "<div>\n",
       "<style scoped>\n",
       "    .dataframe tbody tr th:only-of-type {\n",
       "        vertical-align: middle;\n",
       "    }\n",
       "\n",
       "    .dataframe tbody tr th {\n",
       "        vertical-align: top;\n",
       "    }\n",
       "\n",
       "    .dataframe thead th {\n",
       "        text-align: right;\n",
       "    }\n",
       "</style>\n",
       "<table border=\"1\" class=\"dataframe\">\n",
       "  <thead>\n",
       "    <tr style=\"text-align: right;\">\n",
       "      <th></th>\n",
       "      <th>id</th>\n",
       "      <th>admitted</th>\n",
       "      <th>test_score</th>\n",
       "      <th>ap</th>\n",
       "      <th>avg_ap</th>\n",
       "      <th>sat_subjects</th>\n",
       "      <th>gpa</th>\n",
       "      <th>female</th>\n",
       "      <th>minority</th>\n",
       "      <th>international</th>\n",
       "      <th>sports</th>\n",
       "      <th>school</th>\n",
       "      <th>early_app</th>\n",
       "      <th>alumni</th>\n",
       "      <th>program</th>\n",
       "      <th>add_info</th>\n",
       "    </tr>\n",
       "  </thead>\n",
       "  <tbody>\n",
       "    <tr>\n",
       "      <th>584</th>\n",
       "      <td>JTEQOV7ZCB</td>\n",
       "      <td>0</td>\n",
       "      <td>2080</td>\n",
       "      <td>5</td>\n",
       "      <td>4.400</td>\n",
       "      <td>4</td>\n",
       "      <td>3.90</td>\n",
       "      <td>1</td>\n",
       "      <td>0</td>\n",
       "      <td>0</td>\n",
       "      <td>0</td>\n",
       "      <td>Harvard</td>\n",
       "      <td>1</td>\n",
       "      <td>0</td>\n",
       "      <td>Mechanical Engineering</td>\n",
       "      <td>Swimming 3 years Water Polo 3 years Foreign Language Honor Society PresidentMerit award in Socia...</td>\n",
       "    </tr>\n",
       "    <tr>\n",
       "      <th>1817</th>\n",
       "      <td>I03PV24OHY</td>\n",
       "      <td>1</td>\n",
       "      <td>2190</td>\n",
       "      <td>6</td>\n",
       "      <td>3.667</td>\n",
       "      <td>3</td>\n",
       "      <td>3.97</td>\n",
       "      <td>1</td>\n",
       "      <td>0</td>\n",
       "      <td>0</td>\n",
       "      <td>0</td>\n",
       "      <td>Yale</td>\n",
       "      <td>0</td>\n",
       "      <td>0</td>\n",
       "      <td>legal studies</td>\n",
       "      <td>horseback riding 5 hrs week year round marching concert jazz and orchestral ensembles 30 hrs wee...</td>\n",
       "    </tr>\n",
       "    <tr>\n",
       "      <th>1308</th>\n",
       "      <td>K42SAOUYJJ</td>\n",
       "      <td>0</td>\n",
       "      <td>2140</td>\n",
       "      <td>2</td>\n",
       "      <td>4.500</td>\n",
       "      <td>3</td>\n",
       "      <td>3.70</td>\n",
       "      <td>0</td>\n",
       "      <td>0</td>\n",
       "      <td>0</td>\n",
       "      <td>0</td>\n",
       "      <td>Yale</td>\n",
       "      <td>0</td>\n",
       "      <td>0</td>\n",
       "      <td>Film</td>\n",
       "      <td>Lacrosse Film Club Take Action Club NYU Tisch Summer Film WorkshopNational Honors Society World ...</td>\n",
       "    </tr>\n",
       "    <tr>\n",
       "      <th>1336</th>\n",
       "      <td>LODYYSRTYZ</td>\n",
       "      <td>0</td>\n",
       "      <td>2120</td>\n",
       "      <td>6</td>\n",
       "      <td>3.333</td>\n",
       "      <td>3</td>\n",
       "      <td>4.00</td>\n",
       "      <td>1</td>\n",
       "      <td>0</td>\n",
       "      <td>0</td>\n",
       "      <td>0</td>\n",
       "      <td>Yale</td>\n",
       "      <td>1</td>\n",
       "      <td>0</td>\n",
       "      <td>Biological Sciences</td>\n",
       "      <td>Varsity Orchestra Music Librarian 10 11 12 Violin Player Girl Scouts 10 year Member sold over 65...</td>\n",
       "    </tr>\n",
       "    <tr>\n",
       "      <th>3</th>\n",
       "      <td>OC717EAKXN</td>\n",
       "      <td>1</td>\n",
       "      <td>2400</td>\n",
       "      <td>5</td>\n",
       "      <td>5.000</td>\n",
       "      <td>5</td>\n",
       "      <td>4.00</td>\n",
       "      <td>1</td>\n",
       "      <td>0</td>\n",
       "      <td>0</td>\n",
       "      <td>0</td>\n",
       "      <td>Harvard</td>\n",
       "      <td>0</td>\n",
       "      <td>0</td>\n",
       "      <td>Mathematics</td>\n",
       "      <td>NaN</td>\n",
       "    </tr>\n",
       "  </tbody>\n",
       "</table>\n",
       "</div>"
      ],
      "text/plain": [
       "              id  admitted  test_score  ap  avg_ap  sat_subjects   gpa  \\\n",
       "584   JTEQOV7ZCB         0        2080   5   4.400             4  3.90   \n",
       "1817  I03PV24OHY         1        2190   6   3.667             3  3.97   \n",
       "1308  K42SAOUYJJ         0        2140   2   4.500             3  3.70   \n",
       "1336  LODYYSRTYZ         0        2120   6   3.333             3  4.00   \n",
       "3     OC717EAKXN         1        2400   5   5.000             5  4.00   \n",
       "\n",
       "      female  minority  international  sports   school  early_app  alumni  \\\n",
       "584        1         0              0       0  Harvard          1       0   \n",
       "1817       1         0              0       0     Yale          0       0   \n",
       "1308       0         0              0       0     Yale          0       0   \n",
       "1336       1         0              0       0     Yale          1       0   \n",
       "3          1         0              0       0  Harvard          0       0   \n",
       "\n",
       "                     program  \\\n",
       "584   Mechanical Engineering   \n",
       "1817           legal studies   \n",
       "1308                    Film   \n",
       "1336     Biological Sciences   \n",
       "3                Mathematics   \n",
       "\n",
       "                                                                                                 add_info  \n",
       "584   Swimming 3 years Water Polo 3 years Foreign Language Honor Society PresidentMerit award in Socia...  \n",
       "1817  horseback riding 5 hrs week year round marching concert jazz and orchestral ensembles 30 hrs wee...  \n",
       "1308  Lacrosse Film Club Take Action Club NYU Tisch Summer Film WorkshopNational Honors Society World ...  \n",
       "1336  Varsity Orchestra Music Librarian 10 11 12 Violin Player Girl Scouts 10 year Member sold over 65...  \n",
       "3                                                                                                     NaN  "
      ]
     },
     "metadata": {},
     "output_type": "display_data"
    },
    {
     "name": "stdout",
     "output_type": "stream",
     "text": [
      "<class 'pandas.core.frame.DataFrame'>\n",
      "Int64Index: 1496 entries, 584 to 1537\n",
      "Data columns (total 16 columns):\n",
      " #   Column         Non-Null Count  Dtype  \n",
      "---  ------         --------------  -----  \n",
      " 0   id             1496 non-null   object \n",
      " 1   admitted       1496 non-null   int64  \n",
      " 2   test_score     1496 non-null   int64  \n",
      " 3   ap             1496 non-null   int64  \n",
      " 4   avg_ap         1496 non-null   float64\n",
      " 5   sat_subjects   1496 non-null   int64  \n",
      " 6   gpa            1496 non-null   float64\n",
      " 7   female         1496 non-null   int64  \n",
      " 8   minority       1496 non-null   int64  \n",
      " 9   international  1496 non-null   int64  \n",
      " 10  sports         1496 non-null   int64  \n",
      " 11  school         1496 non-null   object \n",
      " 12  early_app      1496 non-null   int64  \n",
      " 13  alumni         1496 non-null   int64  \n",
      " 14  program        1294 non-null   object \n",
      " 15  add_info       933 non-null    object \n",
      "dtypes: float64(2), int64(10), object(4)\n",
      "memory usage: 198.7+ KB\n"
     ]
    }
   ],
   "source": [
    "#############################\n",
    "## DO NOT MODIFY THIS CODE ##\n",
    "#############################\n",
    "\n",
    "college = pd.read_csv(\"data/college_admissions.csv\")\n",
    "np.random.seed(121)\n",
    "\n",
    "college_train, college_test = train_test_split(\n",
    "    college,\n",
    "    test_size=0.2,\n",
    "    random_state=121,\n",
    "    shuffle=True,\n",
    "    stratify=college[\"school\"],\n",
    ")\n",
    "\n",
    "print(college.shape)\n",
    "print(college_train.shape, college_test.shape)\n",
    "display(college_train.head())\n",
    "college_train.info()"
   ]
  },
  {
   "cell_type": "markdown",
   "metadata": {
    "cell_id": "0a790850-87c6-4f46-b89e-048a2295c92b",
    "colab_type": "text",
    "id": "IGFtXJmQap2q"
   },
   "source": [
    "<div class='exercise-r'>\n",
    "\n",
    "**Q1.1** Calculate the proportion of observations in the train data that were admitted and store this value in `prop_admitted_train`.  What would be the train and test classification accuracies for a baseline \"naive\" model where we classified *ALL* applicants as either admitted or not admitted using just this overall proportion to make our decision (i.e. we apply the same outcome to all applicants based on this proportion)? Store these classification accuracies in `naive_train_acc` and `naive_test_acc`.\n",
    "    \n",
    "**NOTE:** For this assignment, use the convention that accuracies range from 0 to 1 (to be consistant with sklearn).\n",
    "    \n",
    "</div>\n",
    "\n",
    "_Points:_ 2.5"
   ]
  },
  {
   "cell_type": "code",
   "execution_count": 5,
   "metadata": {
    "tags": []
   },
   "outputs": [],
   "source": [
    "# your code here\n",
    "n_admitted_train = len(college_train.loc[college_train['admitted'] == 1])\n",
    "n_admitted_overall = len(college.loc[college['admitted'] == 1])\n",
    "n_admitted_test = len(college_test.loc[college_test['admitted'] == 1])\n",
    "\n",
    "prop_admitted_train = n_admitted_train/len(college_train) \n",
    "prop_admitted_overall = n_admitted_overall/len(college) \n",
    "prop_admitted_test = n_admitted_test/len(college_test) \n",
    "\n",
    "\n",
    "naive_train_acc = 1 - prop_admitted_train\n",
    "naive_test_acc = 1 - prop_admitted_test"
   ]
  },
  {
   "cell_type": "code",
   "execution_count": 6,
   "metadata": {},
   "outputs": [
    {
     "name": "stdout",
     "output_type": "stream",
     "text": [
      "Proportion admitted overall: 0.2699091394975949\n",
      "Proportion admitted training data: 0.2627005347593583\n",
      "Proportion admitted testing data: 0.2986666666666667\n"
     ]
    }
   ],
   "source": [
    "print('Proportion admitted overall:', prop_admitted_overall)\n",
    "print('Proportion admitted training data:', prop_admitted_train)\n",
    "print('Proportion admitted testing data:', prop_admitted_test)"
   ]
  },
  {
   "cell_type": "markdown",
   "metadata": {},
   "source": [
    "Note that all admission proportions here are less than 0.5 (i.e., 50%). Hence, the naive model would just predict rejection across all applicants. This is why in order to calculate `naive_train_acc` and `naive_test_acc` we just subtract our admission proportions from 1 (i.e., 100% of applicants). This would then give us the proportion of rejected students."
   ]
  },
  {
   "cell_type": "code",
   "execution_count": 7,
   "metadata": {},
   "outputs": [
    {
     "name": "stdout",
     "output_type": "stream",
     "text": [
      "Proportion Admitted in training Data: 0.26\n",
      "Naive Classification Model Based on Training Proportions\n",
      "\tTrain Accuracy: 0.74\n",
      "\tTest Accuracy: 0.70\n"
     ]
    }
   ],
   "source": [
    "print(f\"Proportion Admitted in training Data: {prop_admitted_train:.2f}\")\n",
    "print(\"Naive Classification Model Based on Training Proportions\")\n",
    "print(f\"\\tTrain Accuracy: {naive_train_acc:.2f}\")\n",
    "print(f\"\\tTest Accuracy: {naive_test_acc:.2f}\")"
   ]
  },
  {
   "cell_type": "code",
   "execution_count": 8,
   "metadata": {
    "deletable": false,
    "editable": false
   },
   "outputs": [
    {
     "data": {
      "text/html": [
       "<p><strong><pre style='display: inline;'>q1.1</pre></strong> passed!</p>"
      ],
      "text/plain": [
       "q1.1 results: All test cases passed!"
      ]
     },
     "execution_count": 8,
     "metadata": {},
     "output_type": "execute_result"
    }
   ],
   "source": [
    "grader.check(\"q1.1\")"
   ]
  },
  {
   "cell_type": "markdown",
   "metadata": {
    "cell_id": "0a790850-87c6-4f46-b89e-048a2295c92b",
    "colab_type": "text",
    "id": "IGFtXJmQap2q"
   },
   "source": [
    "<!-- BEGIN QUESTION -->\n",
    "\n",
    "<div class='exercise-r'>\n",
    "\n",
    "**Q1.2** Create a binary (\"dummy\") variable named `\"harvard\"` in both the train and test DataFrames that takes on the value 1 if `school == \"Harvard\"` and 0 otherwise. Now, explore how each of our 12 predictors is associated with whether or not an applicant is admitted into the college to which they applied (`admitted`). Create a separate **visual** for each of our predictors to investigate their relationship with college admissions. **Suggestion:** Place these 12 visuals in a *matrix* of subplots with 3 columns and 4 rows.\n",
    "\n",
    "**NOTE:** We will be using our dummified `harvard` predictor instead of `school` throughout the remainder of this problem set.\n",
    "    \n",
    "</div>\n",
    "\n",
    "_Points:_ 0"
   ]
  },
  {
   "cell_type": "code",
   "execution_count": 9,
   "metadata": {
    "tags": []
   },
   "outputs": [],
   "source": [
    "# Create dummy variable\n",
    "# your code here\n",
    "\n",
    "harvard = lambda x: 1 if x == 'Harvard' else 0\n",
    "\n",
    "\n",
    "college_train['harvard'] = college_train['school'].map(harvard)\n",
    "college_test['harvard'] = college_test['school'].map(harvard)\n",
    "college['harvard'] = college['school'].map(harvard)\n",
    "\n",
    "# Adding this to be able to pass the test below...\n",
    "X_train = college_train\n",
    "X_test = college_test"
   ]
  },
  {
   "cell_type": "code",
   "execution_count": 10,
   "metadata": {
    "tags": []
   },
   "outputs": [
    {
     "data": {
      "image/png": "[encoded data removed]",
      "text/plain": [
       "<Figure size 1080x1080 with 12 Axes>"
      ]
     },
     "metadata": {
      "needs_background": "light"
     },
     "output_type": "display_data"
    }
   ],
   "source": [
    "# Plotting\n",
    "# your code here\n",
    "\n",
    "# your code here\n",
    "fig, ax = plt.subplots(nrows=4, ncols=3, figsize=(15,15))\n",
    "\n",
    "\n",
    "#GPA\n",
    "GPAS_not_admitted = college_train.query(\"admitted == 0\")[\"gpa\"]\n",
    "GPAS_admitted = college_train.query(\"admitted == 1\")[\"gpa\"]\n",
    "ax[0,0].boxplot([GPAS_not_admitted,GPAS_admitted], vert=0);\n",
    "ax[0,0].set_yticklabels([\"not admitted\", \"admitted\"]);\n",
    "ax[0,0].set_title(\"gpa\")\n",
    "\n",
    "# Test Score\n",
    "test_score_not_admitted = college_train.query(\"admitted == 0\")[\"test_score\"]\n",
    "test_score_admitted = college_train.query(\"admitted == 1\")[\"test_score\"]\n",
    "ax[0,1].boxplot([test_score_not_admitted, test_score_admitted], vert=0);\n",
    "ax[0,1].set_yticklabels([\"not admitted\", \"admitted\"]);\n",
    "ax[0,1].set_title(\"test_score\")\n",
    "\n",
    "# Average AP\n",
    "avg_ap_not_admitted = college_train.query(\"admitted == 0\")[\"avg_ap\"]\n",
    "avg_ap_admitted = college_train.query(\"admitted == 1\")[\"avg_ap\"]\n",
    "ax[0,2].boxplot([avg_ap_not_admitted, avg_ap_admitted], vert=0);\n",
    "ax[0,2].set_yticklabels([\"not admitted\", \"admitted\"]);\n",
    "ax[0,2].set_title(\"avg_ap\")\n",
    "\n",
    "# Sat Subjects\n",
    "sat_subjects_not_admitted = college_train.query(\"admitted == 0\")[\"sat_subjects\"]\n",
    "sat_subjects_admitted = college_train.query(\"admitted == 1\")[\"sat_subjects\"]\n",
    "ax[1,0].boxplot([sat_subjects_not_admitted, sat_subjects_admitted], vert=0);\n",
    "ax[1,0].set_yticklabels([\"not admitted\", \"admitted\"]);\n",
    "ax[1,0].set_title(\"sat_subjects\")\n",
    "\n",
    "# Female\n",
    "men_not_admitted = len(college_train.query(\"admitted == 0 and female ==0\"))\n",
    "men_admitted = len(college_train.query(\"admitted == 1 and female ==0\"))\n",
    "pc_men_admitted = men_admitted/(men_admitted+men_not_admitted)\n",
    "\n",
    "women_not_admitted = len(college_train.query(\"admitted == 0 and female ==1\"))\n",
    "women_admitted = len(college_train.query(\"admitted == 1 and female ==1\"))\n",
    "pc_women_admitted = women_admitted/(women_not_admitted+women_admitted)\n",
    "\n",
    "ax[1,1].barh([\"men\",\"men\", \"women\", \"women\"], [1, pc_men_admitted, 1, pc_women_admitted], color=[\"red\",\"green\",\"red\",\"green\"]);\n",
    "ax[1,1].set_title(\"gender\")\n",
    "\n",
    "# Minority\n",
    "non_minority_admitted = len(college_train.query(\"admitted == 1 and minority == 0\"))\n",
    "non_minority_not_admitted = len(college_train.query(\"admitted == 0 and minority ==0\"))\n",
    "total_non_minority = non_minority_not_admitted + non_minority_admitted\n",
    "pct_non_minority_admitted = non_minority_admitted/total_non_minority\n",
    "\n",
    "minority_admitted = len(college_train.query(\"admitted == 1 and minority==1\"))\n",
    "minority_not_admitted = len(college_train.query(\"admitted == 0 and minority ==1\"))\n",
    "total_minority = minority_not_admitted + minority_admitted\n",
    "pct_minority_admitted = minority_admitted / total_minority\n",
    "ax[1,2].barh([\"minority\",\"minority\", \"non minority\", \"non minority\"], [1, pct_minority_admitted, 1, pct_non_minority_admitted], color=[\"red\",\"green\",\"red\",\"green\"]);\n",
    "ax[1,2].set_title(\"minority\")\n",
    "\n",
    "\n",
    "# International\n",
    "non_international_admitted = len(college_train.query(\"admitted == 1 and international == 0\"))\n",
    "non_international_not_admitted = len(college_train.query(\"admitted == 0 and international ==0\"))\n",
    "total_non_international = non_international_admitted + non_international_not_admitted\n",
    "pct_non_international_admitted = non_international_admitted/total_non_international\n",
    "\n",
    "international_admitted = len(college_train.query(\"admitted == 1 and international==1\"))\n",
    "international_not_admitted = len(college_train.query(\"admitted == 0 and international ==1\"))\n",
    "total_international = international_admitted + international_not_admitted\n",
    "pct_international_admitted = international_admitted / total_international\n",
    "ax[2,0].barh([\"international\",\"international\", \"non international\", \"non international\"], [1, pct_international_admitted, 1, pct_non_international_admitted], color=[\"red\",\"green\",\"red\",\"green\"]);\n",
    "ax[2,0].set_title(\"international\")\n",
    "\n",
    "\n",
    "# Sports\n",
    "non_sports_admitted = len(college_train.query(\"admitted == 1 and sports == 0\"))\n",
    "non_sports_not_admitted = len(college_train.query(\"admitted == 0 and sports ==0\"))\n",
    "total_non_sports = non_sports_admitted + non_sports_not_admitted\n",
    "pct_non_sports_admitted = non_sports_admitted/total_non_sports\n",
    "\n",
    "sports_admitted = len(college_train.query(\"admitted == 1 and sports==1\"))\n",
    "sports_not_admitted = len(college_train.query(\"admitted == 0 and sports ==1\"))\n",
    "total_sports = sports_admitted + sports_not_admitted\n",
    "pct_sports_admitted = sports_admitted / total_sports\n",
    "ax[2,1].barh([\"sports\",\"sports\", \"non sports\", \"non sports\"], [1, pct_sports_admitted, 1, pct_non_sports_admitted], color=[\"red\",\"green\",\"red\",\"green\"]);\n",
    "ax[2,1].set_title(\"sports\")\n",
    "\n",
    "\n",
    "# Alumni\n",
    "non_alumni_admitted = len(college_train.query(\"admitted == 1 and alumni == 0\"))\n",
    "non_alumni_not_admitted = len(college_train.query(\"admitted == 0 and alumni ==0\"))\n",
    "total_non_alumni = non_alumni_admitted + non_alumni_not_admitted\n",
    "pct_non_alumni_admitted = non_alumni_admitted/total_non_alumni\n",
    "\n",
    "alumni_admitted = len(college_train.query(\"admitted == 1 and alumni==1\"))\n",
    "alumni_not_admitted = len(college_train.query(\"admitted == 0 and alumni ==1\"))\n",
    "total_alumni = alumni_admitted + alumni_not_admitted\n",
    "pct_alumni_admitted = alumni_admitted / total_alumni\n",
    "ax[2,2].barh([\"alumni\",\"alumni\", \"non alumni\", \"non alumni\"], [1, pct_alumni_admitted, 1, pct_non_alumni_admitted], color=[\"red\",\"green\",\"red\",\"green\"]);\n",
    "ax[2,2].set_title(\"alumni\")\n",
    "\n",
    "# Early admission\n",
    "early_not_admitted = len(college_train.query(\"admitted == 0 and early_app ==1\"))\n",
    "early_admitted = len(college_train.query(\"admitted == 1 and early_app == 1\"))\n",
    "pc_early_admitted = early_admitted/(early_not_admitted+early_admitted)\n",
    "\n",
    "not_early_not_admitted = len(college_train.query(\"admitted == 0 and early_app ==0\"))\n",
    "not_early_admitted = len(college_train.query(\"admitted == 1 and early_app == 0\"))\n",
    "pc_not_early_admitted = not_early_admitted/(not_early_not_admitted+not_early_admitted)\n",
    "\n",
    "ax[3,0].barh([\"early\",\"early\", \"not early\", \"not early\"], [1, pc_early_admitted, 1, pc_not_early_admitted], color=[\"red\",\"green\",\"red\",\"green\"]);\n",
    "ax[3,0].set_title(\"early app\")\n",
    "\n",
    "\n",
    "\n",
    "# Harvard-Yale\n",
    "# Early Admission\n",
    "harvard_not_admitted = len(college_train.query(\"admitted == 0 and harvard ==1\"))\n",
    "harvard_admitted = len(college_train.query(\"admitted == 1 and harvard == 1\"))\n",
    "pct_harvard_admitted = harvard_admitted/(harvard_not_admitted+harvard_admitted)\n",
    "\n",
    "not_harvard_not_admitted = len(college_train.query(\"admitted == 0 and harvard ==0\"))\n",
    "not_harvard_admitted = len(college_train.query(\"admitted == 1 and harvard == 0\"))\n",
    "pct_not_harvard_admitted = not_harvard_admitted/(not_harvard_not_admitted+not_harvard_admitted)\n",
    "ax[3,1].barh([\"harvard\",\"harvard\", \"yale\", \"yale\"], [1, pct_harvard_admitted, 1, pct_not_harvard_admitted], color=[\"red\",\"green\",\"red\",\"green\"]);\n",
    "ax[3,1].set_title(\"harvard\")\n",
    "\n",
    "\n",
    "ap_not_admitted = college_train.query(\"admitted == 0\")[\"ap\"]\n",
    "ap_admitted = college_train.query(\"admitted == 1\")[\"ap\"]\n",
    "ax[3,2].boxplot([ap_not_admitted, ap_admitted], vert=0);\n",
    "ax[3,2].set_yticklabels([\"not admitted\", \"admitted\"]);\n",
    "ax[3,2].set_title(\"ap\");"
   ]
  },
  {
   "cell_type": "code",
   "execution_count": 11,
   "metadata": {
    "deletable": false,
    "editable": false
   },
   "outputs": [
    {
     "data": {
      "text/html": [
       "<p><strong><pre style='display: inline;'>q1.2</pre></strong> passed!</p>"
      ],
      "text/plain": [
       "q1.2 results: All test cases passed!"
      ]
     },
     "execution_count": 11,
     "metadata": {},
     "output_type": "execute_result"
    }
   ],
   "source": [
    "grader.check(\"q1.2\")"
   ]
  },
  {
   "cell_type": "markdown",
   "metadata": {
    "cell_id": "0a790850-87c6-4f46-b89e-048a2295c92b",
    "colab_type": "text",
    "id": "IGFtXJmQap2q"
   },
   "source": [
    "<!-- END QUESTION -->\n",
    "\n",
    "<!-- BEGIN QUESTION -->\n",
    "\n",
    "<div class='exercise-r'>\n",
    "\n",
    "**1.3** Based on the visuals above, which predictor seems to have the most potential for predicting `admitted`? Why do you think this it the best potential single predictor?\n",
    "    \n",
    "</div>\n",
    "\n",
    "_Points:_ 1.5"
   ]
  },
  {
   "cell_type": "markdown",
   "metadata": {},
   "source": [
    "The predictor with the highest potential for predicting `admitted` seems to be `test_score`. This makes intuitive sense: applicants with higher test scores are more likely to be admitted. However, it may be important to stress here that it indirectly includes other variables. For example, one may argue that an applicant with a higher test score may have a higher gpa, higher scores on ap subject tests... which may also be significant predictors for admission (see `admitted` vs. `gpa` and `admitted` vs. `avg_ap` plots). This highlights its potential as best potential single predictor as it has the potential to include some of other predictors' predictive power. "
   ]
  },
  {
   "cell_type": "markdown",
   "metadata": {
    "cell_id": "0a790850-87c6-4f46-b89e-048a2295c92b",
    "colab_type": "text",
    "id": "IGFtXJmQap2q"
   },
   "source": [
    "<!-- END QUESTION -->\n",
    "\n",
    "<!-- BEGIN QUESTION -->\n",
    "\n",
    "<div class='exercise-r'>\n",
    "    \n",
    "**Q1.4** Fit a logistic regression to predict `admitted` from `harvard` (call it `logit1_4`).  \n",
    "- Store the coefficient and intercept in `logit1_4_coef` and `logit1_4_intercept`. Interpret these values.\n",
    "- What are the estimated probabilities of getting into each school? Store these in `p_harvard` and `p_yale`. Which school is easier to get into according to this model?\n",
    "\n",
    "**IMPORTANT:** Remember, all models in this assignment should be **unregularized** unless you are specifically asked to use regularization for a particular model.\n",
    "</div>\n",
    "\n",
    "_Points:_ 2"
   ]
  },
  {
   "cell_type": "markdown",
   "metadata": {},
   "source": [
    "Here, the coefficients can be interpreted as the log-odds ratio (because of the *logit* function) that an applicant is admitted into Harvard vs. applicants applying to Yale. In order to convert these log-odds into regular odds, we need to exponentiate them. In this case, $e^{\\beta} = e^{0.1532} = 1.16$. This means that for an applicant applying to Harvard, the odds that this applicant is admitted is 1.16 times the odds for someone applying to Yale. \n",
    "\n",
    "Based on the estimated probabilities, it may be argued that Harvard is easier to get into $(0.27 > 0.24)$."
   ]
  },
  {
   "cell_type": "code",
   "execution_count": 12,
   "metadata": {
    "tags": []
   },
   "outputs": [],
   "source": [
    "# your code here\n",
    "\n",
    "X_train, y_train = college_train[['harvard']], college_train['admitted']\n",
    "                                 \n",
    "X_test, y_test = college_test[['harvard']], college_test['admitted']\n",
    "\n",
    "# Fit logistic regression model without regularization\n",
    "logit1_4 = LogisticRegression(penalty='none', max_iter = 1000, random_state=5)\n",
    "logit1_4.fit(X_train, y_train)\n",
    "                                 \n",
    "# Identify and report coefficients\n",
    "logit1_4_coef = logit1_4.coef_[0][0]\n",
    "logit1_4_intercept = logit1_4.intercept_[0]\n",
    "\n",
    "# Calculate and report probabilities\n",
    "p_harvard = logit1_4.predict_proba(X_test[X_test.harvard==1])[0][1]\n",
    "p_yale = logit1_4.predict_proba(X_test[X_test.harvard==0])[0][1]"
   ]
  },
  {
   "cell_type": "code",
   "execution_count": 13,
   "metadata": {},
   "outputs": [
    {
     "name": "stdout",
     "output_type": "stream",
     "text": [
      "The coefficient for the 'logit1_4' model's only predictor 'harvard' is 0.1532 and the intercept is -1.1137\n",
      "\n",
      "Estimated probability of acceptance for Harvard: 0.2768\n",
      "Estimated probability of acceptance for Yale: 0.2472\n"
     ]
    }
   ],
   "source": [
    "print(\n",
    "    \"The coefficient for the 'logit1_4' model's only predictor 'harvard' \"\n",
    "    \"is {:.4f} and the intercept is {:.4f}\\n\".format(\n",
    "        logit1_4_coef, logit1_4_intercept\n",
    "    )\n",
    ")\n",
    "\n",
    "print(\n",
    "    \"Estimated probability of acceptance for Harvard: {:.4f}\"\n",
    "    .format(p_harvard)\n",
    ")\n",
    "print(\n",
    "    \"Estimated probability of acceptance for Yale: {:.4f}\"\n",
    "    .format(p_yale)\n",
    ")"
   ]
  },
  {
   "cell_type": "code",
   "execution_count": 14,
   "metadata": {},
   "outputs": [
    {
     "data": {
      "text/plain": [
       "1.1655444141199511"
      ]
     },
     "execution_count": 14,
     "metadata": {},
     "output_type": "execute_result"
    }
   ],
   "source": [
    "odds = np.exp(logit1_4_coef)\n",
    "odds"
   ]
  },
  {
   "cell_type": "code",
   "execution_count": 15,
   "metadata": {
    "deletable": false,
    "editable": false
   },
   "outputs": [
    {
     "data": {
      "text/html": [
       "<p><strong><pre style='display: inline;'>q1.4</pre></strong> passed!</p>"
      ],
      "text/plain": [
       "q1.4 results: All test cases passed!"
      ]
     },
     "execution_count": 15,
     "metadata": {},
     "output_type": "execute_result"
    }
   ],
   "source": [
    "grader.check(\"q1.4\")"
   ]
  },
  {
   "cell_type": "markdown",
   "metadata": {
    "cell_id": "0a790850-87c6-4f46-b89e-048a2295c92b",
    "colab_type": "text",
    "id": "IGFtXJmQap2q"
   },
   "source": [
    "<!-- END QUESTION -->\n",
    "\n",
    "<!-- BEGIN QUESTION -->\n",
    "\n",
    "<div class='exercise-r'>\n",
    "\n",
    "**Q1.5** Create and display a [contingency table](https://en.wikipedia.org/wiki/Contingency_table) between `admitted` and `harvard`.  Use this table to calculate and confirm the coefficient estimates in the `logit1_4` model (both the intercept and slope). Show this calculation using $\\LaTeX$ in a markdown cell.\n",
    "    \n",
    "**Hint:** The Pandas [crosstab](https://pandas.pydata.org/pandas-docs/stable/reference/api/pandas.crosstab.html) method may be helpful here.\n",
    "\n",
    "</div>\n",
    "\n",
    "_Points:_ 3"
   ]
  },
  {
   "cell_type": "markdown",
   "metadata": {},
   "source": [
    "Using the fact that our predictor is binary, we are able to compute a closed form solution for our logistic regression coefficients. \n",
    "\n",
    "We start by expressing our log-odds ratio as:\n",
    "\n",
    "$$log(\\frac{P(Y=1)}{1-P(Y=1)}) = \\beta_{0} + \\beta_{1}X$$\n",
    "\n",
    "Hence, we have:\n",
    "\n",
    "$$\\begin{equation}\n",
    "    \\begin{cases}\n",
    "        log(\\frac{P(Y=1 | X=0)}{1-P(Y=1 | X=0))} = \\beta_{0} \\\\\n",
    "        log(\\frac{P(Y=1 | X=1)}{1-P(Y=1 | X=1))} = \\beta_{0} + \\beta_{1} \n",
    "    \\end{cases}\n",
    "  \\end{equation}$$\n",
    "  \n",
    "Rerranging these equations, we then have:\n",
    "\n",
    "$$\\begin{equation}\n",
    "    \\begin{cases}\n",
    "        \\beta_{0} = log(\\frac{P(Y=1 | X=0)}{1-P(Y=1 | X=0))}  \\\\\n",
    "        \\beta_{1} = log(\\frac{P(Y=1 | X=1)}{1-P(Y=1 | X=1))} - \\beta_{0}  \n",
    "    \\end{cases}\n",
    "  \\end{equation}$$\n",
    "  \n",
    "Using the data from the table, we have:\n",
    "\n",
    "$P(Y = 1 | X = 0) = \\frac{0.094}{0.381}$\n",
    "\n",
    "$P(Y = 1 | X = 1) = \\frac{0.116}{0.419}$"
   ]
  },
  {
   "cell_type": "code",
   "execution_count": 16,
   "metadata": {
    "tags": []
   },
   "outputs": [
    {
     "data": {
      "text/html": [
       "<div>\n",
       "<style scoped>\n",
       "    .dataframe tbody tr th:only-of-type {\n",
       "        vertical-align: middle;\n",
       "    }\n",
       "\n",
       "    .dataframe tbody tr th {\n",
       "        vertical-align: top;\n",
       "    }\n",
       "\n",
       "    .dataframe thead th {\n",
       "        text-align: right;\n",
       "    }\n",
       "</style>\n",
       "<table border=\"1\" class=\"dataframe\">\n",
       "  <thead>\n",
       "    <tr style=\"text-align: right;\">\n",
       "      <th>harvard</th>\n",
       "      <th>0</th>\n",
       "      <th>1</th>\n",
       "      <th>All</th>\n",
       "    </tr>\n",
       "    <tr>\n",
       "      <th>admitted</th>\n",
       "      <th></th>\n",
       "      <th></th>\n",
       "      <th></th>\n",
       "    </tr>\n",
       "  </thead>\n",
       "  <tbody>\n",
       "    <tr>\n",
       "      <th>0</th>\n",
       "      <td>0.286</td>\n",
       "      <td>0.303</td>\n",
       "      <td>0.59</td>\n",
       "    </tr>\n",
       "    <tr>\n",
       "      <th>1</th>\n",
       "      <td>0.094</td>\n",
       "      <td>0.116</td>\n",
       "      <td>0.21</td>\n",
       "    </tr>\n",
       "    <tr>\n",
       "      <th>All</th>\n",
       "      <td>0.381</td>\n",
       "      <td>0.419</td>\n",
       "      <td>0.80</td>\n",
       "    </tr>\n",
       "  </tbody>\n",
       "</table>\n",
       "</div>"
      ],
      "text/plain": [
       "harvard       0      1   All\n",
       "admitted                    \n",
       "0         0.286  0.303  0.59\n",
       "1         0.094  0.116  0.21\n",
       "All       0.381  0.419  0.80"
      ]
     },
     "execution_count": 16,
     "metadata": {},
     "output_type": "execute_result"
    }
   ],
   "source": [
    "# your code here\n",
    "\n",
    "pd.crosstab(college_train['admitted'], college_train['harvard'], margins=True)/len(college['admitted'])"
   ]
  },
  {
   "cell_type": "code",
   "execution_count": 17,
   "metadata": {},
   "outputs": [
    {
     "name": "stdout",
     "output_type": "stream",
     "text": [
      "We get the following estimates for (b0, b1): (-1.116, 0.156)\n"
     ]
    }
   ],
   "source": [
    "p_0 = 0.094/0.381\n",
    "beta_0 = np.log((p_0 / (1 - p_0)))\n",
    "p_1 = 0.116/0.419\n",
    "beta_1 = np.log(p_1/(1 - p_1)) - beta_0\n",
    "\n",
    "print(\"We get the following estimates for (b0, b1): ({:.3f}, {:.3f})\".format(beta_0, beta_1))"
   ]
  },
  {
   "cell_type": "markdown",
   "metadata": {
    "cell_id": "0a790850-87c6-4f46-b89e-048a2295c92b",
    "colab_type": "text",
    "id": "IGFtXJmQap2q"
   },
   "source": [
    "<!-- END QUESTION -->\n",
    "\n",
    "<!-- BEGIN QUESTION -->\n",
    "\n",
    "<div class='exercise-r'>\n",
    "\n",
    "**Q1.6** Compare the estimated probabilities of being admitted into the schools to the overall acceptance rate (as seen [here](https://www.ivycoach.com/2023-ivy-league-admissions-statistics/)).  Why may what you've observed in this comparison be the case?\n",
    "    \n",
    "</div>\n",
    "\n",
    "_Points:_ 2"
   ]
  },
  {
   "cell_type": "markdown",
   "metadata": {},
   "source": [
    "Admission probabilities are:\n",
    "- 0.277 for Harvard\n",
    "- 0.247 for Yale\n",
    "\n",
    "However, overall acceptance rates are:\n",
    "- 4.5% for Harvard\n",
    "- 5.9% for Yale\n",
    "\n",
    "The first thing we notice is that the actual overall admission rates are significantly lower than our predicted probabilities. This may be attributed to the fact that the data was collected from collegedata.com, and is the fruit of volunteer applicants. One may then imagine a certain bias: people content with their admission outcome are more likely to share their experience, and hence their data. This explains why the proportion of admitted students in the dataset is higher than reality. \n",
    "\n",
    "We may also note than the actual admission rate for Harvard is *lower* than for Yale. Once again, the fact that our probabilities reflect the inverse case may be attributed to the previously outlined bias in reporting."
   ]
  },
  {
   "cell_type": "markdown",
   "metadata": {},
   "source": [
    "<!-- END QUESTION -->\n",
    "\n",
    "---"
   ]
  },
  {
   "cell_type": "markdown",
   "metadata": {},
   "source": [
    "<a id=\"part2\"></a>\n",
    "\n",
    "## <div class='exercise'>Question 2: Interpretable modeling [18 pts]</div>\n",
    "\n",
    "[Return to contents](#contents)"
   ]
  },
  {
   "cell_type": "markdown",
   "metadata": {
    "cell_id": "0a790850-87c6-4f46-b89e-048a2295c92b",
    "colab_type": "text",
    "id": "IGFtXJmQap2q"
   },
   "source": [
    "<div class='exercise-r'>\n",
    "\n",
    "**Q2.1** \n",
    "    \n",
    "- Fit a logistic regression model to predict `admitted` from `test_score` alone. Call it `logit2_1`.\n",
    "- Store the learned parameters in `logit2_1_beta0` and `logit2_1_beta1`. \n",
    "- Store the train and test classification accuracies for this model in `acc_train_logit2_1` and `acc_test_logit2_1`.\n",
    "    \n",
    "</div>\n",
    "\n",
    "_Points:_ 3"
   ]
  },
  {
   "cell_type": "code",
   "execution_count": 18,
   "metadata": {},
   "outputs": [],
   "source": [
    "X_train = college_train[['test_score']]\n",
    "y_train = college_train['admitted']\n",
    "\n",
    "X_test = college_test[['test_score']]\n",
    "y_test = college_test['admitted']"
   ]
  },
  {
   "cell_type": "code",
   "execution_count": 19,
   "metadata": {
    "tags": []
   },
   "outputs": [],
   "source": [
    "# your code here\n",
    "logit2_1 = LogisticRegression()\n",
    "logit2_1.fit(X_train, y_train)\n",
    "\n",
    "logit2_1_intercept = logit2_1.intercept_[0]\n",
    "logit2_1_coef_test = logit2_1.coef_[0][0]\n",
    "\n",
    "acc_train_logit2_1 = logit2_1.score(X_train, y_train)\n",
    "acc_test_logit2_1 = logit2_1.score(X_test, y_test)"
   ]
  },
  {
   "cell_type": "code",
   "execution_count": 20,
   "metadata": {},
   "outputs": [
    {
     "name": "stdout",
     "output_type": "stream",
     "text": [
      "The intercept and coefficient for the 'logit2_1' model are:\n",
      "\tintercept           -9.4136\n",
      "\ttest                0.0038\n",
      "\n",
      "The classification accuracies for 'logit2_1' are:\n",
      "\n",
      "\tTrain\t0.7373\n",
      "\tTEST\t0.7013\n"
     ]
    }
   ],
   "source": [
    "print(\"The intercept and coefficient for the 'logit2_1' model are:\")\n",
    "\n",
    "print(\"\\t{:<20}{:.4f}\".format('intercept', logit2_1_intercept))\n",
    "print(\"\\t{:<20}{:.4f}\".format('test', logit2_1_coef_test))\n",
    "\n",
    "print(\n",
    "    \"\\nThe classification accuracies for 'logit2_1' are:\"\n",
    "    \"\\n\\n\\tTrain\\t{:.4f}\\n\\tTEST\\t{:.4f}\".format(\n",
    "        acc_train_logit2_1, acc_test_logit2_1\n",
    "    )\n",
    ")\n",
    "# END SOLUTION"
   ]
  },
  {
   "cell_type": "code",
   "execution_count": 21,
   "metadata": {
    "deletable": false,
    "editable": false
   },
   "outputs": [
    {
     "data": {
      "text/html": [
       "<p><strong><pre style='display: inline;'>q2.1</pre></strong> passed!</p>"
      ],
      "text/plain": [
       "q2.1 results: All test cases passed!"
      ]
     },
     "execution_count": 21,
     "metadata": {},
     "output_type": "execute_result"
    }
   ],
   "source": [
    "grader.check(\"q2.1\")"
   ]
  },
  {
   "cell_type": "markdown",
   "metadata": {
    "cell_id": "0a790850-87c6-4f46-b89e-048a2295c92b",
    "colab_type": "text",
    "id": "IGFtXJmQap2q"
   },
   "source": [
    "<div class='exercise-r'>\n",
    "\n",
    "**Q2.2**\n",
    "    \n",
    "- What is the estimated probability of an applicant being admitted with an *average* `test` score of 2250? Store this in `prop_test_2250`.\n",
    "- What about if they had a perfect test score of 2400? Store this in `prop_test_2400`.\n",
    "- What test score would be needed to have a 50-50 chance (i.e. 0.5 probability) of being admitted? Store this in `test_50_50`.\n",
    "    \n",
    "</div>\n",
    "\n",
    "_Points:_ 4"
   ]
  },
  {
   "cell_type": "markdown",
   "metadata": {},
   "source": [
    "The estimated probabilities of an applicant being admitted with an average `test_score` of $2250$ and $2400$ are respectively $0.2929$ and $0.5774$. The test score required to have a 50-50 chance of being admitted is approximately $2482.34$. One may argue that this model is unrealistic: it is impossible to obtain a score higher than 2400, and that would only guarantee a 50% chance of getting in."
   ]
  },
  {
   "cell_type": "code",
   "execution_count": 22,
   "metadata": {
    "tags": []
   },
   "outputs": [
    {
     "name": "stderr",
     "output_type": "stream",
     "text": [
      "/opt/anaconda3/lib/python3.9/site-packages/sklearn/base.py:450: UserWarning: X does not have valid feature names, but LogisticRegression was fitted with feature names\n",
      "  warnings.warn(\n",
      "/opt/anaconda3/lib/python3.9/site-packages/sklearn/base.py:450: UserWarning: X does not have valid feature names, but LogisticRegression was fitted with feature names\n",
      "  warnings.warn(\n"
     ]
    }
   ],
   "source": [
    "# your code here\n",
    "\n",
    "avg_score = [[2250]]\n",
    "perf_score = [[2400]]\n",
    "\n",
    "prob_test_2250 = logit2_1.predict_proba(avg_score)[0][1]\n",
    "prob_test_2400 = logit2_1.predict_proba(perf_score)[0][0]\n",
    "\n",
    "test_50_50 = -logit2_1_intercept/logit2_1_coef_test"
   ]
  },
  {
   "cell_type": "code",
   "execution_count": 23,
   "metadata": {},
   "outputs": [
    {
     "name": "stdout",
     "output_type": "stream",
     "text": [
      "The estimated chances of an applicant being admitted with the following two 'test' scores:\n",
      "\n",
      "\tscore\tprobabilities\n",
      "\t2250\t0.2929\n",
      "\t2400\t0.5774\n",
      "\n",
      "The test score required to have a 50-50 chance of being admitted is approximately:\n",
      "\n",
      "\t2482.34\n"
     ]
    }
   ],
   "source": [
    "# your code here\n",
    "print(\n",
    "    \"The estimated chances of an applicant being admitted with \"\n",
    "    \"the following two 'test' scores:\\n\\n\\tscore\\tprobabilities\"\n",
    "    \"\\n\\t2250\\t{:.4f}\\n\\t2400\\t{:.4f}\\n\"\n",
    "    .format(prob_test_2250, prob_test_2400)\n",
    ")\n",
    "\n",
    "print(\n",
    "    \"The test score required to have a 50-50 chance of being \"\n",
    "    \"admitted is approximately:\\n\\n\\t{:.2f}\"\n",
    "    .format(test_50_50)\n",
    ")\n",
    "# END SOLUTION"
   ]
  },
  {
   "cell_type": "code",
   "execution_count": 24,
   "metadata": {
    "deletable": false,
    "editable": false
   },
   "outputs": [
    {
     "data": {
      "text/html": [
       "<p><strong><pre style='display: inline;'>q2.2</pre></strong> passed!</p>"
      ],
      "text/plain": [
       "q2.2 results: All test cases passed!"
      ]
     },
     "execution_count": 24,
     "metadata": {},
     "output_type": "execute_result"
    }
   ],
   "source": [
    "grader.check(\"q2.2\")"
   ]
  },
  {
   "cell_type": "markdown",
   "metadata": {
    "cell_id": "0a790850-87c6-4f46-b89e-048a2295c92b",
    "colab_type": "text",
    "id": "IGFtXJmQap2q"
   },
   "source": [
    "<div class='exercise-r'>\n",
    "\n",
    "**Q2.3** Fit a logistic regression model to predict `admitted` from `test_score` and `avg_ap` (call it `logit2_3`).  Print out the coefficient estimates along with the classification accuracies for this model (on both train and test data).\n",
    "    \n",
    "</div>\n",
    "\n",
    "_Points:_ 3"
   ]
  },
  {
   "cell_type": "code",
   "execution_count": 25,
   "metadata": {
    "tags": []
   },
   "outputs": [],
   "source": [
    "# your code here\n",
    "\n",
    "X_train, y_train = college_train[['test_score', 'avg_ap']], college_train['admitted']\n",
    "X_test, y_test = college_test[['test_score', 'avg_ap']], college_test['admitted']\n",
    "\n",
    "logit2_3 = LogisticRegression(penalty='none', max_iter=1000, random_state=5)\n",
    "logit2_3.fit(X_train, y_train)\n",
    "\n",
    "logit2_3_coef_test = logit2_3.coef_[0][0]\n",
    "logit2_3_coef_avg_ap = logit2_3.coef_[0][1]\n",
    "logit2_3_intercept = logit2_3.intercept_[0]\n",
    "\n",
    "acc_train_logit2_3 = logit2_3.score(X_train, y_train)\n",
    "acc_test_logit2_3 = logit2_3.score(X_test, y_test)"
   ]
  },
  {
   "cell_type": "code",
   "execution_count": 26,
   "metadata": {},
   "outputs": [
    {
     "name": "stdout",
     "output_type": "stream",
     "text": [
      "The intercept and coefficients for the 'logit2_3' model are:\n",
      "\tintercept           -0.0188\n",
      "\ttest                -0.0005\n",
      "\tavg_ap              0.0533\n",
      "\n",
      "The classification accuracies for 'logit2_3' are:\n",
      "\n",
      "\tTrain\t0.7373\n",
      "\tTEST\t0.7013\n"
     ]
    }
   ],
   "source": [
    "# Print the parameters of logit2_3\n",
    "print(\"The intercept and coefficients for the 'logit2_3' model are:\")\n",
    "print(\"\\t{:<20}{:.4f}\".format('intercept', logit2_3_intercept))\n",
    "print(\"\\t{:<20}{:.4f}\".format('test', logit2_3_coef_test))\n",
    "print(\"\\t{:<20}{:.4f}\".format('avg_ap', logit2_3_coef_avg_ap))\n",
    "\n",
    "print(\n",
    "    \"\\nThe classification accuracies for 'logit2_3' are:\\n\\n\\tTrain\\t{:.4f}\\n\\tTEST\\t{:.4f}\"\n",
    "    .format(acc_train_logit2_3, acc_test_logit2_3)\n",
    ")"
   ]
  },
  {
   "cell_type": "code",
   "execution_count": 27,
   "metadata": {
    "deletable": false,
    "editable": false
   },
   "outputs": [
    {
     "data": {
      "text/html": [
       "<p><strong><pre style='display: inline;'>q2.3</pre></strong> passed!</p>"
      ],
      "text/plain": [
       "q2.3 results: All test cases passed!"
      ]
     },
     "execution_count": 27,
     "metadata": {},
     "output_type": "execute_result"
    }
   ],
   "source": [
    "grader.check(\"q2.3\")"
   ]
  },
  {
   "cell_type": "markdown",
   "metadata": {
    "cell_id": "0a790850-87c6-4f46-b89e-048a2295c92b",
    "colab_type": "text",
    "id": "IGFtXJmQap2q"
   },
   "source": [
    "<!-- BEGIN QUESTION -->\n",
    "\n",
    "<div class='exercise-r'>\n",
    "\n",
    "**Q2.4** Interpret the coefficient estimates for both predictors in `logit2_3` and compare the coefficient estimate for `test_score` to the one from `logit2_1`.  Why has this estimate changed?\n",
    "\n",
    "You should inspect the relationship between `test_score` and `avg_ap` to help get a better sense for what might be happening here.\n",
    "\n",
    "</div>\n",
    "\n",
    "_Points:_ 4"
   ]
  },
  {
   "cell_type": "code",
   "execution_count": 28,
   "metadata": {},
   "outputs": [
    {
     "name": "stdout",
     "output_type": "stream",
     "text": [
      "The intercept and coefficient for the 'logit2_1' model are:\n",
      "\tintercept           -9.4136\n",
      "\ttest_score          0.0038\n",
      "The intercept and coefficients for the 'logit2_3' model are:\n",
      "\tintercept           -0.0188\n",
      "\ttest_score          -0.0005\n",
      "\tavg_ap              0.0533\n"
     ]
    }
   ],
   "source": [
    "# Print the parameters of the last 2 models\n",
    "print(\"The intercept and coefficient for the 'logit2_1' model are:\")\n",
    "\n",
    "print(\"\\t{:<20}{:.4f}\".format('intercept', logit2_1_intercept))\n",
    "print(\"\\t{:<20}{:.4f}\".format('test_score', logit2_1_coef_test))\n",
    "\n",
    "print(\"The intercept and coefficients for the 'logit2_3' model are:\")\n",
    "print(\"\\t{:<20}{:.4f}\".format('intercept', logit2_3_intercept))\n",
    "print(\"\\t{:<20}{:.4f}\".format('test_score', logit2_3_coef_test))\n",
    "print(\"\\t{:<20}{:.4f}\".format('avg_ap', logit2_3_coef_avg_ap))"
   ]
  },
  {
   "cell_type": "markdown",
   "metadata": {},
   "source": [
    "Plotting the relationship between the 2 variables suggests that there is a strong correlation between them. This makes intuitive sense: an applicant scoring high on the SAT is also likely to have a higher AP score. \n",
    "\n",
    "Digging a little deeper, we compare the coefficients between `logit2_1` and `logit2_3`. Firstly, we notice that in `logit2_3` the absolute value of the coefficient on `avg_ap` is roughly 100x higher than the one on `test_score`. Secondly, the `logit2_1` `test_score` coefficient is about 10x greater than the one in `logit2_3`. \n",
    "\n",
    "These observations reflect that `avg_ap` missing from the first regression causes *omitted variable bias* as we exclude a predictor from the regression that is highly correlated with both the dependent variable (`admitted`) and a predictor `test`, which is included. Adding `avg_ap` in `logit2_3` circumvents this bias, and thus takes a part of the \"predictive value\". Hence, adding the `avg_ap` predictor in this case *decreased the relative importance* of the `test` predictor, which is responsible for the change in estimate."
   ]
  },
  {
   "cell_type": "code",
   "execution_count": 29,
   "metadata": {
    "tags": []
   },
   "outputs": [
    {
     "data": {
      "image/png": "[encoded data removed]",
      "text/plain": [
       "<Figure size 432x288 with 1 Axes>"
      ]
     },
     "metadata": {
      "needs_background": "light"
     },
     "output_type": "display_data"
    }
   ],
   "source": [
    "# your code here\n",
    "\n",
    "plt.scatter(college_train[\"test_score\"], college_train[\"avg_ap\"])\n",
    "plt.xlabel(\"Test Score\")\n",
    "plt.ylabel(\"Average AP score\")\n",
    "plt.title(\"Relationship between Test Score and Average AP score\");"
   ]
  },
  {
   "cell_type": "markdown",
   "metadata": {
    "cell_id": "0a790850-87c6-4f46-b89e-048a2295c92b",
    "colab_type": "text",
    "id": "IGFtXJmQap2q"
   },
   "source": [
    "<!-- END QUESTION -->\n",
    "\n",
    "<!-- BEGIN QUESTION -->\n",
    "\n",
    "<div class='exercise-r'>\n",
    "\n",
    "**Q2.5** Interpret and compare the classification accuracies for the two models, `logit2_1` and `logit2_3`.  Explain why these accuracies are the same or different, and what about the data makes these accuracies so similar or different.\n",
    "\n",
    "</div>\n",
    "\n",
    "_Points:_ 4"
   ]
  },
  {
   "cell_type": "code",
   "execution_count": 30,
   "metadata": {},
   "outputs": [
    {
     "name": "stdout",
     "output_type": "stream",
     "text": [
      "\n",
      "The classification accuracies for 'logit2_1' are:\n",
      "\n",
      "\tTrain\t0.7373\n",
      "\tTEST\t0.7013\n",
      "\n",
      "The classification accuracies for 'logit2_3' are:\n",
      "\n",
      "\tTrain\t0.7373\n",
      "\tTEST\t0.7013\n"
     ]
    }
   ],
   "source": [
    "# Display accuracies of last 2 models\n",
    "print(\n",
    "    \"\\nThe classification accuracies for 'logit2_1' are:\\n\\n\\tTrain\\t{:.4f}\\n\\tTEST\\t{:.4f}\"\n",
    "    .format(acc_train_logit2_1, acc_test_logit2_1)\n",
    ")\n",
    "print(\n",
    "    \"\\nThe classification accuracies for 'logit2_3' are:\\n\\n\\tTrain\\t{:.4f}\\n\\tTEST\\t{:.4f}\"\n",
    "    .format(acc_train_logit2_3, acc_test_logit2_3)\n",
    ")"
   ]
  },
  {
   "cell_type": "markdown",
   "metadata": {},
   "source": [
    "`logit2_1` and `logit2_3` result in the *same* classification accuracies. A prime factor in this conclusion is none other than the aforementioned strong correlation between `test_score` and `average_ap`: we are essentially fitting the model on the same data, which is why these accuracies are so similar. "
   ]
  },
  {
   "cell_type": "markdown",
   "metadata": {},
   "source": [
    "<!-- END QUESTION -->\n",
    "\n",
    "---"
   ]
  },
  {
   "cell_type": "markdown",
   "metadata": {},
   "source": [
    "<a id=\"part3\"></a>\n",
    "\n",
    "## <div class='exercise'>Question 3: Harvard and Yale? [30 pts]</div>\n",
    "\n",
    "[Return to contents](#contents)"
   ]
  },
  {
   "cell_type": "markdown",
   "metadata": {
    "cell_id": "0a790850-87c6-4f46-b89e-048a2295c92b",
    "colab_type": "text",
    "id": "IGFtXJmQap2q"
   },
   "source": [
    "<!-- BEGIN QUESTION -->\n",
    "\n",
    "<div class='exercise-r'>\n",
    "\n",
    "**Q3.1**\n",
    "- Fit a logistic regression model (call it `logit3_1`) to predict `admitted` from 7 predictors: `[\"harvard\", \"test_score\", \"ap\", \"avg_ap\", \"gpa\", \"female\", \"minority\"]`.\n",
    "- Store the train and test accuracies in `acc_train_logit3_1` and `acc_test_logit3_1`.\n",
    "- Use the code provided to output the coefficient estimates. Interpret the coefficients for the binary predictors in this model.\n",
    "\n",
    "**HINT:** If you have convergence warnings, increasing the maximum number of iterations will likely solve this issue.\n",
    "    \n",
    "</div>\n",
    "\n",
    "_Points:_ 4"
   ]
  },
  {
   "cell_type": "markdown",
   "metadata": {},
   "source": [
    "The binary predictors in this model are:\n",
    "\n",
    "- `harvard`: $e^{\\beta_{harvard}} = 1.149$. This means that for an applicant applying to Harvard, the odds that this applicant is admitted is 1.15 times the odds for someone applying to Yale. This is a very similar result to our result from Q1.6, which is likely to suggest an quasi-insignificant correlation between `harvard` and the rest of the predictors in this regression \n",
    "\n",
    "\n",
    "- `female`: $e^{\\beta_{female}} = 0.978$. For a female applicant, the odds of being admitted are $0.978$ times those of a male. This suggests quasi-parity of odds between the 2 categories, which is not that significant of a result.\n",
    "\n",
    "\n",
    "\n",
    "- `minority`: $e^{\\beta_{minority}} = 1.571$. For a minority applicant, the odds of being admitted are $1.571$ times those of a non-minority. This result is quite significant."
   ]
  },
  {
   "cell_type": "code",
   "execution_count": 31,
   "metadata": {},
   "outputs": [],
   "source": [
    "# Print statements below assume predictors used in this order\n",
    "logit3_1_predictors = [\"harvard\", \"test_score\", \"ap\", \"avg_ap\", \"gpa\", \"female\", \"minority\"]"
   ]
  },
  {
   "cell_type": "code",
   "execution_count": 32,
   "metadata": {
    "scrolled": true,
    "tags": []
   },
   "outputs": [],
   "source": [
    "# your code here\n",
    "\n",
    "X_train, y_train = college_train[[x for x in logit3_1_predictors]], college_train['admitted'] \n",
    "X_test, y_test = college_test[[x for x in logit3_1_predictors]], college_test['admitted']\n",
    "\n",
    "\n",
    "logit3_1 = LogisticRegression(penalty='none', max_iter=1000)\n",
    "logit3_1.fit(X_train, y_train)\n",
    "\n",
    "acc_train_logit3_1 = logit3_1.score(X_train, y_train)\n",
    "acc_test_logit3_1 = logit3_1.score(X_test, y_test)"
   ]
  },
  {
   "cell_type": "code",
   "execution_count": 33,
   "metadata": {
    "scrolled": true,
    "tags": []
   },
   "outputs": [
    {
     "name": "stdout",
     "output_type": "stream",
     "text": [
      "The intercept and coefficients for the 'logit3_1' model are:\n",
      "\n",
      "\tintercept           -1.1656\n",
      "\tharvard             0.1392\n",
      "\ttest_score          0.0030\n",
      "\tap                  -0.0198\n",
      "\tavg_ap              0.0305\n",
      "\tgpa                 -1.7419\n",
      "\tfemale              -0.0220\n",
      "\tminority            0.4519\n",
      "\n",
      "The classification accuracies for 'logit3_1' are:\n",
      "\n",
      "\tTrain\t0.7320\n",
      "\tTEST\t0.7013\n"
     ]
    }
   ],
   "source": [
    "# Grab model's intercept and coefs regardless of their shape\n",
    "# (which depends on how x and y were shaped)\n",
    "\n",
    "logit3_1_intercept = np.array(logit3_1.intercept_).flatten()[0]\n",
    "logit3_1_coefs = logit3_1.coef_.flatten()\n",
    "\n",
    "print(\n",
    "    \"The intercept and coefficients for the 'logit3_1' model are:\"\n",
    "    \"\\n\\n\\t{:<20}{:.4f}\".format(\n",
    "        \"intercept\", logit3_1_intercept\n",
    "    )\n",
    ")\n",
    "for predictor, coef in zip(logit3_1_predictors, logit3_1_coefs):\n",
    "    print(\"\\t{:<20}{:.4f}\".format(predictor, coef))\n",
    "\n",
    "print(\n",
    "    \"\\nThe classification accuracies for 'logit3_1' are:\"\n",
    "    \"\\n\\n\\tTrain\\t{:.4f}\\n\\tTEST\\t{:.4f}\"\n",
    "    .format(acc_train_logit3_1, acc_test_logit3_1)\n",
    ")"
   ]
  },
  {
   "cell_type": "code",
   "execution_count": 34,
   "metadata": {},
   "outputs": [
    {
     "data": {
      "text/html": [
       "<div>\n",
       "<style scoped>\n",
       "    .dataframe tbody tr th:only-of-type {\n",
       "        vertical-align: middle;\n",
       "    }\n",
       "\n",
       "    .dataframe tbody tr th {\n",
       "        vertical-align: top;\n",
       "    }\n",
       "\n",
       "    .dataframe thead th {\n",
       "        text-align: right;\n",
       "    }\n",
       "</style>\n",
       "<table border=\"1\" class=\"dataframe\">\n",
       "  <thead>\n",
       "    <tr style=\"text-align: right;\">\n",
       "      <th></th>\n",
       "      <th>$e^{coeff}$</th>\n",
       "    </tr>\n",
       "  </thead>\n",
       "  <tbody>\n",
       "    <tr>\n",
       "      <th>harvard</th>\n",
       "      <td>1.149</td>\n",
       "    </tr>\n",
       "    <tr>\n",
       "      <th>test_score</th>\n",
       "      <td>1.003</td>\n",
       "    </tr>\n",
       "    <tr>\n",
       "      <th>ap</th>\n",
       "      <td>0.980</td>\n",
       "    </tr>\n",
       "    <tr>\n",
       "      <th>avg_ap</th>\n",
       "      <td>1.031</td>\n",
       "    </tr>\n",
       "    <tr>\n",
       "      <th>gpa</th>\n",
       "      <td>0.175</td>\n",
       "    </tr>\n",
       "    <tr>\n",
       "      <th>female</th>\n",
       "      <td>0.978</td>\n",
       "    </tr>\n",
       "    <tr>\n",
       "      <th>minority</th>\n",
       "      <td>1.571</td>\n",
       "    </tr>\n",
       "  </tbody>\n",
       "</table>\n",
       "</div>"
      ],
      "text/plain": [
       "            $e^{coeff}$\n",
       "harvard           1.149\n",
       "test_score        1.003\n",
       "ap                0.980\n",
       "avg_ap            1.031\n",
       "gpa               0.175\n",
       "female            0.978\n",
       "minority          1.571"
      ]
     },
     "execution_count": 34,
     "metadata": {},
     "output_type": "execute_result"
    }
   ],
   "source": [
    "pd.DataFrame({'$e^{coeff}$': np.exp(logit3_1.coef_[0])}, \n",
    "             index=logit3_1_predictors)"
   ]
  },
  {
   "cell_type": "code",
   "execution_count": 35,
   "metadata": {
    "deletable": false,
    "editable": false
   },
   "outputs": [
    {
     "data": {
      "text/html": [
       "<p><strong><pre style='display: inline;'>q3.1</pre></strong> passed!</p>"
      ],
      "text/plain": [
       "q3.1 results: All test cases passed!"
      ]
     },
     "execution_count": 35,
     "metadata": {},
     "output_type": "execute_result"
    }
   ],
   "source": [
    "grader.check(\"q3.1\")"
   ]
  },
  {
   "cell_type": "markdown",
   "metadata": {
    "cell_id": "0a790850-87c6-4f46-b89e-048a2295c92b",
    "colab_type": "text",
    "id": "IGFtXJmQap2q"
   },
   "source": [
    "<!-- END QUESTION -->\n",
    "\n",
    "<div class='exercise-r'>\n",
    "\n",
    "**Q3.2** Fit a logistic regression model (call it `logit3_2`) to predict `admitted` from 3 predictors: `[\"harvard\", \"test_score\", \"ap\"]` along with the 2 interaction terms: `harvard` with `test_score` and `harvard` with `ap`. Name the columns for these interaction terms `harvard_test_score` and `harvard_ap`.\n",
    "\n",
    "</div>\n",
    "\n",
    "_Points:_ 3"
   ]
  },
  {
   "cell_type": "code",
   "execution_count": 36,
   "metadata": {},
   "outputs": [],
   "source": [
    "college_train['harvard_test_score'] = college_train['harvard'] * college_train['test_score']\n",
    "college_test['harvard_test_score'] = college_test['harvard'] * college_test['test_score']\n",
    "\n",
    "college_train['harvard_ap'] = college_train['harvard'] * college_train['ap']\n",
    "college_test['harvard_ap'] = college_test['harvard'] * college_test['ap']"
   ]
  },
  {
   "cell_type": "code",
   "execution_count": 37,
   "metadata": {},
   "outputs": [],
   "source": [
    "# Print statement below assumes this order of predictors\n",
    "logit3_2_predictors = [\"harvard\", \"test_score\", \"ap\", \"harvard_test_score\", \"harvard_ap\"]\n",
    "\n",
    "X_train, y_train = college_train[[x for x in logit3_2_predictors]], college_train['admitted']\n",
    "X_test, y_test = college_test[[x for x in logit3_2_predictors]], college_test['admitted']"
   ]
  },
  {
   "cell_type": "code",
   "execution_count": 38,
   "metadata": {
    "tags": []
   },
   "outputs": [
    {
     "data": {
      "text/plain": [
       "LogisticRegression(max_iter=1000, penalty='none', random_state=5)"
      ]
     },
     "execution_count": 38,
     "metadata": {},
     "output_type": "execute_result"
    }
   ],
   "source": [
    "# your code here\n",
    "\n",
    "logit3_2 = LogisticRegression(penalty = 'none', max_iter = 1000, random_state=5)\n",
    "logit3_2.fit(X_train, y_train)"
   ]
  },
  {
   "cell_type": "code",
   "execution_count": 39,
   "metadata": {
    "tags": []
   },
   "outputs": [
    {
     "name": "stdout",
     "output_type": "stream",
     "text": [
      "The intercept and coefficients for the 'logit3_2' model are:\n",
      "\n",
      "\tintercept           -7.1344\n",
      "\tharvard             -4.4410\n",
      "\ttest_score          0.0027\n",
      "\tap                  0.0240\n",
      "\tharvard_test_score  0.0022\n",
      "\tharvard_ap          -0.1101\n"
     ]
    }
   ],
   "source": [
    "# Display results\n",
    "logit3_2_intercept = np.array(logit3_2.intercept_).flatten()[0]\n",
    "logit3_2_coefs = logit3_2.coef_.flatten()\n",
    "\n",
    "print(\n",
    "    \"The intercept and coefficients for the 'logit3_2' model are:\"\n",
    "    \"\\n\\n\\t{:<20}{:.4f}\".format(\n",
    "        \"intercept\", logit3_2_intercept\n",
    "    )\n",
    ")\n",
    "\n",
    "for predictor, coef in zip(logit3_2_predictors, logit3_2_coefs):\n",
    "    print(\"\\t{:<20}{:.4f}\".format(predictor, coef))"
   ]
  },
  {
   "cell_type": "code",
   "execution_count": 40,
   "metadata": {
    "deletable": false,
    "editable": false
   },
   "outputs": [
    {
     "data": {
      "text/html": [
       "<p><strong><pre style='display: inline;'>q3.2</pre></strong> passed!</p>"
      ],
      "text/plain": [
       "q3.2 results: All test cases passed!"
      ]
     },
     "execution_count": 40,
     "metadata": {},
     "output_type": "execute_result"
    }
   ],
   "source": [
    "grader.check(\"q3.2\")"
   ]
  },
  {
   "cell_type": "markdown",
   "metadata": {
    "cell_id": "0a790850-87c6-4f46-b89e-048a2295c92b",
    "colab_type": "text",
    "id": "IGFtXJmQap2q"
   },
   "source": [
    "<!-- BEGIN QUESTION -->\n",
    "\n",
    "<div class='exercise-r'>\n",
    "\n",
    "**Q3.3** Simplify and write out mathematically the above model from Question 3.2 for 2 applicants: (1) someone who is applying to Harvard and for (2) someone who is applying to Yale (keep `test_score` and `ap` as the unknown $X$s).  The basic framework given to you below may be helpful:\n",
    "\n",
    "$$ \\ln \\left( \\frac{P(Y=1)}{1-P(Y=1)} \\right) = \\beta_0 + \\beta_1 X_1 + \\dots + \\beta_p X_p $$\n",
    "    \n",
    "**NOTE:** All of your mathematical statements should be written out in your markdown cells using $\\LaTeX$. Show all your steps, not just the final result.\n",
    "\n",
    "</div>\n",
    "\n",
    "_Points:_ 4"
   ]
  },
  {
   "cell_type": "markdown",
   "metadata": {},
   "source": [
    "We first present the general model with the interaction terms:\n",
    "\n",
    "$$\\ln \\left( \\frac{P(Y=1)}{1-P(Y=1)} \\right) = \\beta_0 + \\beta_1 X_1 + \\beta_2 X_2 + \\beta_3 X_3 + \\beta_4 X_1X_2 + \\beta_5 X_1 X_3 $$\n",
    "\n",
    "Where $X_1$ corresponds to the `harvard` variable, $X_2$ to the `test_score` variable and $X_3$ to the `ap` one. Recall that `harvard` ($X_1$) takes the value $1$ if applicant is applying to Harvard $0$ if not. Hence, $X_1X_2$ and $X_1 X_3$ are `harvard_test_score` and `harvard_ap` respectively.\n",
    "\n",
    "Therefore, we have for someone applying to Harvard:\n",
    "\n",
    "$$ \\ln \\left( \\frac{P(Y=1)}{1-P(Y=1)} \\right) = \\beta_0 + \\beta_1 + \\beta_2 X_2 + \\beta_3 X_3 + \\beta_4 X_2 + \\beta_5 X_3 $$\n",
    "\n",
    "Similarly, for someone applying to Yale:\n",
    "\n",
    "$$ \\ln \\left( \\frac{P(Y=1)}{1-P(Y=1)} \\right) = \\beta_0 + \\beta_2 X_2 + \\beta_3 X_3 $$\n",
    "   \n"
   ]
  },
  {
   "cell_type": "markdown",
   "metadata": {
    "cell_id": "0a790850-87c6-4f46-b89e-048a2295c92b",
    "colab_type": "text",
    "id": "IGFtXJmQap2q"
   },
   "source": [
    "<!-- END QUESTION -->\n",
    "\n",
    "<!-- BEGIN QUESTION -->\n",
    "\n",
    "<div class='exercise-r'>\n",
    "\n",
    "**Q3.4** Determine two classification boundaries mathematically for the model in the previous part (using the estimated coefficients): What range of values of `test_score` as a function of `ap` would an applicant be predicted to have a better than 50% chance (i.e. 0.5 probability) of being admitted into the college they applied to? \n",
    "\n",
    "Use the function for Harvard to answer the following question: if a student scored a perfect 2400 on `test_score`, what is the range of AP tests they should take in order to have a better than 50% chance of being admitted into Harvard?\n",
    "\n",
    "Again, you should show your work in $\\LaTeX$.\n",
    "</div>\n",
    "\n",
    "_Points:_ 5"
   ]
  },
  {
   "cell_type": "markdown",
   "metadata": {},
   "source": [
    "We have:\n",
    "\n",
    "For Harvard ($X_1 = 1$):\n",
    "\n",
    "$$ \\ln \\left( \\frac{P(Y=1)}{1-P(Y=1)} \\right) = \\beta_0 + \\beta_1 + \\beta_2 X_2 + \\beta_3 X_3 + \\beta_4 X_2 + \\beta_5 X_3 $$\n",
    "\n",
    "For Yale ($X_1 = 0$):\n",
    "\n",
    "$$ \\ln \\left( \\frac{P(Y=1)}{1-P(Y=1)} \\right) = \\beta_0 + \\beta_2 X_2 + \\beta_3 X_3 $$\n",
    "\n",
    "If $p = 0.5$, we simply have $ln(\\frac{p}{1-p}) = 0$:\n",
    "\n",
    "Solving separately for Harvard and Yale yields the following boundaries:\n",
    "\n",
    "Harvard ($X_1=1$):\n",
    "$$X_2 = -\\frac{1}{\\beta_2}(\\beta_0 + \\beta_1 + \\beta_3X_3 + \\beta_4X_2 + \\beta_5X_3)$$\n",
    "Yale ($X_1=0$):\n",
    "$$X_2 = -\\frac{1}{\\beta_2}(\\beta_0 + \\beta_3X_3)$$\n",
    "\n",
    "If a student scored a perfect 2400 on test, the range of AP tests they should take to have more than a 50% probability of getting admitted to Harvard would satisfy the following inequality:\n",
    "\n",
    "$$ \\beta_0 + \\beta_1 + 2400\\beta_2  + \\beta_3 X_3 + 2400\\beta_4 + \\beta_5X_3 > 0 $$ \n",
    "\n",
    "Solving whilst taking into account the sign of our coefficients yields:\n",
    "\n",
    "$$X_3 < -\\frac{1}{\\beta_3 + \\beta_5} (\\beta_0 + \\beta_1 + 2400\\beta_2 + 2400\\beta_4 )$$\n",
    "\n",
    "Using the code below enables us to conclude that students should take less than **3** AP tests to have more 50% probability of getting into Harvard. "
   ]
  },
  {
   "cell_type": "code",
   "execution_count": 41,
   "metadata": {},
   "outputs": [
    {
     "data": {
      "text/plain": [
       "3.1144259947084194"
      ]
     },
     "execution_count": 41,
     "metadata": {},
     "output_type": "execute_result"
    }
   ],
   "source": [
    "ap_ = -1/(logit3_2.coef_[0][2]\n",
    "          +logit3_2.coef_[0][4]) * (2400* logit3_2.coef_[0][3] + 2400* logit3_2.coef_[0][1] + logit3_2.intercept_[0] + logit3_2.coef_[0][0])\n",
    "ap_\n"
   ]
  },
  {
   "cell_type": "markdown",
   "metadata": {
    "cell_id": "0a790850-87c6-4f46-b89e-048a2295c92b",
    "colab_type": "text",
    "id": "IGFtXJmQap2q"
   },
   "source": [
    "<!-- END QUESTION -->\n",
    "\n",
    "<!-- BEGIN QUESTION -->\n",
    "\n",
    "<div class='exercise-r'>\n",
    "\n",
    "**Q3.5** Create two separate scatterplots (one for Harvard applicants and one for Yale applicants) with the predictor `test_score` on the y-axis and `ap` on the x-axis where `admitted` is color-coded and the marker denotes train vs. test data.  Then add the appropriate classification boundary from the previous part.  Compare these two plots (including both the location of the boundaries and where the points lie around these boundaries).\n",
    "\n",
    "**NOTE:** As always, please be certain (a) your plot is titled, (b) everything is clearly labeled, and (c) the plot itself is formatted in a manner that makes it easy to read and interpret. It will likely take some careful work here to generate plots with data points that are clear and easy to see. You might try 'dithering' the points with a random offset so they are not all on top of one another.\n",
    "    \n",
    "</div>\n",
    "\n",
    "_Points:_ 5"
   ]
  },
  {
   "cell_type": "markdown",
   "metadata": {},
   "source": [
    "Observing the scatter plots, it seems that for both universities, most points are *below* the boundary. However, the Harvard boundary has some points above it. This is not the case for Yale. \n",
    "This means that our model will always predict a rejection from Yale, and most of the time for Harvard. The exceptions to this rule would be applicants having a very high `ap` variable value and high `test_score`."
   ]
  },
  {
   "cell_type": "code",
   "execution_count": 42,
   "metadata": {},
   "outputs": [],
   "source": [
    "harvard_boundary = -1/(logit3_2.coef_[0][1]+logit3_2.coef_[0][3]) * (logit3_2.intercept_[0] + logit3_2.coef_[0][0] + logit3_2.coef_[0][2]*college_train[\"ap\"] + logit3_2.coef_[0][4]*college_train[\"ap\"])\n",
    "yale_boundary = -1/(logit3_2.coef_[0][1]) * (logit3_2.intercept_[0] + logit3_2.coef_[0][2] * college_train[\"ap\"])"
   ]
  },
  {
   "cell_type": "code",
   "execution_count": 43,
   "metadata": {
    "tags": []
   },
   "outputs": [
    {
     "data": {
      "image/png": "[encoded data removed]",
      "text/plain": [
       "<Figure size 432x288 with 1 Axes>"
      ]
     },
     "metadata": {
      "needs_background": "light"
     },
     "output_type": "display_data"
    },
    {
     "data": {
      "image/png": "[encoded data removed]",
      "text/plain": [
       "<Figure size 432x288 with 1 Axes>"
      ]
     },
     "metadata": {
      "needs_background": "light"
     },
     "output_type": "display_data"
    }
   ],
   "source": [
    "# your code here\n",
    "\n",
    "harvard_train = college_train[college_train[\"harvard\"]==1]\n",
    "harvard_test = college_test[college_test[\"harvard\"]==1]\n",
    "yale_train = college_train[college_train[\"harvard\"]==0]\n",
    "yale_test = college_test[college_test[\"harvard\"]==0]\n",
    "train_admitted = harvard_train.groupby(\"admitted\")\n",
    "test_admitted = harvard_test.groupby(\"admitted\")\n",
    "colors = (\"red\", \"blue\")\n",
    "for i, (name, group) in enumerate(train_admitted):\n",
    "    plt.plot(group.ap, group.test_score, marker='x', color = colors[i], linestyle='', markersize=8, label=\"train admitted {}\".format(name))\n",
    "for i, (name, group) in enumerate(test_admitted):\n",
    "    plt.plot(group.ap, group.test_score, marker='o', markerfacecolor='white', color = colors[i], linestyle='', markersize=5, label=\"test admitted {}\".format(name))\n",
    "\n",
    "plt.plot(college_train[\"ap\"],harvard_boundary, label='Harvard classification boundary')\n",
    "    \n",
    "    \n",
    "plt.legend()\n",
    "plt.xlabel(\"AP\")\n",
    "plt.ylabel(\"test score\")\n",
    "plt.title(\"Harvard applicants test score v.s. number of AP classes\")\n",
    "plt.show()\n",
    "train_admitted = yale_train.groupby(\"admitted\")\n",
    "test_admitted = yale_test.groupby(\"admitted\")\n",
    "for i, (name, group) in enumerate(train_admitted):\n",
    "    plt.plot(group.ap, group.test_score, marker='x', color = colors[i], linestyle='', markersize=8, label=\"train admitted {}\".format(name))\n",
    "for i, (name, group) in enumerate(test_admitted):\n",
    "    plt.plot(group.ap, group.test_score, marker='o', markerfacecolor='white', color = colors[i], linestyle='', markersize=5, label=\"test admitted {}\".format(name))\n",
    "    \n",
    "plt.plot(college_train[\"ap\"],yale_boundary, label='Yale classification boundary')\n",
    "    \n",
    "plt.legend()\n",
    "plt.xlabel(\"AP\")\n",
    "plt.ylabel(\"test score\")\n",
    "plt.title(\"Yale applicants test score v.s. number of AP classes\")\n",
    "plt.show()"
   ]
  },
  {
   "cell_type": "markdown",
   "metadata": {
    "cell_id": "0a790850-87c6-4f46-b89e-048a2295c92b",
    "colab_type": "text",
    "id": "IGFtXJmQap2q"
   },
   "source": [
    "<!-- END QUESTION -->\n",
    "\n",
    "<div class='exercise-r'>\n",
    "\n",
    "**Q3.6** Fit a logistic regression model (call it `logit3_6`) to predict `admitted` from 4 predictors: `[\"harvard\", \"test_score\", \"female\", \"minority\"]` along with 2 interaction terms: `harvard` with `female` and `harvard` with `minority`. \n",
    "    \n",
    "</div>\n",
    "\n",
    "_Points:_ 3"
   ]
  },
  {
   "cell_type": "code",
   "execution_count": 44,
   "metadata": {},
   "outputs": [],
   "source": [
    "# Provided code assumes this order of predictors\n",
    "\n",
    "college_train['harvard_female'] = college_train['female'] * college_train['harvard']\n",
    "college_test['harvard_female'] = college_test['female'] * college_test['harvard']\n",
    "\n",
    "college_train['harvard_minority'] = college_train['minority'] * college_train['harvard']\n",
    "college_test['harvard_minority'] = college_test['minority'] * college_test['harvard']\n",
    "\n",
    "logit3_6_predictors = [\"harvard\",\n",
    "                       \"test_score\",\n",
    "                       \"female\",\n",
    "                       \"minority\",\n",
    "                       \"harvard_female\",\n",
    "                       \"harvard_minority\"\n",
    "                      ]\n",
    "\n"
   ]
  },
  {
   "cell_type": "code",
   "execution_count": 45,
   "metadata": {
    "tags": []
   },
   "outputs": [
    {
     "data": {
      "text/plain": [
       "LogisticRegression(max_iter=1000, penalty='none', random_state=5)"
      ]
     },
     "execution_count": 45,
     "metadata": {},
     "output_type": "execute_result"
    }
   ],
   "source": [
    "# your code here\n",
    "\n",
    "X_train, y_train = college_train[[ x for x in logit3_6_predictors]], college_train['admitted']\n",
    "X_test, y_test = college_test[[ x for x in logit3_6_predictors]], college_test['admitted']\n",
    "\n",
    "\n",
    "logit3_6 = LogisticRegression(penalty='none', max_iter = 1000, random_state=5)\n",
    "\n",
    "logit3_6.fit(X_train, y_train)\n",
    "\n"
   ]
  },
  {
   "cell_type": "code",
   "execution_count": 46,
   "metadata": {
    "deletable": false,
    "editable": false
   },
   "outputs": [
    {
     "data": {
      "text/html": [
       "<p><strong><pre style='display: inline;'>q3.6</pre></strong> passed!</p>"
      ],
      "text/plain": [
       "q3.6 results: All test cases passed!"
      ]
     },
     "execution_count": 46,
     "metadata": {},
     "output_type": "execute_result"
    }
   ],
   "source": [
    "grader.check(\"q3.6\")"
   ]
  },
  {
   "cell_type": "markdown",
   "metadata": {
    "cell_id": "0a790850-87c6-4f46-b89e-048a2295c92b",
    "colab_type": "text",
    "id": "IGFtXJmQap2q"
   },
   "source": [
    "<!-- BEGIN QUESTION -->\n",
    "\n",
    "<div class='exercise-r'>\n",
    "\n",
    "**Q3.7** Interpret the coefficients associated with `female` and `minority` (the two main effects AND the two interaction terms).\n",
    "    \n",
    "</div>\n",
    "\n",
    "_Points:_ 4"
   ]
  },
  {
   "cell_type": "code",
   "execution_count": 47,
   "metadata": {},
   "outputs": [
    {
     "name": "stdout",
     "output_type": "stream",
     "text": [
      "The intercept and coefficients for the 'logit3_6' model are:\n",
      "\n",
      "\tintercept           -11.1157\n",
      "\tharvard             0.1681\n",
      "\ttest_score          0.0044\n",
      "\tfemale              -0.1191\n",
      "\tminority            1.2482\n",
      "\tharvard_female      0.3113\n",
      "\tharvard_minority    -0.7247\n"
     ]
    }
   ],
   "source": [
    "# Display results\n",
    "logit3_6_intercept = np.array(logit3_6.intercept_).flatten()[0]\n",
    "logit3_6_coefs = logit3_6.coef_.flatten()\n",
    "\n",
    "print(\n",
    "    \"The intercept and coefficients for the 'logit3_6' model are:\"\n",
    "    \"\\n\\n\\t{:<20}{:.4f}\".format(\n",
    "        \"intercept\", logit3_6_intercept\n",
    "    )\n",
    ")\n",
    "\n",
    "for predictor, coef in zip(logit3_6_predictors, logit3_6_coefs):\n",
    "    print(\"\\t{:<20}{:.4f}\".format(predictor, coef))"
   ]
  },
  {
   "cell_type": "code",
   "execution_count": 48,
   "metadata": {},
   "outputs": [
    {
     "data": {
      "text/html": [
       "<div>\n",
       "<style scoped>\n",
       "    .dataframe tbody tr th:only-of-type {\n",
       "        vertical-align: middle;\n",
       "    }\n",
       "\n",
       "    .dataframe tbody tr th {\n",
       "        vertical-align: top;\n",
       "    }\n",
       "\n",
       "    .dataframe thead th {\n",
       "        text-align: right;\n",
       "    }\n",
       "</style>\n",
       "<table border=\"1\" class=\"dataframe\">\n",
       "  <thead>\n",
       "    <tr style=\"text-align: right;\">\n",
       "      <th></th>\n",
       "      <th>$e^{coeff}$</th>\n",
       "    </tr>\n",
       "  </thead>\n",
       "  <tbody>\n",
       "    <tr>\n",
       "      <th>harvard</th>\n",
       "      <td>1.183</td>\n",
       "    </tr>\n",
       "    <tr>\n",
       "      <th>test_score</th>\n",
       "      <td>1.004</td>\n",
       "    </tr>\n",
       "    <tr>\n",
       "      <th>female</th>\n",
       "      <td>0.888</td>\n",
       "    </tr>\n",
       "    <tr>\n",
       "      <th>minority</th>\n",
       "      <td>3.484</td>\n",
       "    </tr>\n",
       "    <tr>\n",
       "      <th>harvard_female</th>\n",
       "      <td>1.365</td>\n",
       "    </tr>\n",
       "    <tr>\n",
       "      <th>harvard_minority</th>\n",
       "      <td>0.484</td>\n",
       "    </tr>\n",
       "  </tbody>\n",
       "</table>\n",
       "</div>"
      ],
      "text/plain": [
       "                  $e^{coeff}$\n",
       "harvard                 1.183\n",
       "test_score              1.004\n",
       "female                  0.888\n",
       "minority                3.484\n",
       "harvard_female          1.365\n",
       "harvard_minority        0.484"
      ]
     },
     "execution_count": 48,
     "metadata": {},
     "output_type": "execute_result"
    }
   ],
   "source": [
    "pd.DataFrame({'$e^{coeff}$': np.exp(logit3_6.coef_[0])}, \n",
    "             index=logit3_6_predictors)"
   ]
  },
  {
   "cell_type": "markdown",
   "metadata": {},
   "source": [
    "- $e^{\\beta_{female}} = 0.888$\n",
    "- $e^{\\beta_{minority}} = 3.484$\n",
    "\n",
    "\n",
    "We start by noting that `minority` has a higher impact than sex (`female`). From the dataframe above, this is because the odds of getting admitted for minorities is 3.484 times the odds for non-minorities. Additionally, regarding `female`, the odds ratio is 0.888 (probability of being admitted as a female is 0.888 that of a male).\n",
    "\n",
    "- `harvard_female` $= 0.3113$\n",
    "-  `harvard_minority` $=    -0.7247$\n",
    "\n",
    "The predicted probability decreases with the value of the covariate in the case of minorities: minority students are less likely to apply to Harvard. The opposite is true for females, but to a very small extent as the coefficient's value is quite small. \n",
    "\n",
    "Minority students have a higher chance of being admitted to Harvard. However they are also less likely to apply. Additionally, an applicant's sex does not seem to have a significant effect on the probability to apply to Harvard. \n",
    "\n"
   ]
  },
  {
   "cell_type": "markdown",
   "metadata": {
    "cell_id": "0a790850-87c6-4f46-b89e-048a2295c92b",
    "colab_type": "text",
    "id": "IGFtXJmQap2q"
   },
   "source": [
    "<!-- END QUESTION -->\n",
    "\n",
    "<!-- BEGIN QUESTION -->\n",
    "\n",
    "<div class='exercise-r'>\n",
    "\n",
    "**Q3.8** Based on this sample, how does it appear that Harvard and Yale compare in admitting women and minorities?  Why would it be wrong to take this interpretation as truth?\n",
    "\n",
    "</div>\n",
    "\n",
    "_Points:_ 2"
   ]
  },
  {
   "cell_type": "markdown",
   "metadata": {},
   "source": [
    "Based on this sample, it seems that both schools tend to respond more favourably to minority group applications. However, it seems like successful applicants at Harvard tend to take less AP classes than successful applicants at Yale. One may then categorise this interpretation as erroneous for previously outlined reasons: data pulled from collegedata.com comes from volunteers, and thus is more reflective of applicants who are eager to share their results (e.g., happier of their admission when they considered odds to be low). This may be reflective of a certain bias, and may impede us from extending our results to the general population. "
   ]
  },
  {
   "cell_type": "markdown",
   "metadata": {},
   "source": [
    "<!-- END QUESTION -->\n",
    "\n",
    "---"
   ]
  },
  {
   "cell_type": "markdown",
   "metadata": {},
   "source": [
    "<a id=\"part4\"></a>\n",
    "\n",
    "## <div class='exercise'>Question 4: Building predictive models for admitted [24 pts]</div>\n",
    "\n",
    "[Return to contents](#contents)"
   ]
  },
  {
   "cell_type": "markdown",
   "metadata": {
    "cell_id": "0a790850-87c6-4f46-b89e-048a2295c92b",
    "colab_type": "text",
    "id": "IGFtXJmQap2q"
   },
   "source": [
    "<div class='exercise-r'>\n",
    "\n",
    "**Q4.1** You were instructed to NOT scale predictors in the prior sections above. The primary reason for this was to focus instead on the interpretability of our logistic regression coefficients. However, as we're sure you noticed, the numeric scale among our different predictors varies greatly (i.e. `test_score` values are in the 1,000's while others are much, much smaller). In practice, we might want to put our predictors all on a similar scale, particularly for regularized regression and/or distance-based algorithms such as $k$-NN classification. **(1)** Please explain why scaling under these circumstances might be important. Then, **(2)** actually apply standardized scaling to all of the **non-binary** predictors in our original set of 12 predictors. **For the sake of consistency, fit your scaler on just the training data. Then use it to transform both train and test.**\n",
    "\n",
    "**IMPORTANT:** These scaled predictors should be used instead of the original unscaled versions of the predictors for the remainder of this problem set. Tests from this point on assume that `X_train` and `X_test` have been standardized with the approach outlined above. \n",
    "\n",
    "</div>\n",
    "\n",
    "_Points:_ 4"
   ]
  },
  {
   "cell_type": "markdown",
   "metadata": {},
   "source": [
    "In the case of a *regularized* regression, scaling is important as coefficient values depend on variable scale. These are then *shrinked* based on that scale, independently of their meaning: scaling leads to the shrinkage to be on the *same base* for all coefficients. Recall that in the case of distance-based algorithms, there is a difference in the effects of high and low-scale variables, as the former will tend to have a more significant impact on distance, which is not necessarily wanted."
   ]
  },
  {
   "cell_type": "code",
   "execution_count": 49,
   "metadata": {},
   "outputs": [
    {
     "name": "stderr",
     "output_type": "stream",
     "text": [
      "/opt/anaconda3/lib/python3.9/site-packages/sklearn/base.py:450: UserWarning: X does not have valid feature names, but StandardScaler was fitted with feature names\n",
      "  warnings.warn(\n",
      "/opt/anaconda3/lib/python3.9/site-packages/sklearn/base.py:450: UserWarning: X does not have valid feature names, but StandardScaler was fitted with feature names\n",
      "  warnings.warn(\n"
     ]
    }
   ],
   "source": [
    "predictors = [\"test_score\", \"ap\", \"avg_ap\", \"sat_subjects\", \"gpa\", \"female\", \"minority\", \"international\",\"sports\", \"harvard\", \"early_app\", \"alumni\"]\n",
    "\n",
    "binary_predictors = [\"female\",\"minority\",\"international\",\"sports\",\"early_app\",\"alumni\",\"harvard\"]\n",
    "non_binary_predictors = [i for i in predictors if i not in binary_predictors]\n",
    "\n",
    "X_train = college_train[non_binary_predictors]\n",
    "X_test = college_test[non_binary_predictors]\n",
    "\n",
    "scaler = StandardScaler().fit(X_train)\n",
    "\n",
    "X_train = pd.DataFrame(scaler.transform(X_train.values), columns=X_train.columns, index=X_train.index)\n",
    "X_test = pd.DataFrame(scaler.transform(X_test.values), columns=X_test.columns, index=X_test.index)\n",
    "\n",
    "X_train = pd.concat([X_train,college_train[binary_predictors]],axis=1)\n",
    "X_test = pd.concat([X_test,college_test[binary_predictors]],axis=1)"
   ]
  },
  {
   "cell_type": "code",
   "execution_count": 50,
   "metadata": {},
   "outputs": [
    {
     "data": {
      "text/html": [
       "<div>\n",
       "<style scoped>\n",
       "    .dataframe tbody tr th:only-of-type {\n",
       "        vertical-align: middle;\n",
       "    }\n",
       "\n",
       "    .dataframe tbody tr th {\n",
       "        vertical-align: top;\n",
       "    }\n",
       "\n",
       "    .dataframe thead th {\n",
       "        text-align: right;\n",
       "    }\n",
       "</style>\n",
       "<table border=\"1\" class=\"dataframe\">\n",
       "  <thead>\n",
       "    <tr style=\"text-align: right;\">\n",
       "      <th></th>\n",
       "      <th>test_score</th>\n",
       "      <th>ap</th>\n",
       "      <th>avg_ap</th>\n",
       "      <th>sat_subjects</th>\n",
       "      <th>gpa</th>\n",
       "      <th>female</th>\n",
       "      <th>minority</th>\n",
       "      <th>international</th>\n",
       "      <th>sports</th>\n",
       "      <th>early_app</th>\n",
       "      <th>alumni</th>\n",
       "      <th>harvard</th>\n",
       "    </tr>\n",
       "  </thead>\n",
       "  <tbody>\n",
       "    <tr>\n",
       "      <th>count</th>\n",
       "      <td>1.496e+03</td>\n",
       "      <td>1.496e+03</td>\n",
       "      <td>1.496e+03</td>\n",
       "      <td>1.496e+03</td>\n",
       "      <td>1.496e+03</td>\n",
       "      <td>1496.0</td>\n",
       "      <td>1496.000</td>\n",
       "      <td>1496.000</td>\n",
       "      <td>1496.000</td>\n",
       "      <td>1496.000</td>\n",
       "      <td>1496.000</td>\n",
       "      <td>1496.000</td>\n",
       "    </tr>\n",
       "    <tr>\n",
       "      <th>mean</th>\n",
       "      <td>1.296e-15</td>\n",
       "      <td>-7.332e-17</td>\n",
       "      <td>3.112e-16</td>\n",
       "      <td>5.418e-17</td>\n",
       "      <td>1.863e-16</td>\n",
       "      <td>0.5</td>\n",
       "      <td>0.207</td>\n",
       "      <td>0.060</td>\n",
       "      <td>0.035</td>\n",
       "      <td>0.177</td>\n",
       "      <td>0.049</td>\n",
       "      <td>0.524</td>\n",
       "    </tr>\n",
       "    <tr>\n",
       "      <th>std</th>\n",
       "      <td>1.000e+00</td>\n",
       "      <td>1.000e+00</td>\n",
       "      <td>1.000e+00</td>\n",
       "      <td>1.000e+00</td>\n",
       "      <td>1.000e+00</td>\n",
       "      <td>0.5</td>\n",
       "      <td>0.405</td>\n",
       "      <td>0.238</td>\n",
       "      <td>0.183</td>\n",
       "      <td>0.382</td>\n",
       "      <td>0.217</td>\n",
       "      <td>0.500</td>\n",
       "    </tr>\n",
       "    <tr>\n",
       "      <th>min</th>\n",
       "      <td>-6.089e+00</td>\n",
       "      <td>-1.473e+00</td>\n",
       "      <td>-2.191e+00</td>\n",
       "      <td>-2.221e+00</td>\n",
       "      <td>-9.529e+00</td>\n",
       "      <td>0.0</td>\n",
       "      <td>0.000</td>\n",
       "      <td>0.000</td>\n",
       "      <td>0.000</td>\n",
       "      <td>0.000</td>\n",
       "      <td>0.000</td>\n",
       "      <td>0.000</td>\n",
       "    </tr>\n",
       "    <tr>\n",
       "      <th>25%</th>\n",
       "      <td>-4.440e-01</td>\n",
       "      <td>-6.158e-01</td>\n",
       "      <td>-7.730e-02</td>\n",
       "      <td>-6.703e-01</td>\n",
       "      <td>-2.432e-01</td>\n",
       "      <td>0.0</td>\n",
       "      <td>0.000</td>\n",
       "      <td>0.000</td>\n",
       "      <td>0.000</td>\n",
       "      <td>0.000</td>\n",
       "      <td>0.000</td>\n",
       "      <td>0.000</td>\n",
       "    </tr>\n",
       "    <tr>\n",
       "      <th>50%</th>\n",
       "      <td>2.029e-01</td>\n",
       "      <td>-1.871e-01</td>\n",
       "      <td>4.144e-01</td>\n",
       "      <td>1.052e-01</td>\n",
       "      <td>4.093e-01</td>\n",
       "      <td>0.5</td>\n",
       "      <td>0.000</td>\n",
       "      <td>0.000</td>\n",
       "      <td>0.000</td>\n",
       "      <td>0.000</td>\n",
       "      <td>0.000</td>\n",
       "      <td>1.000</td>\n",
       "    </tr>\n",
       "    <tr>\n",
       "      <th>75%</th>\n",
       "      <td>7.322e-01</td>\n",
       "      <td>6.703e-01</td>\n",
       "      <td>7.506e-01</td>\n",
       "      <td>1.052e-01</td>\n",
       "      <td>6.101e-01</td>\n",
       "      <td>1.0</td>\n",
       "      <td>0.000</td>\n",
       "      <td>0.000</td>\n",
       "      <td>0.000</td>\n",
       "      <td>0.000</td>\n",
       "      <td>0.000</td>\n",
       "      <td>1.000</td>\n",
       "    </tr>\n",
       "    <tr>\n",
       "      <th>max</th>\n",
       "      <td>1.261e+00</td>\n",
       "      <td>1.528e+00</td>\n",
       "      <td>7.506e-01</td>\n",
       "      <td>2.432e+00</td>\n",
       "      <td>6.101e-01</td>\n",
       "      <td>1.0</td>\n",
       "      <td>1.000</td>\n",
       "      <td>1.000</td>\n",
       "      <td>1.000</td>\n",
       "      <td>1.000</td>\n",
       "      <td>1.000</td>\n",
       "      <td>1.000</td>\n",
       "    </tr>\n",
       "  </tbody>\n",
       "</table>\n",
       "</div>"
      ],
      "text/plain": [
       "       test_score         ap     avg_ap  sat_subjects        gpa  female  \\\n",
       "count   1.496e+03  1.496e+03  1.496e+03     1.496e+03  1.496e+03  1496.0   \n",
       "mean    1.296e-15 -7.332e-17  3.112e-16     5.418e-17  1.863e-16     0.5   \n",
       "std     1.000e+00  1.000e+00  1.000e+00     1.000e+00  1.000e+00     0.5   \n",
       "min    -6.089e+00 -1.473e+00 -2.191e+00    -2.221e+00 -9.529e+00     0.0   \n",
       "25%    -4.440e-01 -6.158e-01 -7.730e-02    -6.703e-01 -2.432e-01     0.0   \n",
       "50%     2.029e-01 -1.871e-01  4.144e-01     1.052e-01  4.093e-01     0.5   \n",
       "75%     7.322e-01  6.703e-01  7.506e-01     1.052e-01  6.101e-01     1.0   \n",
       "max     1.261e+00  1.528e+00  7.506e-01     2.432e+00  6.101e-01     1.0   \n",
       "\n",
       "       minority  international    sports  early_app    alumni   harvard  \n",
       "count  1496.000       1496.000  1496.000   1496.000  1496.000  1496.000  \n",
       "mean      0.207          0.060     0.035      0.177     0.049     0.524  \n",
       "std       0.405          0.238     0.183      0.382     0.217     0.500  \n",
       "min       0.000          0.000     0.000      0.000     0.000     0.000  \n",
       "25%       0.000          0.000     0.000      0.000     0.000     0.000  \n",
       "50%       0.000          0.000     0.000      0.000     0.000     1.000  \n",
       "75%       0.000          0.000     0.000      0.000     0.000     1.000  \n",
       "max       1.000          1.000     1.000      1.000     1.000     1.000  "
      ]
     },
     "execution_count": 50,
     "metadata": {},
     "output_type": "execute_result"
    }
   ],
   "source": [
    "# preview summary stats after standardizing\n",
    "X_train.describe()"
   ]
  },
  {
   "cell_type": "code",
   "execution_count": 51,
   "metadata": {
    "deletable": false,
    "editable": false
   },
   "outputs": [
    {
     "data": {
      "text/html": [
       "<p><strong><pre style='display: inline;'>q4.1</pre></strong> passed!</p>"
      ],
      "text/plain": [
       "q4.1 results: All test cases passed!"
      ]
     },
     "execution_count": 51,
     "metadata": {},
     "output_type": "execute_result"
    }
   ],
   "source": [
    "grader.check(\"q4.1\")"
   ]
  },
  {
   "cell_type": "markdown",
   "metadata": {
    "cell_id": "0a790850-87c6-4f46-b89e-048a2295c92b",
    "colab_type": "text",
    "id": "IGFtXJmQap2q"
   },
   "source": [
    "<!-- BEGIN QUESTION -->\n",
    "\n",
    "<div class='exercise-r'>\n",
    "\n",
    "**Q4.2** Fit a well-tuned $k$-NN classification model with main effects of all 12 predictors in it (call it `knn_model`).  Use `ks = [1, 3, 5, 9, 15, 21, 51, 71, 101, 131, 171, 201]` and 10-fold cross-validation with classification accuracy as the scoring metric. Plot, on a single set of axes, your resulting cross-validation mean training and mean validation scores at each value $k$. Then, store your chosen $k$ in `best_k` and the classification accuracy on train and test for your final fitted model as `knn_train_acc` and `knn_test_acc`.\n",
    "    \n",
    "</div>\n",
    "\n",
    "_Points:_ 4"
   ]
  },
  {
   "cell_type": "code",
   "execution_count": 52,
   "metadata": {
    "tags": []
   },
   "outputs": [],
   "source": [
    "np.random.seed(121) # Do not delete or modify this line of code\n",
    "\n",
    "# your code here\n",
    "\n",
    "validation_mse, train_mse, test_mse = [], [], []\n",
    "ks = [1, 3, 5, 9, 15, 21, 51, 71, 101, 131, 171, 201]\n",
    "\n",
    "for k in ks:\n",
    "    model = KNeighborsClassifier(k)\n",
    "    \n",
    "    mse_score = cross_validate(model, X_train, y_train, scoring='accuracy', cv=10, return_train_score=True)\n",
    "    validation_mse.append(np.mean(mse_score['test_score']))\n",
    "    train_mse.append(np.mean(mse_score['train_score']))\n",
    "    test_mse.append(np.mean(mse_score['test_score']))\n",
    "\n",
    "best_k = ks[np.argmax(test_mse)]\n",
    "\n",
    "\n",
    "model_best_k = KNeighborsClassifier(best_k).fit(X_train, y_train)\n",
    "\n",
    "knn_train_acc = model_best_k.score(X_train, y_train)\n",
    "knn_test_acc = model_best_k.score(X_test, y_test)"
   ]
  },
  {
   "cell_type": "code",
   "execution_count": 53,
   "metadata": {
    "tags": []
   },
   "outputs": [
    {
     "data": {
      "image/png": "[encoded data removed]",
      "text/plain": [
       "<Figure size 720x576 with 1 Axes>"
      ]
     },
     "metadata": {
      "needs_background": "light"
     },
     "output_type": "display_data"
    }
   ],
   "source": [
    "# Plot cross-validation results\n",
    "# your code here\n",
    "\n",
    "\n",
    "plt.figure(figsize=(10, 8))\n",
    "plt.plot(ks, train_mse, label='train')\n",
    "plt.plot(ks, test_mse, label='test')\n",
    "plt.axvline(best_k, c='k', ls='--', label=rf'best $k$={best_k}')\n",
    "plt.xlabel(r'$k$')\n",
    "plt.ylabel('MSE')\n",
    "plt.title('kNN MSE loss as a function of $k$')\n",
    "plt.legend();"
   ]
  },
  {
   "cell_type": "code",
   "execution_count": 54,
   "metadata": {},
   "outputs": [
    {
     "name": "stdout",
     "output_type": "stream",
     "text": [
      "The classification accuracies for 'knn_model' where k=21 are:\n",
      "\n",
      "\tTrain\t0.7447\n",
      "\tTEST\t0.7013\n"
     ]
    }
   ],
   "source": [
    "print(\n",
    "    \"The classification accuracies for 'knn_model' where k={} \"\n",
    "    \"are:\\n\\n\\tTrain\\t{:.4f}\\n\\tTEST\\t{:.4f}\"\n",
    "    .format(\n",
    "        best_k, knn_train_acc, knn_test_acc\n",
    "    )\n",
    ")\n",
    "\n",
    "# create dict for storing test scores for each Q4 model\n",
    "q4_test_scores = {\"knn_model\": knn_test_acc}"
   ]
  },
  {
   "cell_type": "markdown",
   "metadata": {
    "cell_id": "0a790850-87c6-4f46-b89e-048a2295c92b",
    "colab_type": "text",
    "id": "IGFtXJmQap2q"
   },
   "source": [
    "<!-- END QUESTION -->\n",
    "\n",
    "<div class='exercise-r'>\n",
    "\n",
    "**Q4.3** Fit the full logistic regression model (without penalty) with main effects of all 12 predictors in it (call it `logit_full`). Store the classification accuracy on train and test for this model in `logit_full_train_acc` and `logit_full_test_acc`.\n",
    "\n",
    "**HINT:** If you have convergence warnings, increasing the maximum number of iterations will likely solve this issue.\n",
    "    \n",
    "</div>\n",
    "\n",
    "_Points:_ 3"
   ]
  },
  {
   "cell_type": "code",
   "execution_count": 55,
   "metadata": {},
   "outputs": [],
   "source": [
    "# The code that prints your results assumes\n",
    "# predictors were given to the model in this order\n",
    "predictor_list = [\n",
    "    \"test_score\", \"ap\", \"avg_ap\", \"sat_subjects\",\n",
    "    \"gpa\", \"female\", \"minority\", \"international\",\n",
    "    \"sports\", \"harvard\", \"early_app\", \"alumni\",\n",
    "]"
   ]
  },
  {
   "cell_type": "code",
   "execution_count": 56,
   "metadata": {
    "tags": []
   },
   "outputs": [],
   "source": [
    "# your code here\n",
    "logit_full = LogisticRegression(penalty='none', max_iter = 1000)\n",
    "logit_full.fit(X_train,y_train)\n",
    "\n",
    "\n",
    "logit_full_train_acc = logit_full.score(X_train, y_train)\n",
    "logit_full_test_acc = logit_full.score(X_test, y_test)"
   ]
  },
  {
   "cell_type": "code",
   "execution_count": 57,
   "metadata": {
    "tags": []
   },
   "outputs": [
    {
     "name": "stdout",
     "output_type": "stream",
     "text": [
      "The intercept and coefficients for the 'logit_full' model are:\n",
      "\n",
      "\tintercept           -1.7090\n",
      "\ttest_score          0.7838\n",
      "\tap                  -0.1403\n",
      "\tavg_ap              0.0975\n",
      "\tsat_subjects        -0.0952\n",
      "\tgpa                 0.1056\n",
      "\tfemale              0.0518\n",
      "\tminority            0.9165\n",
      "\tinternational       0.4500\n",
      "\tsports              1.2334\n",
      "\tharvard             0.3737\n",
      "\tearly_app           0.6629\n",
      "\talumni              0.2581\n",
      "\n",
      "The classification accuracies for 'logit_full' are:\n",
      "\n",
      "\tTrain\t0.7453\n",
      "\tTEST\t0.7147\n"
     ]
    }
   ],
   "source": [
    "# display your results\n",
    "print(\n",
    "    \"The intercept and coefficients for the 'logit_full' model are:\"\n",
    "    \"\\n\\n\\t{:<20}{:.4f}\".format(\n",
    "        \"intercept\", np.array(logit_full.intercept_).flatten()[0]\n",
    "    )\n",
    ")\n",
    "\n",
    "for predictor, coef in zip(predictor_list, logit_full.coef_.flatten()):\n",
    "    print(\"\\t{:<20}{:.4f}\".format(predictor, coef))\n",
    "\n",
    "print(\n",
    "    \"\\nThe classification accuracies for 'logit_full' are:\"\n",
    "    \"\\n\\n\\tTrain\\t{:.4f}\\n\\tTEST\\t{:.4f}\"\n",
    "    .format(logit_full_train_acc, logit_full_test_acc)\n",
    ")\n",
    "\n",
    "# store test score to dict for later use\n",
    "q4_test_scores[\"logit_full\"] = logit_full_test_acc"
   ]
  },
  {
   "cell_type": "code",
   "execution_count": 58,
   "metadata": {
    "deletable": false,
    "editable": false
   },
   "outputs": [
    {
     "data": {
      "text/html": [
       "<p><strong><pre style='display: inline;'>q4.3</pre></strong> passed!</p>"
      ],
      "text/plain": [
       "q4.3 results: All test cases passed!"
      ]
     },
     "execution_count": 58,
     "metadata": {},
     "output_type": "execute_result"
    }
   ],
   "source": [
    "grader.check(\"q4.3\")"
   ]
  },
  {
   "cell_type": "markdown",
   "metadata": {
    "cell_id": "0a790850-87c6-4f46-b89e-048a2295c92b",
    "colab_type": "text",
    "id": "IGFtXJmQap2q"
   },
   "source": [
    "<div class='exercise-r'>\n",
    "\n",
    "**Q4.4** Fit a well-tuned Lasso-like logistic regression model from all 12 predictors in it (call it `logit_lasso`). Use `Cs = [1e-4, 1e-3, 1e-2, 1e-1, 1e0, 1e1, 1e2, 1e3, 1e4]` and 10-fold cross-validation with classification accuracy as the scoring metric. Store the classification accuracy on train and test for this model in `logit_lasso_train_acc` and `logit_lasso_test_acc`.\n",
    "\n",
    "</div>\n",
    "\n",
    "_Points:_ 4"
   ]
  },
  {
   "cell_type": "code",
   "execution_count": 59,
   "metadata": {
    "tags": []
   },
   "outputs": [],
   "source": [
    "# your code here\n",
    "Cs = [1e-4, 1e-3, 1e-2, 1e-1, 1e0, 1e1, 1e2, 1e3, 1e4]\n",
    "cv = 10\n",
    "penalty = 'l1' # Lasso\n",
    "solver = 'liblinear'\n",
    "logit_lasso = LogisticRegressionCV(\n",
    "    Cs=Cs, cv=cv, penalty=penalty, solver=solver\n",
    ").fit(X_train, y_train)\n",
    "\n",
    "logit_lasso_train_acc = logit_lasso.score(X_train, y_train)\n",
    "logit_lasso_test_acc = logit_lasso.score(X_test, y_test)"
   ]
  },
  {
   "cell_type": "code",
   "execution_count": 60,
   "metadata": {
    "tags": []
   },
   "outputs": [
    {
     "name": "stdout",
     "output_type": "stream",
     "text": [
      "The intercept and coefficients for the 'logit_lasso' model are:\n",
      "\n",
      "\tintercept           -1.7014\n",
      "\ttest_score          0.7819\n",
      "\tap                  -0.1388\n",
      "\tavg_ap              0.0952\n",
      "\tsat_subjects        -0.0943\n",
      "\tgpa                 0.1045\n",
      "\tfemale              0.0493\n",
      "\tminority            0.9121\n",
      "\tinternational       0.4403\n",
      "\tsports              1.2214\n",
      "\tharvard             0.3701\n",
      "\tearly_app           0.6563\n",
      "\talumni              0.2545\n",
      "\n",
      "The classification accuracies for 'logit_lasso' are:\n",
      "\n",
      "\tTrain\t0.7453\n",
      "\tTEST\t0.7147\n"
     ]
    }
   ],
   "source": [
    "# Display your results\n",
    "print(\n",
    "    \"The intercept and coefficients for the 'logit_lasso' model are:\"\n",
    "    \"\\n\\n\\t{:<20}{:.4f}\".format(\n",
    "        \"intercept\", np.array(logit_lasso.intercept_).flatten()[0]\n",
    "    )\n",
    ")\n",
    "\n",
    "# Again, this code assumes predictors were given to the model\n",
    "# in the order defined in `predictor_list`\n",
    "for predictor, coef in zip(predictor_list, logit_lasso.coef_.flatten()):\n",
    "    print(\"\\t{:<20}{:.4f}\".format(predictor, coef))\n",
    "\n",
    "print(\n",
    "    \"\\nThe classification accuracies for 'logit_lasso' are:\"\n",
    "    \"\\n\\n\\tTrain\\t{:.4f}\\n\\tTEST\\t{:.4f}\"\n",
    "    .format(logit_lasso_train_acc, logit_lasso_test_acc)\n",
    ")\n",
    "\n",
    "# store test score to dict for later use\n",
    "q4_test_scores[\"logit_lasso\"] = logit_lasso_test_acc"
   ]
  },
  {
   "cell_type": "code",
   "execution_count": 61,
   "metadata": {
    "deletable": false,
    "editable": false
   },
   "outputs": [
    {
     "data": {
      "text/html": [
       "<p><strong><pre style='display: inline;'>q4.4</pre></strong> passed!</p>"
      ],
      "text/plain": [
       "q4.4 results: All test cases passed!"
      ]
     },
     "execution_count": 61,
     "metadata": {},
     "output_type": "execute_result"
    }
   ],
   "source": [
    "grader.check(\"q4.4\")"
   ]
  },
  {
   "cell_type": "markdown",
   "metadata": {
    "cell_id": "0a790850-87c6-4f46-b89e-048a2295c92b",
    "colab_type": "text",
    "id": "IGFtXJmQap2q"
   },
   "source": [
    "<div class='exercise-r'>\n",
    "\n",
    "**4.5** Which predictors were deemed important in `logit_lasso`?  Which were deemed unimportant? Please remember that, as a general practice, zero-value Lasso coefficients (i.e. $\\beta_i=0$) are considered \"unimportant\". Store your results in `predictors_important` and `predictors_not_important`.\n",
    " \n",
    "</div>\n",
    "\n",
    "_Points:_ 3"
   ]
  },
  {
   "cell_type": "code",
   "execution_count": 62,
   "metadata": {
    "tags": []
   },
   "outputs": [],
   "source": [
    "# your code here\n",
    "\n",
    "# Creating a dictionary with predictors and coefficients:\n",
    "coef_dict = {k:v for k,v in zip(X_train.columns, logit_lasso.coef_[0])}\n",
    "\n",
    "# Identifying coefficients >0 (ABSOLUTE VALUE)\n",
    "important_coefs = [i for i in coef_dict.values() if np.abs(i)>0]\n",
    "\n",
    "# Function to return important predictors:\n",
    "def get_predictor(val):\n",
    "    for key, value in coef_dict.items():\n",
    "        if val == value:\n",
    "            return key\n",
    " \n",
    "    return \"key doesn't exist\"\n",
    "\n",
    "\n",
    "\n",
    "predictors_important = [get_predictor(i) for i in important_coefs]    \n",
    "predictors_not_important = [i for i in X_train.columns if i not in predictors_important]"
   ]
  },
  {
   "cell_type": "code",
   "execution_count": 63,
   "metadata": {
    "tags": []
   },
   "outputs": [
    {
     "name": "stdout",
     "output_type": "stream",
     "text": [
      "The following predictors were deemed important by 'logit_lasso' (i.e. coef != 0):\n",
      "\n",
      "\t['test_score', 'ap', 'avg_ap', 'sat_subjects', 'gpa', 'female', 'minority', 'international', 'sports', 'early_app', 'alumni', 'harvard']\n",
      "\n",
      "\n",
      "While, the remaining were deemed unimportant (i.e. coef == 0):\n",
      "\n",
      "\t[]\n"
     ]
    }
   ],
   "source": [
    "# display results\n",
    "print(\n",
    "    \"The following predictors were deemed important by \"\n",
    "    \"'logit_lasso' (i.e. coef != 0):\\n\\n\\t{}\\n\\n\\n\"\n",
    "    \"While, the remaining were deemed unimportant (i.e. \"\n",
    "    \"coef == 0):\\n\\n\\t{}\"\n",
    "    .format(\n",
    "        predictors_important,\n",
    "        predictors_not_important,\n",
    "    )\n",
    ")"
   ]
  },
  {
   "cell_type": "code",
   "execution_count": 64,
   "metadata": {
    "deletable": false,
    "editable": false
   },
   "outputs": [
    {
     "data": {
      "text/html": [
       "<p><strong><pre style='display: inline;'>q4.5</pre></strong> passed!</p>"
      ],
      "text/plain": [
       "q4.5 results: All test cases passed!"
      ]
     },
     "execution_count": 64,
     "metadata": {},
     "output_type": "execute_result"
    }
   ],
   "source": [
    "grader.check(\"q4.5\")"
   ]
  },
  {
   "cell_type": "markdown",
   "metadata": {
    "cell_id": "0a790850-87c6-4f46-b89e-048a2295c92b",
    "colab_type": "text",
    "id": "IGFtXJmQap2q"
   },
   "source": [
    "<div class='exercise-r'>\n",
    "\n",
    "**Q4.6** Fit a well-tuned Lasso-like logistic regression model with all important predictors from `logit_lasso` and all the unique 2-way interactions between them (call it `lasso_interact`).  Again use `Cs = [1e-4, 1e-3, 1e-2, 1e-1, 1e0, 1e1, 1e2, 1e3, 1e4]` and 10-fold cross-validation with classification accuracy as the scoring metric. Record the accuracy on train and test for this model in `lasso_interact_train_acc` and `lasso_interact_test_acc`.\n",
    "\n",
    "</div>\n",
    "\n",
    "_Points:_ 4"
   ]
  },
  {
   "cell_type": "code",
   "execution_count": 65,
   "metadata": {
    "tags": []
   },
   "outputs": [],
   "source": [
    "# your code here\n",
    "X_train_imp = PolynomialFeatures(2, interaction_only=True, include_bias=False).fit_transform(X_train)\n",
    "X_test_imp = PolynomialFeatures(2, interaction_only=True, include_bias=False).fit_transform(X_test)"
   ]
  },
  {
   "cell_type": "code",
   "execution_count": 66,
   "metadata": {
    "scrolled": true,
    "tags": []
   },
   "outputs": [],
   "source": [
    "# your code here\n",
    "\n",
    "lasso_interact = LogisticRegressionCV(\n",
    "    Cs=Cs, cv=cv, penalty=penalty, solver='liblinear'\n",
    ").fit(X_train_imp, y_train)\n",
    "\n",
    "lasso_interact_train_acc = lasso_interact.score(X_train_imp, y_train)\n",
    "lasso_interact_test_acc = lasso_interact.score(X_test_imp, y_test)"
   ]
  },
  {
   "cell_type": "code",
   "execution_count": 67,
   "metadata": {
    "scrolled": true,
    "tags": []
   },
   "outputs": [
    {
     "name": "stdout",
     "output_type": "stream",
     "text": [
      "\n",
      "The classification accuracies for 'logit_lasso_interact' are:\n",
      "\n",
      "\tTrain\t0.7647\n",
      "\tTEST\t0.7040\n",
      "\n"
     ]
    }
   ],
   "source": [
    "print(\n",
    "    \"\\nThe classification accuracies for 'logit_lasso_interact' are:\"\n",
    "    \"\\n\\n\\tTrain\\t{:.4f}\\n\\tTEST\\t{:.4f}\\n\"\n",
    "    .format(lasso_interact_train_acc, lasso_interact_test_acc)\n",
    ")\n",
    "\n",
    "# store test score to dict for later use\n",
    "q4_test_scores[\"lasso_interact\"] = lasso_interact_test_acc"
   ]
  },
  {
   "cell_type": "markdown",
   "metadata": {
    "cell_id": "0a790850-87c6-4f46-b89e-048a2295c92b",
    "colab_type": "text",
    "id": "IGFtXJmQap2q"
   },
   "source": [
    "<div class='exercise-r'>\n",
    "\n",
    "**Q4.7** How many of the predictors in our `logit_lasso_interact` model were deemed important and unimportant? Store these numbers in `num_important_coefs` and `num_unimportant_coefs`. \n",
    "    \n",
    "</div>\n",
    "\n",
    "_Points:_ 2"
   ]
  },
  {
   "cell_type": "code",
   "execution_count": 68,
   "metadata": {
    "tags": []
   },
   "outputs": [],
   "source": [
    "# your code here\n",
    "\n",
    "num_important_coefs = np.sum(lasso_interact.coef_[0][1:]!=0)\n",
    "num_unimportant_coefs = np.sum(lasso_interact.coef_[0][1:]==0)"
   ]
  },
  {
   "cell_type": "code",
   "execution_count": 69,
   "metadata": {
    "tags": []
   },
   "outputs": [
    {
     "name": "stdout",
     "output_type": "stream",
     "text": [
      "Of the 77 predictors used in our 'logit_lasso_interact' model:\n",
      "\n",
      "\t59 predictors were deemed 'important' by our model\n",
      "\t18 predictors were deemed 'unimportant' with 0-valued coefficients\n"
     ]
    }
   ],
   "source": [
    "print(\n",
    "    \"Of the {} predictors used in our 'logit_lasso_interact' model:\"\n",
    "    \"\\n\\n\\t{} predictors were deemed 'important' by our model\"\n",
    "    \"\\n\\t{} predictors were deemed 'unimportant' with 0-valued \"\n",
    "    \"coefficients\".format(\n",
    "        num_important_coefs + num_unimportant_coefs,\n",
    "        num_important_coefs,\n",
    "        num_unimportant_coefs\n",
    "    )\n",
    ")"
   ]
  },
  {
   "cell_type": "markdown",
   "metadata": {},
   "source": [
    "---"
   ]
  },
  {
   "cell_type": "markdown",
   "metadata": {},
   "source": [
    "<a id=\"part5\"></a>\n",
    "\n",
    "## <div class='exercise'>Question 5: Evaluating results [12 pts]</div>\n",
    "\n",
    "[Return to contents](#contents)"
   ]
  },
  {
   "cell_type": "markdown",
   "metadata": {
    "cell_id": "0a790850-87c6-4f46-b89e-048a2295c92b",
    "colab_type": "text",
    "id": "IGFtXJmQap2q"
   },
   "source": [
    "<!-- BEGIN QUESTION -->\n",
    "\n",
    "<div class='exercise-r'>\n",
    "\n",
    "**Q5.1** Which of the 4 models in Question 4 performs the best based on classification accuracy?  Which performs the worst? Based on these accuracies, how do these models perform compared to your baseline \"naive\" model back in Question 1.1? What does this comparison to the \"naive\" model tell us?\n",
    "    \n",
    "</div>\n",
    "\n",
    "_Points:_ 2.5"
   ]
  },
  {
   "cell_type": "code",
   "execution_count": 70,
   "metadata": {},
   "outputs": [
    {
     "name": "stdout",
     "output_type": "stream",
     "text": [
      "The TEST accuracies for the 4 models in Q4 are:\n",
      "\n",
      "\tknn_model                0.7013\n",
      "\tlogit_full               0.7147\n",
      "\tlogit_lasso              0.7147\n",
      "\tlasso_interact           0.7040\n",
      "\n",
      "The TEST accuracy for our original baseline \"naive\" model was 0.7013\n"
     ]
    }
   ],
   "source": [
    "# your code here\n",
    "print(\"The TEST accuracies for the 4 models in Q4 are:\\n\")\n",
    "for key, value in q4_test_scores.items():\n",
    "    print(\"\\t{:<25}{:.4f}\".format(key, value))\n",
    "print(\n",
    "    \"\\nThe TEST accuracy for our original baseline \\\"naive\\\" \"\n",
    "    \"model was {:.4f}\".format(naive_test_acc)\n",
    ")"
   ]
  },
  {
   "cell_type": "markdown",
   "metadata": {},
   "source": [
    "The model that performs best based on classification accuracy is the logit model, whether it is `logit_full` or `logit_lasso` that both boast a classification accuracy of $0.7147$. The one that performs the worst is the `knn_model` with $0.7013$, it does not add any more value than the baseline accuracy which was also $0.7013$. This tells us that a \"naive\" classification is not that naive as the models may very well suffer from a certain level of bias in the data, and thus are unable to give us much more information. "
   ]
  },
  {
   "cell_type": "markdown",
   "metadata": {
    "cell_id": "0a790850-87c6-4f46-b89e-048a2295c92b",
    "colab_type": "text",
    "id": "IGFtXJmQap2q"
   },
   "source": [
    "<!-- END QUESTION -->\n",
    "\n",
    "<!-- BEGIN QUESTION -->\n",
    "\n",
    "<div class='exercise-r'>\n",
    "\n",
    "**Q5.2** Draw the four ROC curves on the same set of axes using the test data.  How do these ROC curves compare?  Do the ROC curves support that the best model identified in Question 5.1 is better than the worst model identified in 5.1?  How do you know?\n",
    "    \n",
    "</div>\n",
    "\n",
    "_Points:_ 4.5"
   ]
  },
  {
   "cell_type": "markdown",
   "metadata": {},
   "source": [
    "- All ROC curves are fairly similar, except for the KNN one. This is specific to how a KNN Classifier works, as the notion of probability is limited to the `best_k` we chose (21)\n",
    "\n",
    "- One may define the \"best ROC curves\" as those that display a combination of a high True Positive Rate and a low False positive rate, which means that stretch to the North-West corner of the plot. This is the case for the `logit_full` and `logit_lasso` models which had the best classification accuracies in the previous question"
   ]
  },
  {
   "cell_type": "code",
   "execution_count": 71,
   "metadata": {
    "tags": []
   },
   "outputs": [],
   "source": [
    "# your code here\n",
    "\n",
    "Cs = [1e-4,1e-3,1e-2,1e-1,1e0,1e1,1e2,1e3,1e4]\n",
    "cv = 10\n",
    "penalty = 'l1'\n",
    "solver = 'liblinear'\n",
    "\n",
    "# Scaling data\n",
    "original_predictors = ['test_score', \n",
    "                         'ap', 'avg_ap', 'sat_subjects', 'gpa',\t\n",
    "                         'sports', 'alumni', 'early_app', 'international', 'female', 'minority']\n",
    "\n",
    "non_binary  = ['test_score', 'ap', 'avg_ap', 'sat_subjects', 'gpa']\n",
    "binary = [i for i in original_predictors if i not in non_binary]\n",
    "X_train = college_train[non_binary]\n",
    "X_test = college_test[non_binary]\n",
    "\n",
    "scaler = StandardScaler()\n",
    "\n",
    "X_train = pd.DataFrame(scaler.fit_transform(X_train.values), columns=X_train.columns, index=X_train.index)\n",
    "X_test = pd.DataFrame(scaler.fit_transform(X_test.values), columns=X_test.columns, index=X_test.index)\n",
    "\n",
    "X_train = pd.concat([X_train,college_train[binary]],axis=1)\n",
    "X_test = pd.concat([X_test,college_test[binary]],axis=1)\n",
    "\n",
    "X_train_poly = PolynomialFeatures(2, interaction_only=True, include_bias=False).fit_transform(X_train)\n",
    "X_test_poly = PolynomialFeatures(2, interaction_only=True, include_bias=False).fit_transform(X_test)"
   ]
  },
  {
   "cell_type": "code",
   "execution_count": 72,
   "metadata": {
    "tags": []
   },
   "outputs": [],
   "source": [
    "# your code here\n",
    "# model 4_2\n",
    "\n",
    "knn = KNeighborsClassifier(9)\n",
    "knn.fit(X_train,y_train)\n",
    "\n",
    "y_hat_knn = knn.predict_proba(X_test)[:,1]\n",
    "\n",
    "# model 4_3\n",
    "logit_full=LogisticRegression(penalty='none', max_iter = 1000)\n",
    "logit_full.fit(X_train,y_train)\n",
    "y_hat_logit_full = logit_full.predict_proba(X_test)[:,1]\n",
    "\n",
    "# model 4_4\n",
    "logit_lasso = LogisticRegressionCV(Cs=Cs, cv=cv, penalty=penalty, solver='liblinear').fit(X_train, y_train)\n",
    "y_hat_logit_lasso = logit_lasso.predict_proba(X_test)[:,1]\n",
    "\n",
    "# model 4_6\n",
    "lasso_interact = LogisticRegressionCV(Cs=Cs, cv=cv, penalty=penalty, solver='liblinear').fit(X_train_poly, y_train)\n",
    "y_hat_lasso_interact = lasso_interact.predict_proba(X_test_poly)[:,1]\n",
    "\n",
    "fpr_knn, tpr_knn, thresholds_knn = roc_curve(y_test, y_hat_knn)\n",
    "fpr_logit_full, tpr_logit_full, thresholds_logit_full = roc_curve(y_test, y_hat_logit_full)\n",
    "fpr_logit_lasso, tpr_logit_lasso, thresholds_logit_lasso = roc_curve(y_test, y_hat_logit_lasso)\n",
    "fpr_lasso_interact, tpr_lasso_interact, thresholds_logit_lasso_interact = roc_curve(y_test, y_hat_lasso_interact)"
   ]
  },
  {
   "cell_type": "code",
   "execution_count": 73,
   "metadata": {
    "tags": []
   },
   "outputs": [
    {
     "data": {
      "image/png": "[encoded data removed]",
      "text/plain": [
       "<Figure size 720x576 with 1 Axes>"
      ]
     },
     "metadata": {
      "needs_background": "light"
     },
     "output_type": "display_data"
    }
   ],
   "source": [
    "# your code here\n",
    "\n",
    "x=np.arange(0,100)/100\n",
    "plt.figure(figsize=(10,8))\n",
    "plt.plot(x,x,'--',color=\"gray\",alpha=0.3)\n",
    "plt.plot(fpr_knn,tpr_knn,label=\"knn\")\n",
    "plt.plot(fpr_logit_full,tpr_logit_full,label=\"logit_full\")\n",
    "plt.plot(fpr_logit_lasso,tpr_logit_lasso,label=\"logit_lasso\")\n",
    "plt.plot(fpr_lasso_interact,tpr_lasso_interact,label=\"logit_lasso_interact\")\n",
    "plt.ylabel(\"True Positive Rate\")\n",
    "plt.xlabel(\"False Positive Rate\")\n",
    "plt.title(\"ROC Curve for predicting admission in various models\")\n",
    "plt.legend()\n",
    "plt.show()"
   ]
  },
  {
   "cell_type": "markdown",
   "metadata": {
    "cell_id": "0a790850-87c6-4f46-b89e-048a2295c92b",
    "colab_type": "text",
    "id": "IGFtXJmQap2q"
   },
   "source": [
    "<!-- END QUESTION -->\n",
    "\n",
    "<!-- BEGIN QUESTION -->\n",
    "\n",
    "<div class='exercise-r'>\n",
    "\n",
    "**5.3** Calculate the AUC for all 4 models and store these in `auc_list`. **The order of AUCs in the list should match the order of the model as they appear in `q4_test_scores`.**\n",
    "    \n",
    "Do the rankings of these 4 models based on AUC match those for classification accuracy?  Why do you think this is the case?\n",
    "    \n",
    "</div>\n",
    "\n",
    "_Points:_ 3"
   ]
  },
  {
   "cell_type": "markdown",
   "metadata": {},
   "source": [
    "We want AUC score to be as close to 1 as possible. Hence, the ranking of these 4 models based on AUC matches the one based off of accuracy.\n",
    "Accuracy determines the percentage of correct predictions made by a model. It is computed as a ratio of the number of true predictions with that of the total number of samples in the dataset.\n",
    "AUC captures the area under the ROC curve and compares the relationship between the TPR with that of the FPR across different cut-off thresholds. \n",
    "\n",
    "Both of these metrics are very popular in assessing how well a model is doing and comparing one model to another. Hence, there is no reason here as to why they may result in different orderings."
   ]
  },
  {
   "cell_type": "code",
   "execution_count": 74,
   "metadata": {
    "tags": []
   },
   "outputs": [],
   "source": [
    "# your code here\n",
    "# calculate each model's AUC using its ROC fpr and tpr\n",
    "\n",
    "auc_knn = roc_auc_score(y_test, y_hat_knn)\n",
    "auc_logit_full = roc_auc_score(y_test, y_hat_logit_full)\n",
    "auc_logit_lasso = roc_auc_score(y_test, y_hat_logit_lasso)\n",
    "auc_lasso_interact = roc_auc_score(y_test, y_hat_lasso_interact)\n",
    "\n",
    "auc_list = [auc_knn, auc_logit_full, auc_logit_lasso, auc_lasso_interact]\n",
    "    "
   ]
  },
  {
   "cell_type": "code",
   "execution_count": 75,
   "metadata": {
    "tags": []
   },
   "outputs": [
    {
     "name": "stdout",
     "output_type": "stream",
     "text": [
      "The TEST accuracies vs. AUC scores for the 4 models in Q4 are:\n",
      "\n",
      "\t\t\t\tAccuracy\tAUC\n",
      "\tknn_model               0.7013\t\t0.6077\n",
      "\tlogit_full              0.7147\t\t0.6908\n",
      "\tlogit_lasso             0.7147\t\t0.6908\n",
      "\tlasso_interact          0.7040\t\t0.6701\n"
     ]
    }
   ],
   "source": [
    "print(\n",
    "    \"The TEST accuracies vs. AUC scores for the 4 models in Q4 are:\"\n",
    "    \"\\n\\n\\t\\t\\t\\tAccuracy\\tAUC\"\n",
    ")\n",
    "for (key, value), auc_value in zip(q4_test_scores.items(), auc_list):\n",
    "    print(\"\\t{:<24}{:.4f}\\t\\t{:.4f}\".format(key, value, auc_value))"
   ]
  },
  {
   "cell_type": "code",
   "execution_count": 76,
   "metadata": {
    "deletable": false,
    "editable": false
   },
   "outputs": [
    {
     "data": {
      "text/html": [
       "<p><strong><pre style='display: inline;'>q5.3</pre></strong> passed!</p>"
      ],
      "text/plain": [
       "q5.3 results: All test cases passed!"
      ]
     },
     "execution_count": 76,
     "metadata": {},
     "output_type": "execute_result"
    }
   ],
   "source": [
    "grader.check(\"q5.3\")"
   ]
  },
  {
   "cell_type": "markdown",
   "metadata": {
    "cell_id": "0a790850-87c6-4f46-b89e-048a2295c92b",
    "colab_type": "text",
    "id": "IGFtXJmQap2q"
   },
   "source": [
    "<!-- END QUESTION -->\n",
    "\n",
    "<!-- BEGIN QUESTION -->\n",
    "\n",
    "<div class='exercise-r'>\n",
    "\n",
    "**Q5.4** If you were to use one of these 4 models to present as a prediction model for the website [collegedata.com](https://www.collegedata.com/), which would you use and why?  What may be the biggest issue if this was a publicly available tool for college applicants to use to determine their chances of getting into Harvard and/or Yale?\n",
    "    \n",
    "</div>\n",
    "\n",
    "_Points:_ 2"
   ]
  },
  {
   "cell_type": "markdown",
   "metadata": {},
   "source": [
    "AUC is the preferred metric for evaluating model predictions because of its capacity in handling bias in binary classification problems. We have seen on multiple occasions that our dataset suffers from a certain level of bias. With that in mind, one may choose the model that performs the best in regard to this metric: `logit_full`.\n",
    "\n",
    "One may need to further consider making this a publicly available tool for college applicants. Recall that there is still a margin of error. This may give \"false hopes\" to some students, whilst inversely discouraging others who indeed have strong chances of being admitted but were predicted a rejection. "
   ]
  },
  {
   "cell_type": "markdown",
   "metadata": {},
   "source": [
    "<!-- END QUESTION -->\n",
    "\n",
    "**This concludes HW5. Thank you!**\n",
    "\n",
    "[Return to contents](#contents)"
   ]
  }
 ],
 "metadata": {
  "interpreter": {
   "hash": "aee8b7b246df8f9039afb4144a1f6fd8d2ca17a180786b69acc140d282b71a49"
  },
  "kernelspec": {
   "display_name": "Python 3 (ipykernel)",
   "language": "python",
   "name": "python3"
  },
  "language_info": {
   "codemirror_mode": {
    "name": "ipython",
    "version": 3
   },
   "file_extension": ".py",
   "mimetype": "text/x-python",
   "name": "python",
   "nbconvert_exporter": "python",
   "pygments_lexer": "ipython3",
   "version": "3.9.12"
  },
  "otter": {
   "OK_FORMAT": true,
   "tests": {
    "q1.1": {
     "name": "q1.1",
     "points": 2.5,
     "suites": [
      {
       "cases": [
        {
         "code": ">>> to_test =  [prop_admitted_train, naive_train_acc, naive_test_acc]\n>>> for var in to_test:\n...     assert isinstance(prop_admitted_train, (float, np.float_)),\\\n...     \"all requested variables should be a floats\"\n...     assert var >= 0 and var <= 1,\\\n...     \"all requested variables should be in the range [0,1]\"\n",
         "hidden": false,
         "locked": false
        }
       ],
       "scored": true,
       "setup": "",
       "teardown": "",
       "type": "doctest"
      }
     ]
    },
    "q1.2": {
     "name": "q1.2",
     "points": 3,
     "suites": [
      {
       "cases": [
        {
         "code": ">>> assert 'harvard' in X_train.columns, \"'harvard' should be a new column in your train dataframe\"\n>>> assert 'harvard' in X_test.columns, \"'harvard' should be a new column in your test dataframe\"\n>>> assert set(X_train.harvard.unique()) == {0,1},\\\n...     \"'harvard' predictor in train should be zeros and ones\"\n>>> assert set(X_test.harvard.unique()) == {0,1},\\\n...     \"'harvard' predictor in test should be zeros and ones\"\n",
         "hidden": false,
         "locked": false,
         "points": 0
        }
       ],
       "scored": true,
       "setup": "",
       "teardown": "",
       "type": "doctest"
      }
     ]
    },
    "q1.4": {
     "name": "q1.4",
     "points": 4,
     "suites": [
      {
       "cases": [
        {
         "code": ">>> assert type(logit1_4) == type(LogisticRegression()),\\\n...     \"logit1_4 should be am sklearn LogisticRegression object\"\n>>> assert p_harvard > 0.24 and p_harvard < 0.28, \"p_harvard should be between 0.24 and 0.28\"\n>>> assert p_yale > 0.24 and p_yale < 0.28, \"p_yale should be between 0.24 and 0.28\"\n",
         "hidden": false,
         "locked": false,
         "points": 1
        },
        {
         "code": ">>> # HIDDEN\n>>> assert np.isclose(p_harvard, 0.2768, atol=0.0001), \"Incorrect value for p_harvard\"\n>>> assert np.isclose(p_yale, 0.2472, atol=0.0001), \"Incorrect value for p_yale\"\n",
         "hidden": false,
         "locked": false,
         "points": 1
        }
       ],
       "scored": true,
       "setup": "",
       "teardown": "",
       "type": "doctest"
      }
     ]
    },
    "q2.1": {
     "name": "q2.1",
     "points": 3,
     "suites": [
      {
       "cases": [
        {
         "code": ">>> assert logit2_1_intercept >= -10 and logit2_1_intercept <= 10,\\\n...     \"logit2_1_beta0 should be a float between -10 and 10\"\n>>> assert logit2_1_coef_test >= -1 and logit2_1_coef_test <= 1,\\\n...     \"logit2_1_beta1 should be a float between -1 and 1\"\n>>> assert acc_train_logit2_1 > 0.7 and acc_train_logit2_1 < 0.8,\\\n...     \"acc_train_logit2_1 should be a float between 0.7 and 0.8\"\n>>> assert acc_test_logit2_1 > 0.7 and acc_train_logit2_1 < 0.8,\\\n...     \"acc_train_logit2_1 should be a float between 0.7 and 0.8\"\n",
         "hidden": false,
         "locked": false,
         "points": 1
        }
       ],
       "scored": true,
       "setup": "",
       "teardown": "",
       "type": "doctest"
      }
     ]
    },
    "q2.2": {
     "name": "q2.2",
     "points": 4,
     "suites": [
      {
       "cases": [
        {
         "code": ">>> assert prob_test_2250 >= 0.25 and prob_test_2250 <= 0.5,\\\n...     \"prob_test_2250 should be a float between 0.25 and 0.5\"\n>>> assert prob_test_2400 >= 0.25 and prob_test_2250 <= 0.5,\\\n...     \"prob_test_2400 should be a float between 0.25 and 0.5\"\n>>> assert test_50_50 > 2200,\\\n...     \"test_50_50 should be a float greater than 2200\"\n",
         "hidden": false,
         "locked": false,
         "points": 1
        }
       ],
       "scored": true,
       "setup": "",
       "teardown": "",
       "type": "doctest"
      }
     ]
    },
    "q2.3": {
     "name": "q2.3",
     "points": 3,
     "suites": [
      {
       "cases": [
        {
         "code": ">>> assert logit2_3_intercept >= -1 and logit2_3_intercept <= 1,\\\n...     \"logit2_3_intercept should be a float between -10 and 10\"\n>>> assert logit2_3_coef_test >= -1 and logit2_3_coef_test <= 1,\\\n...     \"logit2_3_coef_test should be a float between -1 and 1\"\n>>> assert logit2_3_coef_avg_ap >= -1 and logit2_3_coef_avg_ap <= 1,\\\n...     \"logit2_3_coef_avg_ap should be a float between -1 and 1\"\n>>> assert acc_train_logit2_3 > 0.7 and acc_train_logit2_3 < 0.8,\\\n...     \"acc_train_logit2_3 should be a float between 0.7 and 0.8\"\n>>> assert acc_test_logit2_3 > 0.7 and acc_train_logit2_3 < 0.8,\\\n...     \"acc_train_logit2_3 should be a float between 0.7 and 0.8\"\n",
         "hidden": false,
         "locked": false,
         "points": 1
        }
       ],
       "scored": true,
       "setup": "",
       "teardown": "",
       "type": "doctest"
      }
     ]
    },
    "q3.1": {
     "name": "q3.1",
     "points": 4,
     "suites": [
      {
       "cases": [
        {
         "code": ">>> assert acc_train_logit3_1 > 0.68 and acc_train_logit3_1 < 0.78,\\\n...     \"acc_train_logit3_1 should be a float between 0.68 and 0.78\"\n>>> assert acc_test_logit3_1 > 0.68 and acc_train_logit3_1 < 0.78,\\\n...     \"acc_train_logit3_1 should be a float between 0.68 and 0.78\"\n",
         "hidden": false,
         "locked": false,
         "points": 1
        }
       ],
       "scored": true,
       "setup": "",
       "teardown": "",
       "type": "doctest"
      }
     ]
    },
    "q3.2": {
     "name": "q3.2",
     "points": 3,
     "suites": [
      {
       "cases": [
        {
         "code": ">>> assert len(logit3_2_coefs) == 5,\\\n...     \"logit3_2 should have 5 coefficients (not including the intercept)\"\n",
         "hidden": false,
         "locked": false,
         "points": 1
        }
       ],
       "scored": true,
       "setup": "",
       "teardown": "",
       "type": "doctest"
      }
     ]
    },
    "q3.6": {
     "name": "q3.6",
     "points": 3,
     "suites": [
      {
       "cases": [
        {
         "code": ">>> assert len(logit3_6.coef_.flatten()) == 6,\\\n...     \"logit3_6 should have 6 coefficients (not including the intercept)\"\n",
         "hidden": false,
         "locked": false,
         "points": 1
        }
       ],
       "scored": true,
       "setup": "",
       "teardown": "",
       "type": "doctest"
      }
     ]
    },
    "q4.1": {
     "name": "q4.1",
     "points": 4,
     "suites": [
      {
       "cases": [
        {
         "code": ">>> assert np.isclose(X_train[non_binary_predictors].values.mean(), 0),\\\n...     \"Non-binary predictors in train should now have mean 0\"\n>>> assert np.isclose(X_test[non_binary_predictors].values.mean(), 0, atol=0.1),\\\n...     \"Non-binary predictors in test should now have mean near 0\"\n>>> assert np.isclose(X_train[non_binary_predictors].values.std(), 1),\\\n...     \"Non-binary predictors in train should now have std 1\"\n>>> assert np.isclose(X_test[non_binary_predictors].values.std(), 1, atol=0.1),\\\n...     \"Non-binary predictors in test should now have std near 1\"\n>>> assert set(X_train['harvard'].unique()) == {0,1},\\\n...     \"You should not scale the binary predictors.\"\n",
         "hidden": false,
         "locked": false
        }
       ],
       "scored": true,
       "setup": "",
       "teardown": "",
       "type": "doctest"
      }
     ]
    },
    "q4.3": {
     "name": "q4.3",
     "points": 3,
     "suites": [
      {
       "cases": [
        {
         "code": ">>> assert logit_full_train_acc > 0.68 and logit_full_train_acc < 0.78,\\\n...     \"logit_full_train_acc should be a float between 0.68 and 0.78\"\n>>> assert logit_full_test_acc > 0.68 and logit_full_test_acc < 0.78,\\\n...     \"logit_full_test_acc should be a float between 0.68 and 0.78\"\n",
         "hidden": false,
         "locked": false,
         "points": 1
        }
       ],
       "scored": true,
       "setup": "",
       "teardown": "",
       "type": "doctest"
      }
     ]
    },
    "q4.4": {
     "name": "q4.4",
     "points": 4,
     "suites": [
      {
       "cases": [
        {
         "code": ">>> assert logit_lasso_train_acc > 0.68 and logit_lasso_train_acc < 0.78,\\\n...     \"logit_lasso_train_acc should be a float between 0.68 and 0.78\"\n>>> assert logit_lasso_test_acc > 0.68 and logit_lasso_test_acc < 0.78,\\\n...     \"logit_lasso_test_acc should be a float between 0.68 and 0.78\"\n",
         "hidden": false,
         "locked": false,
         "points": 1
        }
       ],
       "scored": true,
       "setup": "",
       "teardown": "",
       "type": "doctest"
      }
     ]
    },
    "q4.5": {
     "name": "q4.5",
     "points": 3,
     "suites": [
      {
       "cases": [
        {
         "code": ">>> assert len(predictors_important) >= 6,\\\n...     \"You should have more important predictors\"\n>>> assert len(predictors_not_important) <= 6,\\\n...     \"You should have fewer non-important predictors\"\n",
         "hidden": false,
         "locked": false,
         "points": 1
        }
       ],
       "scored": true,
       "setup": "",
       "teardown": "",
       "type": "doctest"
      }
     ]
    },
    "q4.7": {
     "name": "q4.7",
     "points": 2,
     "suites": [
      {
       "cases": [],
       "scored": true,
       "setup": "",
       "teardown": "",
       "type": "doctest"
      }
     ]
    },
    "q5.3": {
     "name": "q5.3",
     "points": 3,
     "suites": [
      {
       "cases": [
        {
         "code": ">>> assert len(auc_list) == 4,\\\n...     \"You should have 4 entries in auc_list\"\n",
         "hidden": false,
         "locked": false,
         "points": 0
        }
       ],
       "scored": true,
       "setup": "",
       "teardown": "",
       "type": "doctest"
      }
     ]
    }
   }
  }
 },
 "nbformat": 4,
 "nbformat_minor": 4
}
