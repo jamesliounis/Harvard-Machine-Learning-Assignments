{
 "cells": [
  {
   "cell_type": "code",
   "execution_count": 1,
   "metadata": {
    "deletable": false,
    "editable": false
   },
   "outputs": [],
   "source": [
    "# Initialize Otter\n",
    "import otter\n",
    "grader = otter.Notebook(\"ac209a_hw3.ipynb\")"
   ]
  },
  {
   "cell_type": "markdown",
   "metadata": {
    "tags": []
   },
   "source": [
    "# <img style=\"float: left; padding-right: 10px; width: 45px\" src=\"https://raw.githubusercontent.com/Harvard-IACS/2018-CS109A/master/content/styles/iacs.png\"> CS109A Introduction to Data Science\n",
    "\n",
    "## Homework 3  AC209 : Linear Algebra, Accuracy, and Confidence Intervals\n",
    "\n",
    "\n",
    "**Harvard University**<br/>\n",
    "**Fall 2022**<br/>\n",
    "**Instructors**: Pavlos Protopapas and Natesh Pillai\n",
    "\n",
    "<hr style=\"height:2pt\">\n"
   ]
  },
  {
   "cell_type": "code",
   "execution_count": 2,
   "metadata": {},
   "outputs": [
    {
     "data": {
      "text/html": [
       "<style>\n",
       "blockquote { background: #AEDE94; }\n",
       "h1 {\n",
       "    padding-top: 25px;\n",
       "    padding-bottom: 25px;\n",
       "    text-align: left;\n",
       "    padding-left: 10px;\n",
       "    background-color: #63ACBE;\n",
       "    color: black;\n",
       "}\n",
       "h2 {\n",
       "    padding-top: 10px;\n",
       "    padding-bottom: 10px;\n",
       "    text-align: left;\n",
       "    padding-left: 5px;\n",
       "    background-color: #EEEEEE;\n",
       "    color: black;\n",
       "}\n",
       "\n",
       "div.exercise {\n",
       "\tbackground-color: #f8b4ab;\n",
       "\tborder-color: #E9967A;\n",
       "\tborder-left: 5px solid #601A4A;\n",
       "\tpadding: 0.5em;\n",
       "}\n",
       "\n",
       "div.exercise-r {\n",
       "\tbackground-color: #ffd0d0;\n",
       "\tborder-color: #E9967A;\n",
       "\tborder-left: 5px solid #601A4A;\n",
       "\tpadding: 0.5em;\n",
       "}\n",
       "\n",
       "\n",
       "span.sub-q {\n",
       "\tfont-weight: bold;\n",
       "}\n",
       "div.theme {\n",
       "\tbackground-color: #63ACBE;\n",
       "\tborder-color: #E9967A;\n",
       "\tborder-left: 5px solid #601A4A;\n",
       "\tpadding: 0.5em;\n",
       "\tfont-size: 18pt;\n",
       "}\n",
       "div.gc {\n",
       "\tbackground-color: #AEDE94;\n",
       "\tborder-color: #E9967A;\n",
       "\tborder-left: 5px solid #601A4A;\n",
       "\tpadding: 0.5em;\n",
       "\tfont-size: 12pt;\n",
       "}\n",
       "p.q1 {\n",
       "    padding-top: 5px;\n",
       "    padding-bottom: 5px;\n",
       "    text-align: left;\n",
       "    padding-left: 5px;\n",
       "    background-color: #EEEEEE;\n",
       "    color: black;\n",
       "}\n",
       "header {\n",
       "   padding-top: 35px;\n",
       "    padding-bottom: 35px;\n",
       "    text-align: left;\n",
       "    padding-left: 10px;\n",
       "    background-color: #DDDDDD;\n",
       "    color: black;\n",
       "}\n",
       "span.emph {\n",
       "\tcolor: #601A4A;\n",
       "\tfont-weight: bold;\n",
       "}\n",
       "\n",
       "</style>\n"
      ],
      "text/plain": [
       "<IPython.core.display.HTML object>"
      ]
     },
     "execution_count": 2,
     "metadata": {},
     "output_type": "execute_result"
    }
   ],
   "source": [
    "# RUN THIS CELL \n",
    "import requests\n",
    "from IPython.core.display import HTML\n",
    "styles = requests.get(\n",
    "    \"https://raw.githubusercontent.com/Harvard-IACS/2021-CS109A/master/\"\n",
    "    \"themes/static/css/cs109.css\"\n",
    ").text\n",
    "HTML(styles)"
   ]
  },
  {
   "cell_type": "markdown",
   "metadata": {},
   "source": [
    "#### Instructions\n",
    "- To submit your assignment follow the instructions given in Canvas.\n",
    "- Plots should be legible and interpretable without having to refer to the code that generated them, including labels for the $x$- and $y$-axes as well as a descriptive title and/or legend when appropriate.\n",
    "- When asked to interpret a visualization, do not simply describe it (e.g., \"the curve has a steep slope up\"), but instead explain what you think the plot *means*.\n",
    "- The use of 'hard-coded' values to try and pass tests rather than solving problems programmatically will not receive credit.\n",
    "- The use of *extremely* inefficient or error-prone code (e.g., copy-pasting nearly identical commands rather than looping) may result in only partial credit.\n",
    "- We have tried to include all the libraries you may need to do the assignment in the imports cell provided below. Please get course staff approval before importing any additional 3rd party libraries.\n",
    "- Enable scrolling output on cells with very long output.\n",
    "- Feel free to add additional code or markdown cells as needed.\n",
    "- Ensure your code runs top to bottom without error and passes all tests by restarting the kernel and running all cells. This is how the notebook will be evaluated (note that this can take a few minutes). \n",
    "- **The notebook you submit must be run in order with all output visible**"
   ]
  },
  {
   "cell_type": "markdown",
   "metadata": {},
   "source": [
    "### IMPORTS"
   ]
  },
  {
   "cell_type": "code",
   "execution_count": 3,
   "metadata": {
    "scrolled": true
   },
   "outputs": [],
   "source": [
    "import numpy as np\n",
    "import pandas as pd\n",
    "import matplotlib\n",
    "import matplotlib.pyplot as plt\n",
    "from sklearn.metrics import r2_score\n",
    "from sklearn.neighbors import KNeighborsRegressor\n",
    "from sklearn.linear_model import LinearRegression\n",
    "from sklearn.model_selection import train_test_split\n",
    "import statsmodels.api as sm\n",
    "from statsmodels.api import OLS\n",
    "%matplotlib inline"
   ]
  },
  {
   "cell_type": "markdown",
   "metadata": {},
   "source": [
    "**The data for this assignment are imported for you in the cells below.**"
   ]
  },
  {
   "cell_type": "code",
   "execution_count": 4,
   "metadata": {},
   "outputs": [
    {
     "data": {
      "text/html": [
       "<div>\n",
       "<style scoped>\n",
       "    .dataframe tbody tr th:only-of-type {\n",
       "        vertical-align: middle;\n",
       "    }\n",
       "\n",
       "    .dataframe tbody tr th {\n",
       "        vertical-align: top;\n",
       "    }\n",
       "\n",
       "    .dataframe thead th {\n",
       "        text-align: right;\n",
       "    }\n",
       "</style>\n",
       "<table border=\"1\" class=\"dataframe\">\n",
       "  <thead>\n",
       "    <tr style=\"text-align: right;\">\n",
       "      <th></th>\n",
       "      <th>name</th>\n",
       "      <th>mpg</th>\n",
       "      <th>cyl</th>\n",
       "      <th>disp</th>\n",
       "      <th>hp</th>\n",
       "      <th>drat</th>\n",
       "      <th>wt</th>\n",
       "      <th>qsec</th>\n",
       "      <th>vs</th>\n",
       "      <th>am</th>\n",
       "      <th>gear</th>\n",
       "      <th>carb</th>\n",
       "    </tr>\n",
       "  </thead>\n",
       "  <tbody>\n",
       "    <tr>\n",
       "      <th>0</th>\n",
       "      <td>Mazda RX4</td>\n",
       "      <td>21.0</td>\n",
       "      <td>6</td>\n",
       "      <td>160.0</td>\n",
       "      <td>110</td>\n",
       "      <td>3.90</td>\n",
       "      <td>2.620</td>\n",
       "      <td>16.46</td>\n",
       "      <td>0</td>\n",
       "      <td>1</td>\n",
       "      <td>4</td>\n",
       "      <td>4</td>\n",
       "    </tr>\n",
       "    <tr>\n",
       "      <th>1</th>\n",
       "      <td>Mazda RX4 Wag</td>\n",
       "      <td>21.0</td>\n",
       "      <td>6</td>\n",
       "      <td>160.0</td>\n",
       "      <td>110</td>\n",
       "      <td>3.90</td>\n",
       "      <td>2.875</td>\n",
       "      <td>17.02</td>\n",
       "      <td>0</td>\n",
       "      <td>1</td>\n",
       "      <td>4</td>\n",
       "      <td>4</td>\n",
       "    </tr>\n",
       "    <tr>\n",
       "      <th>2</th>\n",
       "      <td>Datsun 710</td>\n",
       "      <td>22.8</td>\n",
       "      <td>4</td>\n",
       "      <td>108.0</td>\n",
       "      <td>93</td>\n",
       "      <td>3.85</td>\n",
       "      <td>2.320</td>\n",
       "      <td>18.61</td>\n",
       "      <td>1</td>\n",
       "      <td>1</td>\n",
       "      <td>4</td>\n",
       "      <td>1</td>\n",
       "    </tr>\n",
       "    <tr>\n",
       "      <th>3</th>\n",
       "      <td>Hornet 4 Drive</td>\n",
       "      <td>21.4</td>\n",
       "      <td>6</td>\n",
       "      <td>258.0</td>\n",
       "      <td>110</td>\n",
       "      <td>3.08</td>\n",
       "      <td>3.215</td>\n",
       "      <td>19.44</td>\n",
       "      <td>1</td>\n",
       "      <td>0</td>\n",
       "      <td>3</td>\n",
       "      <td>1</td>\n",
       "    </tr>\n",
       "    <tr>\n",
       "      <th>4</th>\n",
       "      <td>Hornet Sportabout</td>\n",
       "      <td>18.7</td>\n",
       "      <td>8</td>\n",
       "      <td>360.0</td>\n",
       "      <td>175</td>\n",
       "      <td>3.15</td>\n",
       "      <td>3.440</td>\n",
       "      <td>17.02</td>\n",
       "      <td>0</td>\n",
       "      <td>0</td>\n",
       "      <td>3</td>\n",
       "      <td>2</td>\n",
       "    </tr>\n",
       "  </tbody>\n",
       "</table>\n",
       "</div>"
      ],
      "text/plain": [
       "                name   mpg  cyl   disp   hp  drat     wt   qsec  vs  am  gear  \\\n",
       "0          Mazda RX4  21.0    6  160.0  110  3.90  2.620  16.46   0   1     4   \n",
       "1      Mazda RX4 Wag  21.0    6  160.0  110  3.90  2.875  17.02   0   1     4   \n",
       "2         Datsun 710  22.8    4  108.0   93  3.85  2.320  18.61   1   1     4   \n",
       "3     Hornet 4 Drive  21.4    6  258.0  110  3.08  3.215  19.44   1   0     3   \n",
       "4  Hornet Sportabout  18.7    8  360.0  175  3.15  3.440  17.02   0   0     3   \n",
       "\n",
       "   carb  \n",
       "0     4  \n",
       "1     4  \n",
       "2     1  \n",
       "3     1  \n",
       "4     2  "
      ]
     },
     "execution_count": 4,
     "metadata": {},
     "output_type": "execute_result"
    }
   ],
   "source": [
    "df = pd.read_csv(\"/Users/jamesliounis/Desktop/data/cleaned_mtcars.csv\")\n",
    "df.head()"
   ]
  },
  {
   "cell_type": "code",
   "execution_count": 5,
   "metadata": {},
   "outputs": [],
   "source": [
    "%%capture --no-stdout --no-display\n",
    "# Jupyter magic to silence pandas concat `FutureWarning` caused\n",
    "# by statsmodels internals for add_constant. The assumption\n",
    "# is that statsmodels will fix add_constant in a future release\n",
    "# to conform to pandas requirements and prevent errors.\n",
    "\n",
    "y = df[[\"mpg\"]].values\n",
    "X = df[[\"cyl\",\"disp\",\"hp\",\"wt\",\"qsec\"]]\n",
    "\n",
    "X = sm.add_constant(X)"
   ]
  },
  {
   "cell_type": "markdown",
   "metadata": {},
   "source": [
    "<hr style=\"height:2pt\">\n",
    "\n",
    "## Linear Algebra, Accuracy, and Confidence Intervals\n",
    "\n",
    "In this homework, you will see how *uncertainty* in the $\\beta$ coefficients can directly impact our ability to make predictions with a linear regression model and how in general we can do inference on the predictors. "
   ]
  },
  {
   "cell_type": "markdown",
   "metadata": {},
   "source": [
    "### First a little review...\n",
    "\n",
    "The linear model assumes:\n",
    "\n",
    "$$ y_i \\sim N(\\beta_0+\\beta_1 x_i,\\sigma^2 )   $$\n",
    "\n",
    "This means, pun intended, that $ \\mu_{y_i} = \\beta_0+\\beta_1 x_i $, which can be estimated with $ \\hat{\\mu}_{y_i} = \\hat{\\beta}_0+\\hat{\\beta}_1 x_i $.\n",
    "\n",
    "And for a new observation not in the data set, once we measure the new predictor value, $x^*$, we can predict its response, $y^*$, from our model as:\n",
    "\n",
    "$$\\hat{y}^* = \\hat{\\mu}_{y_i} + \\hat{\\varepsilon}^* $$\n",
    "\n",
    "Which can be calculated by using the estimate for $\\hat{\\mu}_{y_i}$ and adding on a randomly selected value for $\\hat{\\varepsilon}^*$ from its assumed (and estimated) distribution, $N(0,\\hat{\\sigma}^2)$.\n"
   ]
  },
  {
   "cell_type": "markdown",
   "metadata": {
    "tags": []
   },
   "source": [
    "## <div class='exercise'>Question 1 [20 pts]</div>"
   ]
  },
  {
   "cell_type": "markdown",
   "metadata": {},
   "source": [
    "<!-- BEGIN QUESTION -->\n",
    "\n",
    "<div class='exercise'><b>Q1.1</b></div>"
   ]
  },
  {
   "cell_type": "markdown",
   "metadata": {
    "tags": []
   },
   "source": [
    "Fit a simple linear regression model to predict `mpg` with `disp` using [OLS](https://www.statsmodels.org/dev/examples/notebooks/generated/ols.html) from `statsmodels.api` which will calculate confidence intervals (and other useful statistics) for you. Call your model `simple_model` and fit on the entire dataset.\n",
    "\n",
    "Be aware that (1) unlike sklearn's LinearRegression, statsmodels does **not** add an intercept by default and (2) the expected order of arguments to `fit()` is flipped: $y$ first, then $X$. You can use `sm.add_constant()` to add the ones column (we did this for you above). As always, be sure to consult the [documentation](https://www.statsmodels.org/dev/index.html).\n",
    "\n",
    "_Points:_ 1"
   ]
  },
  {
   "cell_type": "code",
   "execution_count": 6,
   "metadata": {
    "tags": []
   },
   "outputs": [
    {
     "data": {
      "text/plain": [
       "disp     -0.041215\n",
       "const    29.599855\n",
       "dtype: float64"
      ]
     },
     "execution_count": 6,
     "metadata": {},
     "output_type": "execute_result"
    }
   ],
   "source": [
    "simple_model = OLS(y, X[[\"disp\", \"const\"]]).fit()\n",
    "simple_model.params"
   ]
  },
  {
   "cell_type": "code",
   "execution_count": 7,
   "metadata": {
    "deletable": false,
    "editable": false
   },
   "outputs": [
    {
     "data": {
      "text/html": [
       "<p><strong><pre style='display: inline;'>q1.1</pre></strong> passed!</p>"
      ],
      "text/plain": [
       "q1.1 results: All test cases passed!"
      ]
     },
     "execution_count": 7,
     "metadata": {},
     "output_type": "execute_result"
    }
   ],
   "source": [
    "grader.check(\"q1.1\")"
   ]
  },
  {
   "cell_type": "markdown",
   "metadata": {},
   "source": [
    "<!-- BEGIN QUESTION -->\n",
    "\n",
    "<!-- BEGIN QUESTION -->\n",
    "\n",
    "<div class='exercise'><b>Q1.2</b></div>"
   ]
  },
  {
   "cell_type": "markdown",
   "metadata": {
    "tags": []
   },
   "source": [
    "Once you've fit the model you can can call `simple_model.get_prediction().summary_frame()` to access the confidence intervals for our true mean predictions at various values of `disp` and make a well-labeled plot showing:\n",
    "\n",
    " 1. The observed values of `disp` and `mpg`.\n",
    " 2. The estimated regression line.\n",
    " 3. The upper and lower bounds of the 95% confidence interval for the true average (not the observed) `mpg` at any given displacement.\n",
    "\n",
    "_Points:_ 2"
   ]
  },
  {
   "cell_type": "code",
   "execution_count": 8,
   "metadata": {
    "tags": []
   },
   "outputs": [
    {
     "data": {
      "image/png": "[encoded data removed]",
      "text/plain": [
       "<Figure size 432x288 with 1 Axes>"
      ]
     },
     "metadata": {
      "needs_background": "light"
     },
     "output_type": "display_data"
    }
   ],
   "source": [
    "# Plotting the values that we observe:\n",
    "plt.scatter(df[\"disp\"], df[\"mpg\"], label=\"Observed Values\");\n",
    "\n",
    "# Plotting the regression curve:\n",
    "\n",
    "# Defining the regression function using lambda that takes a variable x,\n",
    "# multiplies it with the models coefficients and adds an intercept\n",
    "regression_ = lambda x : simple_model.params[\"disp\"] * x + simple_model.params[\"const\"]\n",
    "\n",
    "# Creating some data to plot off\n",
    "x_s = np.linspace(df[\"disp\"].min(), df[\"disp\"].max(), len(df))\n",
    "plt.plot(x_s, regression_(x_s), label=\"OLS Regression Line\", c=\"r\")\n",
    "\n",
    "# Creating our confidence intervals:\n",
    "summary = simple_model.get_prediction().summary_frame() # Using function given to us\n",
    "confidence_interval = df[[\"mpg\",\"disp\"]].join(summary[[\"mean_ci_lower\", \"mean_ci_upper\"]]).sort_values(\"disp\")\n",
    "plt.fill_between(confidence_interval[\"disp\"], y1=confidence_interval[\"mean_ci_lower\"], y2=confidence_interval[\"mean_ci_upper\"], alpha = 0.5, label=\"95% Confidence Interval\")\n",
    "\n",
    "\n",
    "\n",
    "plt.legend();\n",
    "plt.xlabel(\"Displacement\");\n",
    "plt.ylabel(\"MPG\");\n",
    "plt.suptitle(\"MPG as a function of Displacement\");"
   ]
  },
  {
   "cell_type": "markdown",
   "metadata": {},
   "source": [
    "<!-- END QUESTION -->\n",
    "\n",
    "<!-- BEGIN QUESTION -->\n",
    "\n",
    "<!-- BEGIN QUESTION -->\n",
    "\n",
    "<div class='exercise'><b>Q1.3</b></div>"
   ]
  },
  {
   "cell_type": "markdown",
   "metadata": {},
   "source": [
    "Why do we have a confidence interval for our true mean prediction values?  Why isn't the mean prediction just a single number?\n",
    "\n",
    "_Points:_ 3"
   ]
  },
  {
   "cell_type": "markdown",
   "metadata": {},
   "source": [
    "One may stress here that all predictions are accompanied by a certain degree of uncertainty. This is why when we defined our regression equation we introduced an error term. \n",
    "\n",
    "It is useful to recall here the definition of a confidence interval: sampling many times and computing a confidence interval for the true mean in each sample enables us to say with confidence that 95% of those intervals include the true value of the population mean. This reasoning is more accurate, and more reliable than a single prediction which could contain a significant error margin. "
   ]
  },
  {
   "cell_type": "markdown",
   "metadata": {},
   "source": [
    "<!-- END QUESTION -->\n",
    "\n",
    "<!-- BEGIN QUESTION -->\n",
    "\n",
    "<!-- BEGIN QUESTION -->\n",
    "\n",
    "<div class='exercise'><b>Q1.4</b></div>"
   ]
  },
  {
   "cell_type": "markdown",
   "metadata": {},
   "source": [
    "Someone asks what *mean* `mpg` you would predict for a `disp` value of 400. What do you tell them?\n",
    "\n",
    "How might your answer change if this person said they aren't only concerned about the mean `mpg`, but rather the values they might actually observe? (Consider the confidence interval discussed above)\n",
    "\n",
    "_Points:_ 3"
   ]
  },
  {
   "cell_type": "markdown",
   "metadata": {},
   "source": [
    "I would predict a Mean mpg of: 13.113806771049497. However, if they are concerned by the values they actually observe I would rather tell them that 95% of the time they are going to observe values that lie between our upper and lower bounds i.e., between 11.1 and 15.12. "
   ]
  },
  {
   "cell_type": "code",
   "execution_count": 9,
   "metadata": {
    "tags": []
   },
   "outputs": [
    {
     "name": "stdout",
     "output_type": "stream",
     "text": [
      "We can say with 95% confidence that the true value of this mean MPG for a disp value of 400 is between 11.105975775409775 and 15.121637766689219\n",
      "We predict a mean mpg value of 13.113806771049497\n"
     ]
    }
   ],
   "source": [
    "# We substitute 400 in our regression equation and save it as a variable:\n",
    "\n",
    "mean_mpg = regression_(400)\n",
    "predicted_mpg = confidence_interval[confidence_interval[\"disp\"]==400]\n",
    "\n",
    "expected_mpg_lower_bound = predicted_mpg[\"mean_ci_lower\"].item()\n",
    "expected_mpg_upper_bound = predicted_mpg[\"mean_ci_upper\"].item()\n",
    "\n",
    "print('We can say with 95% confidence that the true value of this mean MPG for a disp value of 400 is between', \n",
    "      expected_mpg_lower_bound, 'and', expected_mpg_upper_bound\n",
    "     )\n",
    "\n",
    "print('We predict a mean mpg value of', mean_mpg)"
   ]
  },
  {
   "cell_type": "markdown",
   "metadata": {},
   "source": [
    "<!-- END QUESTION -->\n",
    "\n",
    "<!-- BEGIN QUESTION -->\n",
    "\n",
    "<!-- BEGIN QUESTION -->\n",
    "\n",
    "<div class='exercise'><b>Q1.5</b></div>"
   ]
  },
  {
   "cell_type": "markdown",
   "metadata": {},
   "source": [
    "Why does the 95% confidence interval for the mean predicted `mpg` become wider as we move away from the data's center? \n",
    "\n",
    "_Points:_ 3"
   ]
  },
  {
   "cell_type": "markdown",
   "metadata": {},
   "source": [
    "Recall that the formula for a confidence interval is given by:\n",
    "\n",
    "If $X_i \\sim N(\\mu,\\sigma^2)$ with known $\\sigma^2$ and unknown $\\mu$. $100(1-\\alpha)\\%$ confidence interval for $\\mu$ is.\n",
    "$$\\hat \\mu_L =\\bar x - z_{\\alpha/2} \\cdot \\sigma/\\sqrt{n},\\; \\hat \\mu_U=\\bar x + z_{\\alpha/2} \\cdot \\sigma/\\sqrt{n}$$"
   ]
  },
  {
   "cell_type": "markdown",
   "metadata": {},
   "source": [
    "This formula depends on the sample standard deviation (in the numerator), which is the square root of the variance.\n",
    "This provides the intuition as to why the 95% CI becomes wider: as we move away from the center of the data, there is higher variance, meaning that the values of $\\sigma/\\sqrt{n}\\$ become larger. This term being added and subtracted to the mean widens the bounds. In this case as well, there seem to be fewer observations as well as we move away from the center of the data. \n"
   ]
  },
  {
   "cell_type": "markdown",
   "metadata": {},
   "source": [
    "<!-- END QUESTION -->\n",
    "\n",
    "<!-- BEGIN QUESTION -->\n",
    "\n",
    "<!-- BEGIN QUESTION -->\n",
    "\n",
    "<div class='exercise'><b>Q1.6</b></div>"
   ]
  },
  {
   "cell_type": "markdown",
   "metadata": {},
   "source": [
    "An alternative way to produce the confidence intervals from 1.2 is through the bootstrap. Create 100 bootstrap samples in order to create 100 bootstrapped regression models and store their estimated intercept and slope values. Use these bootstrapped estimates to build the 95% confidence intervals as in 1.2, and recreate the plot from that question with your new bootstrapped confidence intervals. Compare this new plot to the one from 1.2.\n",
    "\n",
    "_Points:_ 5"
   ]
  },
  {
   "cell_type": "markdown",
   "metadata": {},
   "source": [
    "Compared to our previous plot, we obtain a WIDER confidence interval using bootstrap samples. This is most likely representative of a higher variance, as per our reasoning in 1.5."
   ]
  },
  {
   "cell_type": "code",
   "execution_count": 10,
   "metadata": {
    "tags": []
   },
   "outputs": [],
   "source": [
    "# Defining number of boots\n",
    "n_boots = 100\n",
    "\n",
    "# Creating empty lists to store inputs and predcitions\n",
    "inputs = []\n",
    "predictions = []\n",
    "\n",
    "# Creating empty arrays for coefficients and intercepts:\n",
    "coefficients = np.empty(n_boots,dtype='float64')\n",
    "intercepts = np.empty(n_boots,dtype='float64')\n",
    "\n",
    "\n",
    "\n",
    "constant_x = df[[\"disp\"]]\n",
    "constant_x = sm.add_constant(constant_x)\n",
    "for b in range(n_boots):\n",
    "    \n",
    "    # Performing sampling with replacement:\n",
    "    random_i = np.random.choice(df.index, replace=True, size=len(df))\n",
    "    boots_df = df.loc[random_i]\n",
    "\n",
    "    # Defining predictors and response variables: \n",
    "    y = boots_df[[\"mpg\"]].values\n",
    "    X = boots_df[[\"disp\"]]\n",
    "    X = sm.add_constant(X)\n",
    "\n",
    "    # Fitting OLS model on data:\n",
    "    simple_model = OLS(y, X).fit()\n",
    "    params = simple_model.params\n",
    "\n",
    "    # Computing predictions and appending them to a list\n",
    "    p = list(simple_model.predict(constant_x))\n",
    "    \n",
    "    # Appending predictions to input list\n",
    "    predictions.append(p)\n",
    "    # Appending inputs to input list\n",
    "    inputs.append(constant_x[\"disp\"])\n",
    "    \n",
    "# We store these predictions in a dataframe:\n",
    "predictions_generated_from_bootstraps = pd.DataFrame(data={\"disp\":np.array(inputs).flatten(),\"mpg\":np.array(predictions).flatten()})\n",
    "\n",
    "# Defining two lambda functions to compute upper and lower bounds of CI:\n",
    "\n",
    "lower_bound = lambda x : np.percentile(x,97.5)\n",
    "upper_bound = lambda x: np.percentile(x, 2.5)\n",
    "\n",
    "# Introducing 2 columns into our DataFrame with the upper and lower bounds:\n",
    "bootstrap_CI = predictions_generated_from_bootstraps.groupby(\"disp\").agg(upper_bound = (\"mpg\", upper_bound), \n",
    "                                                                                     lower_bound = (\"mpg\", lower_bound))\n",
    "\n",
    "bootstrap_CI.reset_index(inplace=True)"
   ]
  },
  {
   "cell_type": "code",
   "execution_count": 11,
   "metadata": {},
   "outputs": [
    {
     "data": {
      "image/png": "[encoded data removed]",
      "text/plain": [
       "<Figure size 432x288 with 1 Axes>"
      ]
     },
     "metadata": {
      "needs_background": "light"
     },
     "output_type": "display_data"
    }
   ],
   "source": [
    "# We start by generating a scatter plot of our observed values:\n",
    "plt.scatter(df[\"disp\"], df[\"mpg\"], label=\"Observed Values\");\n",
    "\n",
    "# Plotting the regression curve:\n",
    "\n",
    "# Defining the regression function using lambda that takes a variable x,\n",
    "# multiplies it with the models coefficients and adds an intercept (SLR formula)\n",
    "regression_ = lambda x : simple_model.params[\"disp\"] * x + simple_model.params[\"const\"]\n",
    "\n",
    "# Creating some data to plot off\n",
    "x_s = np.linspace(df[\"disp\"].min(), df[\"disp\"].max(), len(df))\n",
    "# Plot the inputs vs. predictions\n",
    "plt.plot(x_s, regression_(x_s), label=\"OLS Regression Line\", c=\"r\")\n",
    "\n",
    "# Creating our confidence intervals:\n",
    "plt.fill_between(bootstrap_CI[\"disp\"], y1=bootstrap_CI[\"lower_bound\"], y2=bootstrap_CI[\"upper_bound\"], alpha = 0.5, label=\"95% Confidence Interval\")\n",
    "\n",
    "plt.legend();\n",
    "plt.xlabel(\"Displacement\");\n",
    "plt.ylabel(\"MPG\");\n",
    "plt.suptitle(\"MPG as a function of Displacement\");"
   ]
  },
  {
   "cell_type": "markdown",
   "metadata": {},
   "source": [
    "<!-- END QUESTION -->\n",
    "\n",
    "<!-- BEGIN QUESTION -->\n",
    "\n",
    "<!-- BEGIN QUESTION -->\n",
    "\n",
    "<div class='exercise'><b>Q1.7</b></div>"
   ]
  },
  {
   "cell_type": "markdown",
   "metadata": {},
   "source": [
    "Another interval of uncertainty in a regression model is called a *prediction interval*.  A prediction interval gives a range of plausible values for a future individual observation, $\\hat{y}^*$, given a specific value of $x$ in general (`disp` here).  How should the 95% prediction interval calculated at a `disp` value of 400 compare to the corresponding 95% confidence interval for the mean predicted `mpg`?  Justify with a few sentences.\n",
    "\n",
    "_Points:_ 3"
   ]
  },
  {
   "cell_type": "markdown",
   "metadata": {},
   "source": [
    "Recall the reasoning elaborated in 1.5: the bounds of a CI depend on the variance, which increases as we get further away from the center of our observed data. Following a similar reason enables us to assert that the 95% CI for a disp value of 400 would be wider than the 95% CI for the mean predicted mpg. "
   ]
  },
  {
   "cell_type": "markdown",
   "metadata": {},
   "source": [
    "<!-- END QUESTION -->\n",
    "\n",
    "**This concludes HW3-209. Thank you!**"
   ]
  }
 ],
 "metadata": {
  "anaconda-cloud": {},
  "kernelspec": {
   "display_name": "Python 3 (ipykernel)",
   "language": "python",
   "name": "python3"
  },
  "language_info": {
   "codemirror_mode": {
    "name": "ipython",
    "version": 3
   },
   "file_extension": ".py",
   "mimetype": "text/x-python",
   "name": "python",
   "nbconvert_exporter": "python",
   "pygments_lexer": "ipython3",
   "version": "3.9.12"
  },
  "otter": {
   "OK_FORMAT": true,
   "tests": {
    "q1.1": {
     "name": "q1.1",
     "points": 1,
     "suites": [
      {
       "cases": [
        {
         "code": ">>> assert (np.isclose(simple_model.params[0], 29.599, atol=0.01))\\\n...     or (np.isclose(simple_model.params[1], 29.599, atol=0.01)),\\\n...     \"Your intercept term should be close to 29.599\"\n>>> assert (np.isclose(simple_model.params[0], -0.041, atol=0.01))\\\n...     or (np.isclose(simple_model.params[1], -0.041, atol=0.01)),\\\n...     \"Your coefficient on `disp` should be close to -0.041\"\n",
         "hidden": false,
         "locked": false
        }
       ],
       "scored": true,
       "setup": "",
       "teardown": "",
       "type": "doctest"
      }
     ]
    }
   }
  }
 },
 "nbformat": 4,
 "nbformat_minor": 4
}
